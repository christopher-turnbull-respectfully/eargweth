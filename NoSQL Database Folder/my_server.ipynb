{
 "cells": [
  {
   "cell_type": "code",
   "execution_count": 2,
   "id": "a6561f1e",
   "metadata": {},
   "outputs": [],
   "source": [
    "from pandas import read_json\n",
    "\n",
    "df = read_json('/workspaces/eargweth/NoSQL Database Folder/products.json')"
   ]
  },
  {
   "cell_type": "code",
   "execution_count": 3,
   "id": "218ace77",
   "metadata": {},
   "outputs": [
    {
     "data": {
      "application/vnd.microsoft.datawrangler.viewer.v0+json": {
       "columns": [
        {
         "name": "index",
         "rawType": "int64",
         "type": "integer"
        },
        {
         "name": "_id",
         "rawType": "object",
         "type": "string"
        },
        {
         "name": "name",
         "rawType": "object",
         "type": "string"
        },
        {
         "name": "price",
         "rawType": "float64",
         "type": "float"
        },
        {
         "name": "category",
         "rawType": "object",
         "type": "string"
        },
        {
         "name": "tags",
         "rawType": "object",
         "type": "unknown"
        },
        {
         "name": "discontinued",
         "rawType": "float64",
         "type": "float"
        }
       ],
       "ref": "3b97eb9e-6a38-4d74-8195-5cd157c634b2",
       "rows": [
        [
         "0",
         "p0",
         "Total systemic project",
         "131.73",
         "Toys",
         "['sale', 'limited', 'eco']",
         null
        ],
        [
         "1",
         "p1",
         "Compatible real-time productivity",
         "174.51",
         "Outdoors",
         "['eco', 'bestseller', 'new']",
         null
        ],
        [
         "2",
         "p2",
         "Down-sized national superstructure",
         "153.88",
         "Electronics",
         "[]",
         null
        ],
        [
         "3",
         "p3",
         "Fully-configurable cohesive Local Area Network",
         "75.0",
         "Books",
         "['new', 'limited']",
         null
        ],
        [
         "4",
         "p4",
         "Multi-tiered encompassing productivity",
         "194.76",
         "Home",
         "[]",
         null
        ],
        [
         "5",
         "p5",
         "Team-oriented next generation definition",
         "166.73",
         "Toys",
         "['bestseller', 'sale']",
         null
        ],
        [
         "6",
         "p6",
         "Synergized fresh-thinking throughput",
         "13.94",
         "Outdoors",
         "['new', 'sale']",
         "1.0"
        ],
        [
         "7",
         "p7",
         "Vision-oriented analyzing emulation",
         "79.12",
         "Home",
         "['sale', 'eco']",
         null
        ],
        [
         "8",
         "p8",
         "Automated foreground initiative",
         "135.68",
         "Electronics",
         "['bestseller']",
         null
        ],
        [
         "9",
         "p9",
         "Future-proofed asymmetric data-warehouse",
         "36.86",
         "Home",
         "['bestseller', 'sale']",
         null
        ],
        [
         "10",
         "p10",
         "Re-contextualized transitional functionalities",
         "169.36",
         "Electronics",
         "['new']",
         "1.0"
        ],
        [
         "11",
         "p11",
         "Extended solution-oriented methodology",
         "83.23",
         "Electronics",
         "['bestseller']",
         "1.0"
        ],
        [
         "12",
         "p12",
         "Object-based secondary knowledgebase",
         "66.36",
         "Home",
         "['limited', 'sale', 'bestseller']",
         null
        ],
        [
         "13",
         "p13",
         "Digitized empowering challenge",
         "150.27",
         "Toys",
         "['bestseller', 'limited']",
         "1.0"
        ],
        [
         "14",
         "p14",
         "Fully-configurable value-added open architecture",
         "82.88",
         "Outdoors",
         "['bestseller']",
         null
        ]
       ],
       "shape": {
        "columns": 6,
        "rows": 15
       }
      },
      "text/html": [
       "<div>\n",
       "<style scoped>\n",
       "    .dataframe tbody tr th:only-of-type {\n",
       "        vertical-align: middle;\n",
       "    }\n",
       "\n",
       "    .dataframe tbody tr th {\n",
       "        vertical-align: top;\n",
       "    }\n",
       "\n",
       "    .dataframe thead th {\n",
       "        text-align: right;\n",
       "    }\n",
       "</style>\n",
       "<table border=\"1\" class=\"dataframe\">\n",
       "  <thead>\n",
       "    <tr style=\"text-align: right;\">\n",
       "      <th></th>\n",
       "      <th>_id</th>\n",
       "      <th>name</th>\n",
       "      <th>price</th>\n",
       "      <th>category</th>\n",
       "      <th>tags</th>\n",
       "      <th>discontinued</th>\n",
       "    </tr>\n",
       "  </thead>\n",
       "  <tbody>\n",
       "    <tr>\n",
       "      <th>0</th>\n",
       "      <td>p0</td>\n",
       "      <td>Total systemic project</td>\n",
       "      <td>131.73</td>\n",
       "      <td>Toys</td>\n",
       "      <td>[sale, limited, eco]</td>\n",
       "      <td>NaN</td>\n",
       "    </tr>\n",
       "    <tr>\n",
       "      <th>1</th>\n",
       "      <td>p1</td>\n",
       "      <td>Compatible real-time productivity</td>\n",
       "      <td>174.51</td>\n",
       "      <td>Outdoors</td>\n",
       "      <td>[eco, bestseller, new]</td>\n",
       "      <td>NaN</td>\n",
       "    </tr>\n",
       "    <tr>\n",
       "      <th>2</th>\n",
       "      <td>p2</td>\n",
       "      <td>Down-sized national superstructure</td>\n",
       "      <td>153.88</td>\n",
       "      <td>Electronics</td>\n",
       "      <td>[]</td>\n",
       "      <td>NaN</td>\n",
       "    </tr>\n",
       "    <tr>\n",
       "      <th>3</th>\n",
       "      <td>p3</td>\n",
       "      <td>Fully-configurable cohesive Local Area Network</td>\n",
       "      <td>75.00</td>\n",
       "      <td>Books</td>\n",
       "      <td>[new, limited]</td>\n",
       "      <td>NaN</td>\n",
       "    </tr>\n",
       "    <tr>\n",
       "      <th>4</th>\n",
       "      <td>p4</td>\n",
       "      <td>Multi-tiered encompassing productivity</td>\n",
       "      <td>194.76</td>\n",
       "      <td>Home</td>\n",
       "      <td>[]</td>\n",
       "      <td>NaN</td>\n",
       "    </tr>\n",
       "    <tr>\n",
       "      <th>5</th>\n",
       "      <td>p5</td>\n",
       "      <td>Team-oriented next generation definition</td>\n",
       "      <td>166.73</td>\n",
       "      <td>Toys</td>\n",
       "      <td>[bestseller, sale]</td>\n",
       "      <td>NaN</td>\n",
       "    </tr>\n",
       "    <tr>\n",
       "      <th>6</th>\n",
       "      <td>p6</td>\n",
       "      <td>Synergized fresh-thinking throughput</td>\n",
       "      <td>13.94</td>\n",
       "      <td>Outdoors</td>\n",
       "      <td>[new, sale]</td>\n",
       "      <td>1.0</td>\n",
       "    </tr>\n",
       "    <tr>\n",
       "      <th>7</th>\n",
       "      <td>p7</td>\n",
       "      <td>Vision-oriented analyzing emulation</td>\n",
       "      <td>79.12</td>\n",
       "      <td>Home</td>\n",
       "      <td>[sale, eco]</td>\n",
       "      <td>NaN</td>\n",
       "    </tr>\n",
       "    <tr>\n",
       "      <th>8</th>\n",
       "      <td>p8</td>\n",
       "      <td>Automated foreground initiative</td>\n",
       "      <td>135.68</td>\n",
       "      <td>Electronics</td>\n",
       "      <td>[bestseller]</td>\n",
       "      <td>NaN</td>\n",
       "    </tr>\n",
       "    <tr>\n",
       "      <th>9</th>\n",
       "      <td>p9</td>\n",
       "      <td>Future-proofed asymmetric data-warehouse</td>\n",
       "      <td>36.86</td>\n",
       "      <td>Home</td>\n",
       "      <td>[bestseller, sale]</td>\n",
       "      <td>NaN</td>\n",
       "    </tr>\n",
       "    <tr>\n",
       "      <th>10</th>\n",
       "      <td>p10</td>\n",
       "      <td>Re-contextualized transitional functionalities</td>\n",
       "      <td>169.36</td>\n",
       "      <td>Electronics</td>\n",
       "      <td>[new]</td>\n",
       "      <td>1.0</td>\n",
       "    </tr>\n",
       "    <tr>\n",
       "      <th>11</th>\n",
       "      <td>p11</td>\n",
       "      <td>Extended solution-oriented methodology</td>\n",
       "      <td>83.23</td>\n",
       "      <td>Electronics</td>\n",
       "      <td>[bestseller]</td>\n",
       "      <td>1.0</td>\n",
       "    </tr>\n",
       "    <tr>\n",
       "      <th>12</th>\n",
       "      <td>p12</td>\n",
       "      <td>Object-based secondary knowledgebase</td>\n",
       "      <td>66.36</td>\n",
       "      <td>Home</td>\n",
       "      <td>[limited, sale, bestseller]</td>\n",
       "      <td>NaN</td>\n",
       "    </tr>\n",
       "    <tr>\n",
       "      <th>13</th>\n",
       "      <td>p13</td>\n",
       "      <td>Digitized empowering challenge</td>\n",
       "      <td>150.27</td>\n",
       "      <td>Toys</td>\n",
       "      <td>[bestseller, limited]</td>\n",
       "      <td>1.0</td>\n",
       "    </tr>\n",
       "    <tr>\n",
       "      <th>14</th>\n",
       "      <td>p14</td>\n",
       "      <td>Fully-configurable value-added open architecture</td>\n",
       "      <td>82.88</td>\n",
       "      <td>Outdoors</td>\n",
       "      <td>[bestseller]</td>\n",
       "      <td>NaN</td>\n",
       "    </tr>\n",
       "  </tbody>\n",
       "</table>\n",
       "</div>"
      ],
      "text/plain": [
       "    _id                                              name   price  \\\n",
       "0    p0                            Total systemic project  131.73   \n",
       "1    p1                 Compatible real-time productivity  174.51   \n",
       "2    p2                Down-sized national superstructure  153.88   \n",
       "3    p3    Fully-configurable cohesive Local Area Network   75.00   \n",
       "4    p4            Multi-tiered encompassing productivity  194.76   \n",
       "5    p5          Team-oriented next generation definition  166.73   \n",
       "6    p6              Synergized fresh-thinking throughput   13.94   \n",
       "7    p7               Vision-oriented analyzing emulation   79.12   \n",
       "8    p8                   Automated foreground initiative  135.68   \n",
       "9    p9          Future-proofed asymmetric data-warehouse   36.86   \n",
       "10  p10    Re-contextualized transitional functionalities  169.36   \n",
       "11  p11            Extended solution-oriented methodology   83.23   \n",
       "12  p12              Object-based secondary knowledgebase   66.36   \n",
       "13  p13                    Digitized empowering challenge  150.27   \n",
       "14  p14  Fully-configurable value-added open architecture   82.88   \n",
       "\n",
       "       category                         tags  discontinued  \n",
       "0          Toys         [sale, limited, eco]           NaN  \n",
       "1      Outdoors       [eco, bestseller, new]           NaN  \n",
       "2   Electronics                           []           NaN  \n",
       "3         Books               [new, limited]           NaN  \n",
       "4          Home                           []           NaN  \n",
       "5          Toys           [bestseller, sale]           NaN  \n",
       "6      Outdoors                  [new, sale]           1.0  \n",
       "7          Home                  [sale, eco]           NaN  \n",
       "8   Electronics                 [bestseller]           NaN  \n",
       "9          Home           [bestseller, sale]           NaN  \n",
       "10  Electronics                        [new]           1.0  \n",
       "11  Electronics                 [bestseller]           1.0  \n",
       "12         Home  [limited, sale, bestseller]           NaN  \n",
       "13         Toys        [bestseller, limited]           1.0  \n",
       "14     Outdoors                 [bestseller]           NaN  "
      ]
     },
     "metadata": {},
     "output_type": "display_data"
    }
   ],
   "source": [
    "display(df)"
   ]
  },
  {
   "cell_type": "code",
   "execution_count": 4,
   "id": "31ecea2b",
   "metadata": {},
   "outputs": [
    {
     "data": {
      "application/vnd.microsoft.datawrangler.viewer.v0+json": {
       "columns": [
        {
         "name": "index",
         "rawType": "int64",
         "type": "integer"
        },
        {
         "name": "tags",
         "rawType": "object",
         "type": "unknown"
        }
       ],
       "ref": "89f3a1d7-4e5b-4b85-b027-1d4c11480400",
       "rows": [
        [
         "0",
         "['sale', 'limited', 'eco']"
        ],
        [
         "1",
         "['eco', 'bestseller', 'new']"
        ],
        [
         "2",
         "[]"
        ],
        [
         "3",
         "['new', 'limited']"
        ],
        [
         "4",
         "[]"
        ],
        [
         "5",
         "['bestseller', 'sale']"
        ],
        [
         "6",
         "['new', 'sale']"
        ],
        [
         "7",
         "['sale', 'eco']"
        ],
        [
         "8",
         "['bestseller']"
        ],
        [
         "9",
         "['bestseller', 'sale']"
        ],
        [
         "10",
         "['new']"
        ],
        [
         "11",
         "['bestseller']"
        ],
        [
         "12",
         "['limited', 'sale', 'bestseller']"
        ],
        [
         "13",
         "['bestseller', 'limited']"
        ],
        [
         "14",
         "['bestseller']"
        ]
       ],
       "shape": {
        "columns": 1,
        "rows": 15
       }
      },
      "text/plain": [
       "0            [sale, limited, eco]\n",
       "1          [eco, bestseller, new]\n",
       "2                              []\n",
       "3                  [new, limited]\n",
       "4                              []\n",
       "5              [bestseller, sale]\n",
       "6                     [new, sale]\n",
       "7                     [sale, eco]\n",
       "8                    [bestseller]\n",
       "9              [bestseller, sale]\n",
       "10                          [new]\n",
       "11                   [bestseller]\n",
       "12    [limited, sale, bestseller]\n",
       "13          [bestseller, limited]\n",
       "14                   [bestseller]\n",
       "Name: tags, dtype: object"
      ]
     },
     "metadata": {},
     "output_type": "display_data"
    },
    {
     "data": {
      "application/vnd.microsoft.datawrangler.viewer.v0+json": {
       "columns": [
        {
         "name": "index",
         "rawType": "int64",
         "type": "integer"
        },
        {
         "name": "0",
         "rawType": "object",
         "type": "unknown"
        },
        {
         "name": "1",
         "rawType": "object",
         "type": "unknown"
        },
        {
         "name": "2",
         "rawType": "object",
         "type": "unknown"
        }
       ],
       "ref": "201b023f-0b21-49d4-b04c-66b01442da53",
       "rows": [
        [
         "0",
         "sale",
         "limited",
         "eco"
        ],
        [
         "1",
         "eco",
         "bestseller",
         "new"
        ],
        [
         "2",
         null,
         null,
         null
        ],
        [
         "3",
         "new",
         "limited",
         null
        ],
        [
         "4",
         null,
         null,
         null
        ],
        [
         "5",
         "bestseller",
         "sale",
         null
        ],
        [
         "6",
         "new",
         "sale",
         null
        ],
        [
         "7",
         "sale",
         "eco",
         null
        ],
        [
         "8",
         "bestseller",
         null,
         null
        ],
        [
         "9",
         "bestseller",
         "sale",
         null
        ],
        [
         "10",
         "new",
         null,
         null
        ],
        [
         "11",
         "bestseller",
         null,
         null
        ],
        [
         "12",
         "limited",
         "sale",
         "bestseller"
        ],
        [
         "13",
         "bestseller",
         "limited",
         null
        ],
        [
         "14",
         "bestseller",
         null,
         null
        ]
       ],
       "shape": {
        "columns": 3,
        "rows": 15
       }
      },
      "text/html": [
       "<div>\n",
       "<style scoped>\n",
       "    .dataframe tbody tr th:only-of-type {\n",
       "        vertical-align: middle;\n",
       "    }\n",
       "\n",
       "    .dataframe tbody tr th {\n",
       "        vertical-align: top;\n",
       "    }\n",
       "\n",
       "    .dataframe thead th {\n",
       "        text-align: right;\n",
       "    }\n",
       "</style>\n",
       "<table border=\"1\" class=\"dataframe\">\n",
       "  <thead>\n",
       "    <tr style=\"text-align: right;\">\n",
       "      <th></th>\n",
       "      <th>0</th>\n",
       "      <th>1</th>\n",
       "      <th>2</th>\n",
       "    </tr>\n",
       "  </thead>\n",
       "  <tbody>\n",
       "    <tr>\n",
       "      <th>0</th>\n",
       "      <td>sale</td>\n",
       "      <td>limited</td>\n",
       "      <td>eco</td>\n",
       "    </tr>\n",
       "    <tr>\n",
       "      <th>1</th>\n",
       "      <td>eco</td>\n",
       "      <td>bestseller</td>\n",
       "      <td>new</td>\n",
       "    </tr>\n",
       "    <tr>\n",
       "      <th>2</th>\n",
       "      <td>None</td>\n",
       "      <td>None</td>\n",
       "      <td>None</td>\n",
       "    </tr>\n",
       "    <tr>\n",
       "      <th>3</th>\n",
       "      <td>new</td>\n",
       "      <td>limited</td>\n",
       "      <td>None</td>\n",
       "    </tr>\n",
       "    <tr>\n",
       "      <th>4</th>\n",
       "      <td>None</td>\n",
       "      <td>None</td>\n",
       "      <td>None</td>\n",
       "    </tr>\n",
       "    <tr>\n",
       "      <th>5</th>\n",
       "      <td>bestseller</td>\n",
       "      <td>sale</td>\n",
       "      <td>None</td>\n",
       "    </tr>\n",
       "    <tr>\n",
       "      <th>6</th>\n",
       "      <td>new</td>\n",
       "      <td>sale</td>\n",
       "      <td>None</td>\n",
       "    </tr>\n",
       "    <tr>\n",
       "      <th>7</th>\n",
       "      <td>sale</td>\n",
       "      <td>eco</td>\n",
       "      <td>None</td>\n",
       "    </tr>\n",
       "    <tr>\n",
       "      <th>8</th>\n",
       "      <td>bestseller</td>\n",
       "      <td>None</td>\n",
       "      <td>None</td>\n",
       "    </tr>\n",
       "    <tr>\n",
       "      <th>9</th>\n",
       "      <td>bestseller</td>\n",
       "      <td>sale</td>\n",
       "      <td>None</td>\n",
       "    </tr>\n",
       "    <tr>\n",
       "      <th>10</th>\n",
       "      <td>new</td>\n",
       "      <td>None</td>\n",
       "      <td>None</td>\n",
       "    </tr>\n",
       "    <tr>\n",
       "      <th>11</th>\n",
       "      <td>bestseller</td>\n",
       "      <td>None</td>\n",
       "      <td>None</td>\n",
       "    </tr>\n",
       "    <tr>\n",
       "      <th>12</th>\n",
       "      <td>limited</td>\n",
       "      <td>sale</td>\n",
       "      <td>bestseller</td>\n",
       "    </tr>\n",
       "    <tr>\n",
       "      <th>13</th>\n",
       "      <td>bestseller</td>\n",
       "      <td>limited</td>\n",
       "      <td>None</td>\n",
       "    </tr>\n",
       "    <tr>\n",
       "      <th>14</th>\n",
       "      <td>bestseller</td>\n",
       "      <td>None</td>\n",
       "      <td>None</td>\n",
       "    </tr>\n",
       "  </tbody>\n",
       "</table>\n",
       "</div>"
      ],
      "text/plain": [
       "             0           1           2\n",
       "0         sale     limited         eco\n",
       "1          eco  bestseller         new\n",
       "2         None        None        None\n",
       "3          new     limited        None\n",
       "4         None        None        None\n",
       "5   bestseller        sale        None\n",
       "6          new        sale        None\n",
       "7         sale         eco        None\n",
       "8   bestseller        None        None\n",
       "9   bestseller        sale        None\n",
       "10         new        None        None\n",
       "11  bestseller        None        None\n",
       "12     limited        sale  bestseller\n",
       "13  bestseller     limited        None\n",
       "14  bestseller        None        None"
      ]
     },
     "metadata": {},
     "output_type": "display_data"
    }
   ],
   "source": [
    "column = df['tags']\n",
    "\n",
    "display(column)\n",
    "\n",
    "from pandas import DataFrame\n",
    "\n",
    "column = list(column)\n",
    "\n",
    "flattened_subframe = DataFrame(column)\n",
    "\n",
    "\n",
    "\n",
    "\n",
    "display(flattened_subframe)"
   ]
  },
  {
   "cell_type": "code",
   "execution_count": 5,
   "id": "190ae049",
   "metadata": {},
   "outputs": [
    {
     "data": {
      "application/vnd.microsoft.datawrangler.viewer.v0+json": {
       "columns": [
        {
         "name": "index",
         "rawType": "int64",
         "type": "integer"
        },
        {
         "name": "0",
         "rawType": "object",
         "type": "unknown"
        },
        {
         "name": "1",
         "rawType": "object",
         "type": "unknown"
        },
        {
         "name": "2",
         "rawType": "object",
         "type": "unknown"
        }
       ],
       "ref": "53307c03-7d26-4eae-b262-f9b4ed51c2c0",
       "rows": [
        [
         "0",
         "sale",
         "limited",
         "eco"
        ],
        [
         "1",
         "eco",
         "bestseller",
         "new"
        ],
        [
         "2",
         null,
         null,
         null
        ],
        [
         "3",
         "new",
         "limited",
         null
        ],
        [
         "4",
         null,
         null,
         null
        ],
        [
         "5",
         "bestseller",
         "sale",
         null
        ],
        [
         "6",
         "new",
         "sale",
         null
        ],
        [
         "7",
         "sale",
         "eco",
         null
        ],
        [
         "8",
         "bestseller",
         null,
         null
        ],
        [
         "9",
         "bestseller",
         "sale",
         null
        ],
        [
         "10",
         "new",
         null,
         null
        ],
        [
         "11",
         "bestseller",
         null,
         null
        ],
        [
         "12",
         "limited",
         "sale",
         "bestseller"
        ],
        [
         "13",
         "bestseller",
         "limited",
         null
        ],
        [
         "14",
         "bestseller",
         null,
         null
        ]
       ],
       "shape": {
        "columns": 3,
        "rows": 15
       }
      },
      "text/html": [
       "<div>\n",
       "<style scoped>\n",
       "    .dataframe tbody tr th:only-of-type {\n",
       "        vertical-align: middle;\n",
       "    }\n",
       "\n",
       "    .dataframe tbody tr th {\n",
       "        vertical-align: top;\n",
       "    }\n",
       "\n",
       "    .dataframe thead th {\n",
       "        text-align: right;\n",
       "    }\n",
       "</style>\n",
       "<table border=\"1\" class=\"dataframe\">\n",
       "  <thead>\n",
       "    <tr style=\"text-align: right;\">\n",
       "      <th></th>\n",
       "      <th>0</th>\n",
       "      <th>1</th>\n",
       "      <th>2</th>\n",
       "    </tr>\n",
       "  </thead>\n",
       "  <tbody>\n",
       "    <tr>\n",
       "      <th>0</th>\n",
       "      <td>sale</td>\n",
       "      <td>limited</td>\n",
       "      <td>eco</td>\n",
       "    </tr>\n",
       "    <tr>\n",
       "      <th>1</th>\n",
       "      <td>eco</td>\n",
       "      <td>bestseller</td>\n",
       "      <td>new</td>\n",
       "    </tr>\n",
       "    <tr>\n",
       "      <th>2</th>\n",
       "      <td>None</td>\n",
       "      <td>None</td>\n",
       "      <td>None</td>\n",
       "    </tr>\n",
       "    <tr>\n",
       "      <th>3</th>\n",
       "      <td>new</td>\n",
       "      <td>limited</td>\n",
       "      <td>None</td>\n",
       "    </tr>\n",
       "    <tr>\n",
       "      <th>4</th>\n",
       "      <td>None</td>\n",
       "      <td>None</td>\n",
       "      <td>None</td>\n",
       "    </tr>\n",
       "    <tr>\n",
       "      <th>5</th>\n",
       "      <td>bestseller</td>\n",
       "      <td>sale</td>\n",
       "      <td>None</td>\n",
       "    </tr>\n",
       "    <tr>\n",
       "      <th>6</th>\n",
       "      <td>new</td>\n",
       "      <td>sale</td>\n",
       "      <td>None</td>\n",
       "    </tr>\n",
       "    <tr>\n",
       "      <th>7</th>\n",
       "      <td>sale</td>\n",
       "      <td>eco</td>\n",
       "      <td>None</td>\n",
       "    </tr>\n",
       "    <tr>\n",
       "      <th>8</th>\n",
       "      <td>bestseller</td>\n",
       "      <td>None</td>\n",
       "      <td>None</td>\n",
       "    </tr>\n",
       "    <tr>\n",
       "      <th>9</th>\n",
       "      <td>bestseller</td>\n",
       "      <td>sale</td>\n",
       "      <td>None</td>\n",
       "    </tr>\n",
       "    <tr>\n",
       "      <th>10</th>\n",
       "      <td>new</td>\n",
       "      <td>None</td>\n",
       "      <td>None</td>\n",
       "    </tr>\n",
       "    <tr>\n",
       "      <th>11</th>\n",
       "      <td>bestseller</td>\n",
       "      <td>None</td>\n",
       "      <td>None</td>\n",
       "    </tr>\n",
       "    <tr>\n",
       "      <th>12</th>\n",
       "      <td>limited</td>\n",
       "      <td>sale</td>\n",
       "      <td>bestseller</td>\n",
       "    </tr>\n",
       "    <tr>\n",
       "      <th>13</th>\n",
       "      <td>bestseller</td>\n",
       "      <td>limited</td>\n",
       "      <td>None</td>\n",
       "    </tr>\n",
       "    <tr>\n",
       "      <th>14</th>\n",
       "      <td>bestseller</td>\n",
       "      <td>None</td>\n",
       "      <td>None</td>\n",
       "    </tr>\n",
       "  </tbody>\n",
       "</table>\n",
       "</div>"
      ],
      "text/plain": [
       "             0           1           2\n",
       "0         sale     limited         eco\n",
       "1          eco  bestseller         new\n",
       "2         None        None        None\n",
       "3          new     limited        None\n",
       "4         None        None        None\n",
       "5   bestseller        sale        None\n",
       "6          new        sale        None\n",
       "7         sale         eco        None\n",
       "8   bestseller        None        None\n",
       "9   bestseller        sale        None\n",
       "10         new        None        None\n",
       "11  bestseller        None        None\n",
       "12     limited        sale  bestseller\n",
       "13  bestseller     limited        None\n",
       "14  bestseller        None        None"
      ]
     },
     "metadata": {},
     "output_type": "display_data"
    },
    {
     "data": {
      "application/vnd.microsoft.datawrangler.viewer.v0+json": {
       "columns": [
        {
         "name": "index",
         "rawType": "int64",
         "type": "integer"
        },
        {
         "name": "0",
         "rawType": "object",
         "type": "unknown"
        },
        {
         "name": "1",
         "rawType": "object",
         "type": "unknown"
        },
        {
         "name": "2",
         "rawType": "object",
         "type": "unknown"
        },
        {
         "name": "tags 0",
         "rawType": "object",
         "type": "unknown"
        }
       ],
       "ref": "166c7636-f666-476b-8bad-2b9f4a0e8c5f",
       "rows": [
        [
         "0",
         "sale",
         "limited",
         "eco",
         "sale"
        ],
        [
         "1",
         "eco",
         "bestseller",
         "new",
         "eco"
        ],
        [
         "2",
         null,
         null,
         null,
         null
        ],
        [
         "3",
         "new",
         "limited",
         null,
         "new"
        ],
        [
         "4",
         null,
         null,
         null,
         null
        ],
        [
         "5",
         "bestseller",
         "sale",
         null,
         "bestseller"
        ],
        [
         "6",
         "new",
         "sale",
         null,
         "new"
        ],
        [
         "7",
         "sale",
         "eco",
         null,
         "sale"
        ],
        [
         "8",
         "bestseller",
         null,
         null,
         "bestseller"
        ],
        [
         "9",
         "bestseller",
         "sale",
         null,
         "bestseller"
        ],
        [
         "10",
         "new",
         null,
         null,
         "new"
        ],
        [
         "11",
         "bestseller",
         null,
         null,
         "bestseller"
        ],
        [
         "12",
         "limited",
         "sale",
         "bestseller",
         "limited"
        ],
        [
         "13",
         "bestseller",
         "limited",
         null,
         "bestseller"
        ],
        [
         "14",
         "bestseller",
         null,
         null,
         "bestseller"
        ]
       ],
       "shape": {
        "columns": 4,
        "rows": 15
       }
      },
      "text/html": [
       "<div>\n",
       "<style scoped>\n",
       "    .dataframe tbody tr th:only-of-type {\n",
       "        vertical-align: middle;\n",
       "    }\n",
       "\n",
       "    .dataframe tbody tr th {\n",
       "        vertical-align: top;\n",
       "    }\n",
       "\n",
       "    .dataframe thead th {\n",
       "        text-align: right;\n",
       "    }\n",
       "</style>\n",
       "<table border=\"1\" class=\"dataframe\">\n",
       "  <thead>\n",
       "    <tr style=\"text-align: right;\">\n",
       "      <th></th>\n",
       "      <th>0</th>\n",
       "      <th>1</th>\n",
       "      <th>2</th>\n",
       "      <th>tags 0</th>\n",
       "    </tr>\n",
       "  </thead>\n",
       "  <tbody>\n",
       "    <tr>\n",
       "      <th>0</th>\n",
       "      <td>sale</td>\n",
       "      <td>limited</td>\n",
       "      <td>eco</td>\n",
       "      <td>sale</td>\n",
       "    </tr>\n",
       "    <tr>\n",
       "      <th>1</th>\n",
       "      <td>eco</td>\n",
       "      <td>bestseller</td>\n",
       "      <td>new</td>\n",
       "      <td>eco</td>\n",
       "    </tr>\n",
       "    <tr>\n",
       "      <th>2</th>\n",
       "      <td>None</td>\n",
       "      <td>None</td>\n",
       "      <td>None</td>\n",
       "      <td>None</td>\n",
       "    </tr>\n",
       "    <tr>\n",
       "      <th>3</th>\n",
       "      <td>new</td>\n",
       "      <td>limited</td>\n",
       "      <td>None</td>\n",
       "      <td>new</td>\n",
       "    </tr>\n",
       "    <tr>\n",
       "      <th>4</th>\n",
       "      <td>None</td>\n",
       "      <td>None</td>\n",
       "      <td>None</td>\n",
       "      <td>None</td>\n",
       "    </tr>\n",
       "    <tr>\n",
       "      <th>5</th>\n",
       "      <td>bestseller</td>\n",
       "      <td>sale</td>\n",
       "      <td>None</td>\n",
       "      <td>bestseller</td>\n",
       "    </tr>\n",
       "    <tr>\n",
       "      <th>6</th>\n",
       "      <td>new</td>\n",
       "      <td>sale</td>\n",
       "      <td>None</td>\n",
       "      <td>new</td>\n",
       "    </tr>\n",
       "    <tr>\n",
       "      <th>7</th>\n",
       "      <td>sale</td>\n",
       "      <td>eco</td>\n",
       "      <td>None</td>\n",
       "      <td>sale</td>\n",
       "    </tr>\n",
       "    <tr>\n",
       "      <th>8</th>\n",
       "      <td>bestseller</td>\n",
       "      <td>None</td>\n",
       "      <td>None</td>\n",
       "      <td>bestseller</td>\n",
       "    </tr>\n",
       "    <tr>\n",
       "      <th>9</th>\n",
       "      <td>bestseller</td>\n",
       "      <td>sale</td>\n",
       "      <td>None</td>\n",
       "      <td>bestseller</td>\n",
       "    </tr>\n",
       "    <tr>\n",
       "      <th>10</th>\n",
       "      <td>new</td>\n",
       "      <td>None</td>\n",
       "      <td>None</td>\n",
       "      <td>new</td>\n",
       "    </tr>\n",
       "    <tr>\n",
       "      <th>11</th>\n",
       "      <td>bestseller</td>\n",
       "      <td>None</td>\n",
       "      <td>None</td>\n",
       "      <td>bestseller</td>\n",
       "    </tr>\n",
       "    <tr>\n",
       "      <th>12</th>\n",
       "      <td>limited</td>\n",
       "      <td>sale</td>\n",
       "      <td>bestseller</td>\n",
       "      <td>limited</td>\n",
       "    </tr>\n",
       "    <tr>\n",
       "      <th>13</th>\n",
       "      <td>bestseller</td>\n",
       "      <td>limited</td>\n",
       "      <td>None</td>\n",
       "      <td>bestseller</td>\n",
       "    </tr>\n",
       "    <tr>\n",
       "      <th>14</th>\n",
       "      <td>bestseller</td>\n",
       "      <td>None</td>\n",
       "      <td>None</td>\n",
       "      <td>bestseller</td>\n",
       "    </tr>\n",
       "  </tbody>\n",
       "</table>\n",
       "</div>"
      ],
      "text/plain": [
       "             0           1           2      tags 0\n",
       "0         sale     limited         eco        sale\n",
       "1          eco  bestseller         new         eco\n",
       "2         None        None        None        None\n",
       "3          new     limited        None         new\n",
       "4         None        None        None        None\n",
       "5   bestseller        sale        None  bestseller\n",
       "6          new        sale        None         new\n",
       "7         sale         eco        None        sale\n",
       "8   bestseller        None        None  bestseller\n",
       "9   bestseller        sale        None  bestseller\n",
       "10         new        None        None         new\n",
       "11  bestseller        None        None  bestseller\n",
       "12     limited        sale  bestseller     limited\n",
       "13  bestseller     limited        None  bestseller\n",
       "14  bestseller        None        None  bestseller"
      ]
     },
     "metadata": {},
     "output_type": "display_data"
    },
    {
     "data": {
      "application/vnd.microsoft.datawrangler.viewer.v0+json": {
       "columns": [
        {
         "name": "index",
         "rawType": "int64",
         "type": "integer"
        },
        {
         "name": "1",
         "rawType": "object",
         "type": "unknown"
        },
        {
         "name": "2",
         "rawType": "object",
         "type": "unknown"
        },
        {
         "name": "tags 0",
         "rawType": "object",
         "type": "unknown"
        }
       ],
       "ref": "95384480-da0c-4a38-9060-55cde852cb5c",
       "rows": [
        [
         "0",
         "limited",
         "eco",
         "sale"
        ],
        [
         "1",
         "bestseller",
         "new",
         "eco"
        ],
        [
         "2",
         null,
         null,
         null
        ],
        [
         "3",
         "limited",
         null,
         "new"
        ],
        [
         "4",
         null,
         null,
         null
        ],
        [
         "5",
         "sale",
         null,
         "bestseller"
        ],
        [
         "6",
         "sale",
         null,
         "new"
        ],
        [
         "7",
         "eco",
         null,
         "sale"
        ],
        [
         "8",
         null,
         null,
         "bestseller"
        ],
        [
         "9",
         "sale",
         null,
         "bestseller"
        ],
        [
         "10",
         null,
         null,
         "new"
        ],
        [
         "11",
         null,
         null,
         "bestseller"
        ],
        [
         "12",
         "sale",
         "bestseller",
         "limited"
        ],
        [
         "13",
         "limited",
         null,
         "bestseller"
        ],
        [
         "14",
         null,
         null,
         "bestseller"
        ]
       ],
       "shape": {
        "columns": 3,
        "rows": 15
       }
      },
      "text/html": [
       "<div>\n",
       "<style scoped>\n",
       "    .dataframe tbody tr th:only-of-type {\n",
       "        vertical-align: middle;\n",
       "    }\n",
       "\n",
       "    .dataframe tbody tr th {\n",
       "        vertical-align: top;\n",
       "    }\n",
       "\n",
       "    .dataframe thead th {\n",
       "        text-align: right;\n",
       "    }\n",
       "</style>\n",
       "<table border=\"1\" class=\"dataframe\">\n",
       "  <thead>\n",
       "    <tr style=\"text-align: right;\">\n",
       "      <th></th>\n",
       "      <th>1</th>\n",
       "      <th>2</th>\n",
       "      <th>tags 0</th>\n",
       "    </tr>\n",
       "  </thead>\n",
       "  <tbody>\n",
       "    <tr>\n",
       "      <th>0</th>\n",
       "      <td>limited</td>\n",
       "      <td>eco</td>\n",
       "      <td>sale</td>\n",
       "    </tr>\n",
       "    <tr>\n",
       "      <th>1</th>\n",
       "      <td>bestseller</td>\n",
       "      <td>new</td>\n",
       "      <td>eco</td>\n",
       "    </tr>\n",
       "    <tr>\n",
       "      <th>2</th>\n",
       "      <td>None</td>\n",
       "      <td>None</td>\n",
       "      <td>None</td>\n",
       "    </tr>\n",
       "    <tr>\n",
       "      <th>3</th>\n",
       "      <td>limited</td>\n",
       "      <td>None</td>\n",
       "      <td>new</td>\n",
       "    </tr>\n",
       "    <tr>\n",
       "      <th>4</th>\n",
       "      <td>None</td>\n",
       "      <td>None</td>\n",
       "      <td>None</td>\n",
       "    </tr>\n",
       "    <tr>\n",
       "      <th>5</th>\n",
       "      <td>sale</td>\n",
       "      <td>None</td>\n",
       "      <td>bestseller</td>\n",
       "    </tr>\n",
       "    <tr>\n",
       "      <th>6</th>\n",
       "      <td>sale</td>\n",
       "      <td>None</td>\n",
       "      <td>new</td>\n",
       "    </tr>\n",
       "    <tr>\n",
       "      <th>7</th>\n",
       "      <td>eco</td>\n",
       "      <td>None</td>\n",
       "      <td>sale</td>\n",
       "    </tr>\n",
       "    <tr>\n",
       "      <th>8</th>\n",
       "      <td>None</td>\n",
       "      <td>None</td>\n",
       "      <td>bestseller</td>\n",
       "    </tr>\n",
       "    <tr>\n",
       "      <th>9</th>\n",
       "      <td>sale</td>\n",
       "      <td>None</td>\n",
       "      <td>bestseller</td>\n",
       "    </tr>\n",
       "    <tr>\n",
       "      <th>10</th>\n",
       "      <td>None</td>\n",
       "      <td>None</td>\n",
       "      <td>new</td>\n",
       "    </tr>\n",
       "    <tr>\n",
       "      <th>11</th>\n",
       "      <td>None</td>\n",
       "      <td>None</td>\n",
       "      <td>bestseller</td>\n",
       "    </tr>\n",
       "    <tr>\n",
       "      <th>12</th>\n",
       "      <td>sale</td>\n",
       "      <td>bestseller</td>\n",
       "      <td>limited</td>\n",
       "    </tr>\n",
       "    <tr>\n",
       "      <th>13</th>\n",
       "      <td>limited</td>\n",
       "      <td>None</td>\n",
       "      <td>bestseller</td>\n",
       "    </tr>\n",
       "    <tr>\n",
       "      <th>14</th>\n",
       "      <td>None</td>\n",
       "      <td>None</td>\n",
       "      <td>bestseller</td>\n",
       "    </tr>\n",
       "  </tbody>\n",
       "</table>\n",
       "</div>"
      ],
      "text/plain": [
       "             1           2      tags 0\n",
       "0      limited         eco        sale\n",
       "1   bestseller         new         eco\n",
       "2         None        None        None\n",
       "3      limited        None         new\n",
       "4         None        None        None\n",
       "5         sale        None  bestseller\n",
       "6         sale        None         new\n",
       "7          eco        None        sale\n",
       "8         None        None  bestseller\n",
       "9         sale        None  bestseller\n",
       "10        None        None         new\n",
       "11        None        None  bestseller\n",
       "12        sale  bestseller     limited\n",
       "13     limited        None  bestseller\n",
       "14        None        None  bestseller"
      ]
     },
     "metadata": {},
     "output_type": "display_data"
    },
    {
     "data": {
      "application/vnd.microsoft.datawrangler.viewer.v0+json": {
       "columns": [
        {
         "name": "index",
         "rawType": "int64",
         "type": "integer"
        },
        {
         "name": "1",
         "rawType": "object",
         "type": "unknown"
        },
        {
         "name": "2",
         "rawType": "object",
         "type": "unknown"
        },
        {
         "name": "tags 0",
         "rawType": "object",
         "type": "unknown"
        },
        {
         "name": "tags 1",
         "rawType": "object",
         "type": "unknown"
        }
       ],
       "ref": "b2853ef5-6906-452d-a307-2242fc3bbb40",
       "rows": [
        [
         "0",
         "limited",
         "eco",
         "sale",
         "limited"
        ],
        [
         "1",
         "bestseller",
         "new",
         "eco",
         "bestseller"
        ],
        [
         "2",
         null,
         null,
         null,
         null
        ],
        [
         "3",
         "limited",
         null,
         "new",
         "limited"
        ],
        [
         "4",
         null,
         null,
         null,
         null
        ],
        [
         "5",
         "sale",
         null,
         "bestseller",
         "sale"
        ],
        [
         "6",
         "sale",
         null,
         "new",
         "sale"
        ],
        [
         "7",
         "eco",
         null,
         "sale",
         "eco"
        ],
        [
         "8",
         null,
         null,
         "bestseller",
         null
        ],
        [
         "9",
         "sale",
         null,
         "bestseller",
         "sale"
        ],
        [
         "10",
         null,
         null,
         "new",
         null
        ],
        [
         "11",
         null,
         null,
         "bestseller",
         null
        ],
        [
         "12",
         "sale",
         "bestseller",
         "limited",
         "sale"
        ],
        [
         "13",
         "limited",
         null,
         "bestseller",
         "limited"
        ],
        [
         "14",
         null,
         null,
         "bestseller",
         null
        ]
       ],
       "shape": {
        "columns": 4,
        "rows": 15
       }
      },
      "text/html": [
       "<div>\n",
       "<style scoped>\n",
       "    .dataframe tbody tr th:only-of-type {\n",
       "        vertical-align: middle;\n",
       "    }\n",
       "\n",
       "    .dataframe tbody tr th {\n",
       "        vertical-align: top;\n",
       "    }\n",
       "\n",
       "    .dataframe thead th {\n",
       "        text-align: right;\n",
       "    }\n",
       "</style>\n",
       "<table border=\"1\" class=\"dataframe\">\n",
       "  <thead>\n",
       "    <tr style=\"text-align: right;\">\n",
       "      <th></th>\n",
       "      <th>1</th>\n",
       "      <th>2</th>\n",
       "      <th>tags 0</th>\n",
       "      <th>tags 1</th>\n",
       "    </tr>\n",
       "  </thead>\n",
       "  <tbody>\n",
       "    <tr>\n",
       "      <th>0</th>\n",
       "      <td>limited</td>\n",
       "      <td>eco</td>\n",
       "      <td>sale</td>\n",
       "      <td>limited</td>\n",
       "    </tr>\n",
       "    <tr>\n",
       "      <th>1</th>\n",
       "      <td>bestseller</td>\n",
       "      <td>new</td>\n",
       "      <td>eco</td>\n",
       "      <td>bestseller</td>\n",
       "    </tr>\n",
       "    <tr>\n",
       "      <th>2</th>\n",
       "      <td>None</td>\n",
       "      <td>None</td>\n",
       "      <td>None</td>\n",
       "      <td>None</td>\n",
       "    </tr>\n",
       "    <tr>\n",
       "      <th>3</th>\n",
       "      <td>limited</td>\n",
       "      <td>None</td>\n",
       "      <td>new</td>\n",
       "      <td>limited</td>\n",
       "    </tr>\n",
       "    <tr>\n",
       "      <th>4</th>\n",
       "      <td>None</td>\n",
       "      <td>None</td>\n",
       "      <td>None</td>\n",
       "      <td>None</td>\n",
       "    </tr>\n",
       "    <tr>\n",
       "      <th>5</th>\n",
       "      <td>sale</td>\n",
       "      <td>None</td>\n",
       "      <td>bestseller</td>\n",
       "      <td>sale</td>\n",
       "    </tr>\n",
       "    <tr>\n",
       "      <th>6</th>\n",
       "      <td>sale</td>\n",
       "      <td>None</td>\n",
       "      <td>new</td>\n",
       "      <td>sale</td>\n",
       "    </tr>\n",
       "    <tr>\n",
       "      <th>7</th>\n",
       "      <td>eco</td>\n",
       "      <td>None</td>\n",
       "      <td>sale</td>\n",
       "      <td>eco</td>\n",
       "    </tr>\n",
       "    <tr>\n",
       "      <th>8</th>\n",
       "      <td>None</td>\n",
       "      <td>None</td>\n",
       "      <td>bestseller</td>\n",
       "      <td>None</td>\n",
       "    </tr>\n",
       "    <tr>\n",
       "      <th>9</th>\n",
       "      <td>sale</td>\n",
       "      <td>None</td>\n",
       "      <td>bestseller</td>\n",
       "      <td>sale</td>\n",
       "    </tr>\n",
       "    <tr>\n",
       "      <th>10</th>\n",
       "      <td>None</td>\n",
       "      <td>None</td>\n",
       "      <td>new</td>\n",
       "      <td>None</td>\n",
       "    </tr>\n",
       "    <tr>\n",
       "      <th>11</th>\n",
       "      <td>None</td>\n",
       "      <td>None</td>\n",
       "      <td>bestseller</td>\n",
       "      <td>None</td>\n",
       "    </tr>\n",
       "    <tr>\n",
       "      <th>12</th>\n",
       "      <td>sale</td>\n",
       "      <td>bestseller</td>\n",
       "      <td>limited</td>\n",
       "      <td>sale</td>\n",
       "    </tr>\n",
       "    <tr>\n",
       "      <th>13</th>\n",
       "      <td>limited</td>\n",
       "      <td>None</td>\n",
       "      <td>bestseller</td>\n",
       "      <td>limited</td>\n",
       "    </tr>\n",
       "    <tr>\n",
       "      <th>14</th>\n",
       "      <td>None</td>\n",
       "      <td>None</td>\n",
       "      <td>bestseller</td>\n",
       "      <td>None</td>\n",
       "    </tr>\n",
       "  </tbody>\n",
       "</table>\n",
       "</div>"
      ],
      "text/plain": [
       "             1           2      tags 0      tags 1\n",
       "0      limited         eco        sale     limited\n",
       "1   bestseller         new         eco  bestseller\n",
       "2         None        None        None        None\n",
       "3      limited        None         new     limited\n",
       "4         None        None        None        None\n",
       "5         sale        None  bestseller        sale\n",
       "6         sale        None         new        sale\n",
       "7          eco        None        sale         eco\n",
       "8         None        None  bestseller        None\n",
       "9         sale        None  bestseller        sale\n",
       "10        None        None         new        None\n",
       "11        None        None  bestseller        None\n",
       "12        sale  bestseller     limited        sale\n",
       "13     limited        None  bestseller     limited\n",
       "14        None        None  bestseller        None"
      ]
     },
     "metadata": {},
     "output_type": "display_data"
    },
    {
     "data": {
      "application/vnd.microsoft.datawrangler.viewer.v0+json": {
       "columns": [
        {
         "name": "index",
         "rawType": "int64",
         "type": "integer"
        },
        {
         "name": "2",
         "rawType": "object",
         "type": "unknown"
        },
        {
         "name": "tags 0",
         "rawType": "object",
         "type": "unknown"
        },
        {
         "name": "tags 1",
         "rawType": "object",
         "type": "unknown"
        }
       ],
       "ref": "599ffe52-173c-408f-8fb0-e089725700f8",
       "rows": [
        [
         "0",
         "eco",
         "sale",
         "limited"
        ],
        [
         "1",
         "new",
         "eco",
         "bestseller"
        ],
        [
         "2",
         null,
         null,
         null
        ],
        [
         "3",
         null,
         "new",
         "limited"
        ],
        [
         "4",
         null,
         null,
         null
        ],
        [
         "5",
         null,
         "bestseller",
         "sale"
        ],
        [
         "6",
         null,
         "new",
         "sale"
        ],
        [
         "7",
         null,
         "sale",
         "eco"
        ],
        [
         "8",
         null,
         "bestseller",
         null
        ],
        [
         "9",
         null,
         "bestseller",
         "sale"
        ],
        [
         "10",
         null,
         "new",
         null
        ],
        [
         "11",
         null,
         "bestseller",
         null
        ],
        [
         "12",
         "bestseller",
         "limited",
         "sale"
        ],
        [
         "13",
         null,
         "bestseller",
         "limited"
        ],
        [
         "14",
         null,
         "bestseller",
         null
        ]
       ],
       "shape": {
        "columns": 3,
        "rows": 15
       }
      },
      "text/html": [
       "<div>\n",
       "<style scoped>\n",
       "    .dataframe tbody tr th:only-of-type {\n",
       "        vertical-align: middle;\n",
       "    }\n",
       "\n",
       "    .dataframe tbody tr th {\n",
       "        vertical-align: top;\n",
       "    }\n",
       "\n",
       "    .dataframe thead th {\n",
       "        text-align: right;\n",
       "    }\n",
       "</style>\n",
       "<table border=\"1\" class=\"dataframe\">\n",
       "  <thead>\n",
       "    <tr style=\"text-align: right;\">\n",
       "      <th></th>\n",
       "      <th>2</th>\n",
       "      <th>tags 0</th>\n",
       "      <th>tags 1</th>\n",
       "    </tr>\n",
       "  </thead>\n",
       "  <tbody>\n",
       "    <tr>\n",
       "      <th>0</th>\n",
       "      <td>eco</td>\n",
       "      <td>sale</td>\n",
       "      <td>limited</td>\n",
       "    </tr>\n",
       "    <tr>\n",
       "      <th>1</th>\n",
       "      <td>new</td>\n",
       "      <td>eco</td>\n",
       "      <td>bestseller</td>\n",
       "    </tr>\n",
       "    <tr>\n",
       "      <th>2</th>\n",
       "      <td>None</td>\n",
       "      <td>None</td>\n",
       "      <td>None</td>\n",
       "    </tr>\n",
       "    <tr>\n",
       "      <th>3</th>\n",
       "      <td>None</td>\n",
       "      <td>new</td>\n",
       "      <td>limited</td>\n",
       "    </tr>\n",
       "    <tr>\n",
       "      <th>4</th>\n",
       "      <td>None</td>\n",
       "      <td>None</td>\n",
       "      <td>None</td>\n",
       "    </tr>\n",
       "    <tr>\n",
       "      <th>5</th>\n",
       "      <td>None</td>\n",
       "      <td>bestseller</td>\n",
       "      <td>sale</td>\n",
       "    </tr>\n",
       "    <tr>\n",
       "      <th>6</th>\n",
       "      <td>None</td>\n",
       "      <td>new</td>\n",
       "      <td>sale</td>\n",
       "    </tr>\n",
       "    <tr>\n",
       "      <th>7</th>\n",
       "      <td>None</td>\n",
       "      <td>sale</td>\n",
       "      <td>eco</td>\n",
       "    </tr>\n",
       "    <tr>\n",
       "      <th>8</th>\n",
       "      <td>None</td>\n",
       "      <td>bestseller</td>\n",
       "      <td>None</td>\n",
       "    </tr>\n",
       "    <tr>\n",
       "      <th>9</th>\n",
       "      <td>None</td>\n",
       "      <td>bestseller</td>\n",
       "      <td>sale</td>\n",
       "    </tr>\n",
       "    <tr>\n",
       "      <th>10</th>\n",
       "      <td>None</td>\n",
       "      <td>new</td>\n",
       "      <td>None</td>\n",
       "    </tr>\n",
       "    <tr>\n",
       "      <th>11</th>\n",
       "      <td>None</td>\n",
       "      <td>bestseller</td>\n",
       "      <td>None</td>\n",
       "    </tr>\n",
       "    <tr>\n",
       "      <th>12</th>\n",
       "      <td>bestseller</td>\n",
       "      <td>limited</td>\n",
       "      <td>sale</td>\n",
       "    </tr>\n",
       "    <tr>\n",
       "      <th>13</th>\n",
       "      <td>None</td>\n",
       "      <td>bestseller</td>\n",
       "      <td>limited</td>\n",
       "    </tr>\n",
       "    <tr>\n",
       "      <th>14</th>\n",
       "      <td>None</td>\n",
       "      <td>bestseller</td>\n",
       "      <td>None</td>\n",
       "    </tr>\n",
       "  </tbody>\n",
       "</table>\n",
       "</div>"
      ],
      "text/plain": [
       "             2      tags 0      tags 1\n",
       "0          eco        sale     limited\n",
       "1          new         eco  bestseller\n",
       "2         None        None        None\n",
       "3         None         new     limited\n",
       "4         None        None        None\n",
       "5         None  bestseller        sale\n",
       "6         None         new        sale\n",
       "7         None        sale         eco\n",
       "8         None  bestseller        None\n",
       "9         None  bestseller        sale\n",
       "10        None         new        None\n",
       "11        None  bestseller        None\n",
       "12  bestseller     limited        sale\n",
       "13        None  bestseller     limited\n",
       "14        None  bestseller        None"
      ]
     },
     "metadata": {},
     "output_type": "display_data"
    },
    {
     "data": {
      "application/vnd.microsoft.datawrangler.viewer.v0+json": {
       "columns": [
        {
         "name": "index",
         "rawType": "int64",
         "type": "integer"
        },
        {
         "name": "2",
         "rawType": "object",
         "type": "unknown"
        },
        {
         "name": "tags 0",
         "rawType": "object",
         "type": "unknown"
        },
        {
         "name": "tags 1",
         "rawType": "object",
         "type": "unknown"
        },
        {
         "name": "tags 2",
         "rawType": "object",
         "type": "unknown"
        }
       ],
       "ref": "f6a51518-226d-4d55-ab9c-14398a2db496",
       "rows": [
        [
         "0",
         "eco",
         "sale",
         "limited",
         "eco"
        ],
        [
         "1",
         "new",
         "eco",
         "bestseller",
         "new"
        ],
        [
         "2",
         null,
         null,
         null,
         null
        ],
        [
         "3",
         null,
         "new",
         "limited",
         null
        ],
        [
         "4",
         null,
         null,
         null,
         null
        ],
        [
         "5",
         null,
         "bestseller",
         "sale",
         null
        ],
        [
         "6",
         null,
         "new",
         "sale",
         null
        ],
        [
         "7",
         null,
         "sale",
         "eco",
         null
        ],
        [
         "8",
         null,
         "bestseller",
         null,
         null
        ],
        [
         "9",
         null,
         "bestseller",
         "sale",
         null
        ],
        [
         "10",
         null,
         "new",
         null,
         null
        ],
        [
         "11",
         null,
         "bestseller",
         null,
         null
        ],
        [
         "12",
         "bestseller",
         "limited",
         "sale",
         "bestseller"
        ],
        [
         "13",
         null,
         "bestseller",
         "limited",
         null
        ],
        [
         "14",
         null,
         "bestseller",
         null,
         null
        ]
       ],
       "shape": {
        "columns": 4,
        "rows": 15
       }
      },
      "text/html": [
       "<div>\n",
       "<style scoped>\n",
       "    .dataframe tbody tr th:only-of-type {\n",
       "        vertical-align: middle;\n",
       "    }\n",
       "\n",
       "    .dataframe tbody tr th {\n",
       "        vertical-align: top;\n",
       "    }\n",
       "\n",
       "    .dataframe thead th {\n",
       "        text-align: right;\n",
       "    }\n",
       "</style>\n",
       "<table border=\"1\" class=\"dataframe\">\n",
       "  <thead>\n",
       "    <tr style=\"text-align: right;\">\n",
       "      <th></th>\n",
       "      <th>2</th>\n",
       "      <th>tags 0</th>\n",
       "      <th>tags 1</th>\n",
       "      <th>tags 2</th>\n",
       "    </tr>\n",
       "  </thead>\n",
       "  <tbody>\n",
       "    <tr>\n",
       "      <th>0</th>\n",
       "      <td>eco</td>\n",
       "      <td>sale</td>\n",
       "      <td>limited</td>\n",
       "      <td>eco</td>\n",
       "    </tr>\n",
       "    <tr>\n",
       "      <th>1</th>\n",
       "      <td>new</td>\n",
       "      <td>eco</td>\n",
       "      <td>bestseller</td>\n",
       "      <td>new</td>\n",
       "    </tr>\n",
       "    <tr>\n",
       "      <th>2</th>\n",
       "      <td>None</td>\n",
       "      <td>None</td>\n",
       "      <td>None</td>\n",
       "      <td>None</td>\n",
       "    </tr>\n",
       "    <tr>\n",
       "      <th>3</th>\n",
       "      <td>None</td>\n",
       "      <td>new</td>\n",
       "      <td>limited</td>\n",
       "      <td>None</td>\n",
       "    </tr>\n",
       "    <tr>\n",
       "      <th>4</th>\n",
       "      <td>None</td>\n",
       "      <td>None</td>\n",
       "      <td>None</td>\n",
       "      <td>None</td>\n",
       "    </tr>\n",
       "    <tr>\n",
       "      <th>5</th>\n",
       "      <td>None</td>\n",
       "      <td>bestseller</td>\n",
       "      <td>sale</td>\n",
       "      <td>None</td>\n",
       "    </tr>\n",
       "    <tr>\n",
       "      <th>6</th>\n",
       "      <td>None</td>\n",
       "      <td>new</td>\n",
       "      <td>sale</td>\n",
       "      <td>None</td>\n",
       "    </tr>\n",
       "    <tr>\n",
       "      <th>7</th>\n",
       "      <td>None</td>\n",
       "      <td>sale</td>\n",
       "      <td>eco</td>\n",
       "      <td>None</td>\n",
       "    </tr>\n",
       "    <tr>\n",
       "      <th>8</th>\n",
       "      <td>None</td>\n",
       "      <td>bestseller</td>\n",
       "      <td>None</td>\n",
       "      <td>None</td>\n",
       "    </tr>\n",
       "    <tr>\n",
       "      <th>9</th>\n",
       "      <td>None</td>\n",
       "      <td>bestseller</td>\n",
       "      <td>sale</td>\n",
       "      <td>None</td>\n",
       "    </tr>\n",
       "    <tr>\n",
       "      <th>10</th>\n",
       "      <td>None</td>\n",
       "      <td>new</td>\n",
       "      <td>None</td>\n",
       "      <td>None</td>\n",
       "    </tr>\n",
       "    <tr>\n",
       "      <th>11</th>\n",
       "      <td>None</td>\n",
       "      <td>bestseller</td>\n",
       "      <td>None</td>\n",
       "      <td>None</td>\n",
       "    </tr>\n",
       "    <tr>\n",
       "      <th>12</th>\n",
       "      <td>bestseller</td>\n",
       "      <td>limited</td>\n",
       "      <td>sale</td>\n",
       "      <td>bestseller</td>\n",
       "    </tr>\n",
       "    <tr>\n",
       "      <th>13</th>\n",
       "      <td>None</td>\n",
       "      <td>bestseller</td>\n",
       "      <td>limited</td>\n",
       "      <td>None</td>\n",
       "    </tr>\n",
       "    <tr>\n",
       "      <th>14</th>\n",
       "      <td>None</td>\n",
       "      <td>bestseller</td>\n",
       "      <td>None</td>\n",
       "      <td>None</td>\n",
       "    </tr>\n",
       "  </tbody>\n",
       "</table>\n",
       "</div>"
      ],
      "text/plain": [
       "             2      tags 0      tags 1      tags 2\n",
       "0          eco        sale     limited         eco\n",
       "1          new         eco  bestseller         new\n",
       "2         None        None        None        None\n",
       "3         None         new     limited        None\n",
       "4         None        None        None        None\n",
       "5         None  bestseller        sale        None\n",
       "6         None         new        sale        None\n",
       "7         None        sale         eco        None\n",
       "8         None  bestseller        None        None\n",
       "9         None  bestseller        sale        None\n",
       "10        None         new        None        None\n",
       "11        None  bestseller        None        None\n",
       "12  bestseller     limited        sale  bestseller\n",
       "13        None  bestseller     limited        None\n",
       "14        None  bestseller        None        None"
      ]
     },
     "metadata": {},
     "output_type": "display_data"
    },
    {
     "data": {
      "application/vnd.microsoft.datawrangler.viewer.v0+json": {
       "columns": [
        {
         "name": "index",
         "rawType": "int64",
         "type": "integer"
        },
        {
         "name": "tags 0",
         "rawType": "object",
         "type": "unknown"
        },
        {
         "name": "tags 1",
         "rawType": "object",
         "type": "unknown"
        },
        {
         "name": "tags 2",
         "rawType": "object",
         "type": "unknown"
        }
       ],
       "ref": "69122a4d-ff93-4b7b-9e31-089aedc24e82",
       "rows": [
        [
         "0",
         "sale",
         "limited",
         "eco"
        ],
        [
         "1",
         "eco",
         "bestseller",
         "new"
        ],
        [
         "2",
         null,
         null,
         null
        ],
        [
         "3",
         "new",
         "limited",
         null
        ],
        [
         "4",
         null,
         null,
         null
        ],
        [
         "5",
         "bestseller",
         "sale",
         null
        ],
        [
         "6",
         "new",
         "sale",
         null
        ],
        [
         "7",
         "sale",
         "eco",
         null
        ],
        [
         "8",
         "bestseller",
         null,
         null
        ],
        [
         "9",
         "bestseller",
         "sale",
         null
        ],
        [
         "10",
         "new",
         null,
         null
        ],
        [
         "11",
         "bestseller",
         null,
         null
        ],
        [
         "12",
         "limited",
         "sale",
         "bestseller"
        ],
        [
         "13",
         "bestseller",
         "limited",
         null
        ],
        [
         "14",
         "bestseller",
         null,
         null
        ]
       ],
       "shape": {
        "columns": 3,
        "rows": 15
       }
      },
      "text/html": [
       "<div>\n",
       "<style scoped>\n",
       "    .dataframe tbody tr th:only-of-type {\n",
       "        vertical-align: middle;\n",
       "    }\n",
       "\n",
       "    .dataframe tbody tr th {\n",
       "        vertical-align: top;\n",
       "    }\n",
       "\n",
       "    .dataframe thead th {\n",
       "        text-align: right;\n",
       "    }\n",
       "</style>\n",
       "<table border=\"1\" class=\"dataframe\">\n",
       "  <thead>\n",
       "    <tr style=\"text-align: right;\">\n",
       "      <th></th>\n",
       "      <th>tags 0</th>\n",
       "      <th>tags 1</th>\n",
       "      <th>tags 2</th>\n",
       "    </tr>\n",
       "  </thead>\n",
       "  <tbody>\n",
       "    <tr>\n",
       "      <th>0</th>\n",
       "      <td>sale</td>\n",
       "      <td>limited</td>\n",
       "      <td>eco</td>\n",
       "    </tr>\n",
       "    <tr>\n",
       "      <th>1</th>\n",
       "      <td>eco</td>\n",
       "      <td>bestseller</td>\n",
       "      <td>new</td>\n",
       "    </tr>\n",
       "    <tr>\n",
       "      <th>2</th>\n",
       "      <td>None</td>\n",
       "      <td>None</td>\n",
       "      <td>None</td>\n",
       "    </tr>\n",
       "    <tr>\n",
       "      <th>3</th>\n",
       "      <td>new</td>\n",
       "      <td>limited</td>\n",
       "      <td>None</td>\n",
       "    </tr>\n",
       "    <tr>\n",
       "      <th>4</th>\n",
       "      <td>None</td>\n",
       "      <td>None</td>\n",
       "      <td>None</td>\n",
       "    </tr>\n",
       "    <tr>\n",
       "      <th>5</th>\n",
       "      <td>bestseller</td>\n",
       "      <td>sale</td>\n",
       "      <td>None</td>\n",
       "    </tr>\n",
       "    <tr>\n",
       "      <th>6</th>\n",
       "      <td>new</td>\n",
       "      <td>sale</td>\n",
       "      <td>None</td>\n",
       "    </tr>\n",
       "    <tr>\n",
       "      <th>7</th>\n",
       "      <td>sale</td>\n",
       "      <td>eco</td>\n",
       "      <td>None</td>\n",
       "    </tr>\n",
       "    <tr>\n",
       "      <th>8</th>\n",
       "      <td>bestseller</td>\n",
       "      <td>None</td>\n",
       "      <td>None</td>\n",
       "    </tr>\n",
       "    <tr>\n",
       "      <th>9</th>\n",
       "      <td>bestseller</td>\n",
       "      <td>sale</td>\n",
       "      <td>None</td>\n",
       "    </tr>\n",
       "    <tr>\n",
       "      <th>10</th>\n",
       "      <td>new</td>\n",
       "      <td>None</td>\n",
       "      <td>None</td>\n",
       "    </tr>\n",
       "    <tr>\n",
       "      <th>11</th>\n",
       "      <td>bestseller</td>\n",
       "      <td>None</td>\n",
       "      <td>None</td>\n",
       "    </tr>\n",
       "    <tr>\n",
       "      <th>12</th>\n",
       "      <td>limited</td>\n",
       "      <td>sale</td>\n",
       "      <td>bestseller</td>\n",
       "    </tr>\n",
       "    <tr>\n",
       "      <th>13</th>\n",
       "      <td>bestseller</td>\n",
       "      <td>limited</td>\n",
       "      <td>None</td>\n",
       "    </tr>\n",
       "    <tr>\n",
       "      <th>14</th>\n",
       "      <td>bestseller</td>\n",
       "      <td>None</td>\n",
       "      <td>None</td>\n",
       "    </tr>\n",
       "  </tbody>\n",
       "</table>\n",
       "</div>"
      ],
      "text/plain": [
       "        tags 0      tags 1      tags 2\n",
       "0         sale     limited         eco\n",
       "1          eco  bestseller         new\n",
       "2         None        None        None\n",
       "3          new     limited        None\n",
       "4         None        None        None\n",
       "5   bestseller        sale        None\n",
       "6          new        sale        None\n",
       "7         sale         eco        None\n",
       "8   bestseller        None        None\n",
       "9   bestseller        sale        None\n",
       "10         new        None        None\n",
       "11  bestseller        None        None\n",
       "12     limited        sale  bestseller\n",
       "13  bestseller     limited        None\n",
       "14  bestseller        None        None"
      ]
     },
     "metadata": {},
     "output_type": "display_data"
    }
   ],
   "source": [
    "original_name = 'tags'\n",
    "\n",
    "display(flattened_subframe)\n",
    "\n",
    "for index in flattened_subframe.columns:\n",
    "\n",
    "    new_name = f'{original_name} {index}'\n",
    "\n",
    "    flattened_subframe[new_name] = flattened_subframe[index]\n",
    "\n",
    "    display(flattened_subframe)\n",
    "\n",
    "    flattened_subframe = flattened_subframe.drop(columns = index)\n",
    "\n",
    "    display(flattened_subframe)\n",
    "\n",
    "\n",
    "\n",
    "# display(flattened_subframe)"
   ]
  },
  {
   "cell_type": "code",
   "execution_count": 6,
   "id": "dbf9f1a4",
   "metadata": {},
   "outputs": [
    {
     "data": {
      "application/vnd.microsoft.datawrangler.viewer.v0+json": {
       "columns": [
        {
         "name": "index",
         "rawType": "int64",
         "type": "integer"
        },
        {
         "name": "tags 0",
         "rawType": "object",
         "type": "unknown"
        },
        {
         "name": "tags 1",
         "rawType": "object",
         "type": "unknown"
        },
        {
         "name": "tags 2",
         "rawType": "object",
         "type": "unknown"
        }
       ],
       "ref": "7fa78b9d-1618-436d-8017-4d17ce4ff5eb",
       "rows": [
        [
         "0",
         "sale",
         "limited",
         "eco"
        ],
        [
         "1",
         "eco",
         "bestseller",
         "new"
        ],
        [
         "2",
         null,
         null,
         null
        ],
        [
         "3",
         "new",
         "limited",
         null
        ],
        [
         "4",
         null,
         null,
         null
        ],
        [
         "5",
         "bestseller",
         "sale",
         null
        ],
        [
         "6",
         "new",
         "sale",
         null
        ],
        [
         "7",
         "sale",
         "eco",
         null
        ],
        [
         "8",
         "bestseller",
         null,
         null
        ],
        [
         "9",
         "bestseller",
         "sale",
         null
        ],
        [
         "10",
         "new",
         null,
         null
        ],
        [
         "11",
         "bestseller",
         null,
         null
        ],
        [
         "12",
         "limited",
         "sale",
         "bestseller"
        ],
        [
         "13",
         "bestseller",
         "limited",
         null
        ],
        [
         "14",
         "bestseller",
         null,
         null
        ]
       ],
       "shape": {
        "columns": 3,
        "rows": 15
       }
      },
      "text/html": [
       "<div>\n",
       "<style scoped>\n",
       "    .dataframe tbody tr th:only-of-type {\n",
       "        vertical-align: middle;\n",
       "    }\n",
       "\n",
       "    .dataframe tbody tr th {\n",
       "        vertical-align: top;\n",
       "    }\n",
       "\n",
       "    .dataframe thead th {\n",
       "        text-align: right;\n",
       "    }\n",
       "</style>\n",
       "<table border=\"1\" class=\"dataframe\">\n",
       "  <thead>\n",
       "    <tr style=\"text-align: right;\">\n",
       "      <th></th>\n",
       "      <th>tags 0</th>\n",
       "      <th>tags 1</th>\n",
       "      <th>tags 2</th>\n",
       "    </tr>\n",
       "  </thead>\n",
       "  <tbody>\n",
       "    <tr>\n",
       "      <th>0</th>\n",
       "      <td>sale</td>\n",
       "      <td>limited</td>\n",
       "      <td>eco</td>\n",
       "    </tr>\n",
       "    <tr>\n",
       "      <th>1</th>\n",
       "      <td>eco</td>\n",
       "      <td>bestseller</td>\n",
       "      <td>new</td>\n",
       "    </tr>\n",
       "    <tr>\n",
       "      <th>2</th>\n",
       "      <td>None</td>\n",
       "      <td>None</td>\n",
       "      <td>None</td>\n",
       "    </tr>\n",
       "    <tr>\n",
       "      <th>3</th>\n",
       "      <td>new</td>\n",
       "      <td>limited</td>\n",
       "      <td>None</td>\n",
       "    </tr>\n",
       "    <tr>\n",
       "      <th>4</th>\n",
       "      <td>None</td>\n",
       "      <td>None</td>\n",
       "      <td>None</td>\n",
       "    </tr>\n",
       "    <tr>\n",
       "      <th>5</th>\n",
       "      <td>bestseller</td>\n",
       "      <td>sale</td>\n",
       "      <td>None</td>\n",
       "    </tr>\n",
       "    <tr>\n",
       "      <th>6</th>\n",
       "      <td>new</td>\n",
       "      <td>sale</td>\n",
       "      <td>None</td>\n",
       "    </tr>\n",
       "    <tr>\n",
       "      <th>7</th>\n",
       "      <td>sale</td>\n",
       "      <td>eco</td>\n",
       "      <td>None</td>\n",
       "    </tr>\n",
       "    <tr>\n",
       "      <th>8</th>\n",
       "      <td>bestseller</td>\n",
       "      <td>None</td>\n",
       "      <td>None</td>\n",
       "    </tr>\n",
       "    <tr>\n",
       "      <th>9</th>\n",
       "      <td>bestseller</td>\n",
       "      <td>sale</td>\n",
       "      <td>None</td>\n",
       "    </tr>\n",
       "    <tr>\n",
       "      <th>10</th>\n",
       "      <td>new</td>\n",
       "      <td>None</td>\n",
       "      <td>None</td>\n",
       "    </tr>\n",
       "    <tr>\n",
       "      <th>11</th>\n",
       "      <td>bestseller</td>\n",
       "      <td>None</td>\n",
       "      <td>None</td>\n",
       "    </tr>\n",
       "    <tr>\n",
       "      <th>12</th>\n",
       "      <td>limited</td>\n",
       "      <td>sale</td>\n",
       "      <td>bestseller</td>\n",
       "    </tr>\n",
       "    <tr>\n",
       "      <th>13</th>\n",
       "      <td>bestseller</td>\n",
       "      <td>limited</td>\n",
       "      <td>None</td>\n",
       "    </tr>\n",
       "    <tr>\n",
       "      <th>14</th>\n",
       "      <td>bestseller</td>\n",
       "      <td>None</td>\n",
       "      <td>None</td>\n",
       "    </tr>\n",
       "  </tbody>\n",
       "</table>\n",
       "</div>"
      ],
      "text/plain": [
       "        tags 0      tags 1      tags 2\n",
       "0         sale     limited         eco\n",
       "1          eco  bestseller         new\n",
       "2         None        None        None\n",
       "3          new     limited        None\n",
       "4         None        None        None\n",
       "5   bestseller        sale        None\n",
       "6          new        sale        None\n",
       "7         sale         eco        None\n",
       "8   bestseller        None        None\n",
       "9   bestseller        sale        None\n",
       "10         new        None        None\n",
       "11  bestseller        None        None\n",
       "12     limited        sale  bestseller\n",
       "13  bestseller     limited        None\n",
       "14  bestseller        None        None"
      ]
     },
     "metadata": {},
     "output_type": "display_data"
    }
   ],
   "source": [
    "display(flattened_subframe)"
   ]
  },
  {
   "cell_type": "code",
   "execution_count": 7,
   "id": "63bb2136",
   "metadata": {},
   "outputs": [
    {
     "data": {
      "application/vnd.microsoft.datawrangler.viewer.v0+json": {
       "columns": [
        {
         "name": "index",
         "rawType": "int64",
         "type": "integer"
        },
        {
         "name": "_id",
         "rawType": "object",
         "type": "string"
        },
        {
         "name": "name",
         "rawType": "object",
         "type": "string"
        },
        {
         "name": "price",
         "rawType": "float64",
         "type": "float"
        },
        {
         "name": "category",
         "rawType": "object",
         "type": "string"
        },
        {
         "name": "tags",
         "rawType": "object",
         "type": "unknown"
        },
        {
         "name": "discontinued",
         "rawType": "float64",
         "type": "float"
        }
       ],
       "ref": "078aaf32-3240-4371-a491-c2986ddcec76",
       "rows": [
        [
         "0",
         "p0",
         "Total systemic project",
         "131.73",
         "Toys",
         "['sale', 'limited', 'eco']",
         null
        ],
        [
         "1",
         "p1",
         "Compatible real-time productivity",
         "174.51",
         "Outdoors",
         "['eco', 'bestseller', 'new']",
         null
        ],
        [
         "2",
         "p2",
         "Down-sized national superstructure",
         "153.88",
         "Electronics",
         "[]",
         null
        ],
        [
         "3",
         "p3",
         "Fully-configurable cohesive Local Area Network",
         "75.0",
         "Books",
         "['new', 'limited']",
         null
        ],
        [
         "4",
         "p4",
         "Multi-tiered encompassing productivity",
         "194.76",
         "Home",
         "[]",
         null
        ],
        [
         "5",
         "p5",
         "Team-oriented next generation definition",
         "166.73",
         "Toys",
         "['bestseller', 'sale']",
         null
        ],
        [
         "6",
         "p6",
         "Synergized fresh-thinking throughput",
         "13.94",
         "Outdoors",
         "['new', 'sale']",
         "1.0"
        ],
        [
         "7",
         "p7",
         "Vision-oriented analyzing emulation",
         "79.12",
         "Home",
         "['sale', 'eco']",
         null
        ],
        [
         "8",
         "p8",
         "Automated foreground initiative",
         "135.68",
         "Electronics",
         "['bestseller']",
         null
        ],
        [
         "9",
         "p9",
         "Future-proofed asymmetric data-warehouse",
         "36.86",
         "Home",
         "['bestseller', 'sale']",
         null
        ],
        [
         "10",
         "p10",
         "Re-contextualized transitional functionalities",
         "169.36",
         "Electronics",
         "['new']",
         "1.0"
        ],
        [
         "11",
         "p11",
         "Extended solution-oriented methodology",
         "83.23",
         "Electronics",
         "['bestseller']",
         "1.0"
        ],
        [
         "12",
         "p12",
         "Object-based secondary knowledgebase",
         "66.36",
         "Home",
         "['limited', 'sale', 'bestseller']",
         null
        ],
        [
         "13",
         "p13",
         "Digitized empowering challenge",
         "150.27",
         "Toys",
         "['bestseller', 'limited']",
         "1.0"
        ],
        [
         "14",
         "p14",
         "Fully-configurable value-added open architecture",
         "82.88",
         "Outdoors",
         "['bestseller']",
         null
        ]
       ],
       "shape": {
        "columns": 6,
        "rows": 15
       }
      },
      "text/html": [
       "<div>\n",
       "<style scoped>\n",
       "    .dataframe tbody tr th:only-of-type {\n",
       "        vertical-align: middle;\n",
       "    }\n",
       "\n",
       "    .dataframe tbody tr th {\n",
       "        vertical-align: top;\n",
       "    }\n",
       "\n",
       "    .dataframe thead th {\n",
       "        text-align: right;\n",
       "    }\n",
       "</style>\n",
       "<table border=\"1\" class=\"dataframe\">\n",
       "  <thead>\n",
       "    <tr style=\"text-align: right;\">\n",
       "      <th></th>\n",
       "      <th>_id</th>\n",
       "      <th>name</th>\n",
       "      <th>price</th>\n",
       "      <th>category</th>\n",
       "      <th>tags</th>\n",
       "      <th>discontinued</th>\n",
       "    </tr>\n",
       "  </thead>\n",
       "  <tbody>\n",
       "    <tr>\n",
       "      <th>0</th>\n",
       "      <td>p0</td>\n",
       "      <td>Total systemic project</td>\n",
       "      <td>131.73</td>\n",
       "      <td>Toys</td>\n",
       "      <td>[sale, limited, eco]</td>\n",
       "      <td>NaN</td>\n",
       "    </tr>\n",
       "    <tr>\n",
       "      <th>1</th>\n",
       "      <td>p1</td>\n",
       "      <td>Compatible real-time productivity</td>\n",
       "      <td>174.51</td>\n",
       "      <td>Outdoors</td>\n",
       "      <td>[eco, bestseller, new]</td>\n",
       "      <td>NaN</td>\n",
       "    </tr>\n",
       "    <tr>\n",
       "      <th>2</th>\n",
       "      <td>p2</td>\n",
       "      <td>Down-sized national superstructure</td>\n",
       "      <td>153.88</td>\n",
       "      <td>Electronics</td>\n",
       "      <td>[]</td>\n",
       "      <td>NaN</td>\n",
       "    </tr>\n",
       "    <tr>\n",
       "      <th>3</th>\n",
       "      <td>p3</td>\n",
       "      <td>Fully-configurable cohesive Local Area Network</td>\n",
       "      <td>75.00</td>\n",
       "      <td>Books</td>\n",
       "      <td>[new, limited]</td>\n",
       "      <td>NaN</td>\n",
       "    </tr>\n",
       "    <tr>\n",
       "      <th>4</th>\n",
       "      <td>p4</td>\n",
       "      <td>Multi-tiered encompassing productivity</td>\n",
       "      <td>194.76</td>\n",
       "      <td>Home</td>\n",
       "      <td>[]</td>\n",
       "      <td>NaN</td>\n",
       "    </tr>\n",
       "    <tr>\n",
       "      <th>5</th>\n",
       "      <td>p5</td>\n",
       "      <td>Team-oriented next generation definition</td>\n",
       "      <td>166.73</td>\n",
       "      <td>Toys</td>\n",
       "      <td>[bestseller, sale]</td>\n",
       "      <td>NaN</td>\n",
       "    </tr>\n",
       "    <tr>\n",
       "      <th>6</th>\n",
       "      <td>p6</td>\n",
       "      <td>Synergized fresh-thinking throughput</td>\n",
       "      <td>13.94</td>\n",
       "      <td>Outdoors</td>\n",
       "      <td>[new, sale]</td>\n",
       "      <td>1.0</td>\n",
       "    </tr>\n",
       "    <tr>\n",
       "      <th>7</th>\n",
       "      <td>p7</td>\n",
       "      <td>Vision-oriented analyzing emulation</td>\n",
       "      <td>79.12</td>\n",
       "      <td>Home</td>\n",
       "      <td>[sale, eco]</td>\n",
       "      <td>NaN</td>\n",
       "    </tr>\n",
       "    <tr>\n",
       "      <th>8</th>\n",
       "      <td>p8</td>\n",
       "      <td>Automated foreground initiative</td>\n",
       "      <td>135.68</td>\n",
       "      <td>Electronics</td>\n",
       "      <td>[bestseller]</td>\n",
       "      <td>NaN</td>\n",
       "    </tr>\n",
       "    <tr>\n",
       "      <th>9</th>\n",
       "      <td>p9</td>\n",
       "      <td>Future-proofed asymmetric data-warehouse</td>\n",
       "      <td>36.86</td>\n",
       "      <td>Home</td>\n",
       "      <td>[bestseller, sale]</td>\n",
       "      <td>NaN</td>\n",
       "    </tr>\n",
       "    <tr>\n",
       "      <th>10</th>\n",
       "      <td>p10</td>\n",
       "      <td>Re-contextualized transitional functionalities</td>\n",
       "      <td>169.36</td>\n",
       "      <td>Electronics</td>\n",
       "      <td>[new]</td>\n",
       "      <td>1.0</td>\n",
       "    </tr>\n",
       "    <tr>\n",
       "      <th>11</th>\n",
       "      <td>p11</td>\n",
       "      <td>Extended solution-oriented methodology</td>\n",
       "      <td>83.23</td>\n",
       "      <td>Electronics</td>\n",
       "      <td>[bestseller]</td>\n",
       "      <td>1.0</td>\n",
       "    </tr>\n",
       "    <tr>\n",
       "      <th>12</th>\n",
       "      <td>p12</td>\n",
       "      <td>Object-based secondary knowledgebase</td>\n",
       "      <td>66.36</td>\n",
       "      <td>Home</td>\n",
       "      <td>[limited, sale, bestseller]</td>\n",
       "      <td>NaN</td>\n",
       "    </tr>\n",
       "    <tr>\n",
       "      <th>13</th>\n",
       "      <td>p13</td>\n",
       "      <td>Digitized empowering challenge</td>\n",
       "      <td>150.27</td>\n",
       "      <td>Toys</td>\n",
       "      <td>[bestseller, limited]</td>\n",
       "      <td>1.0</td>\n",
       "    </tr>\n",
       "    <tr>\n",
       "      <th>14</th>\n",
       "      <td>p14</td>\n",
       "      <td>Fully-configurable value-added open architecture</td>\n",
       "      <td>82.88</td>\n",
       "      <td>Outdoors</td>\n",
       "      <td>[bestseller]</td>\n",
       "      <td>NaN</td>\n",
       "    </tr>\n",
       "  </tbody>\n",
       "</table>\n",
       "</div>"
      ],
      "text/plain": [
       "    _id                                              name   price  \\\n",
       "0    p0                            Total systemic project  131.73   \n",
       "1    p1                 Compatible real-time productivity  174.51   \n",
       "2    p2                Down-sized national superstructure  153.88   \n",
       "3    p3    Fully-configurable cohesive Local Area Network   75.00   \n",
       "4    p4            Multi-tiered encompassing productivity  194.76   \n",
       "5    p5          Team-oriented next generation definition  166.73   \n",
       "6    p6              Synergized fresh-thinking throughput   13.94   \n",
       "7    p7               Vision-oriented analyzing emulation   79.12   \n",
       "8    p8                   Automated foreground initiative  135.68   \n",
       "9    p9          Future-proofed asymmetric data-warehouse   36.86   \n",
       "10  p10    Re-contextualized transitional functionalities  169.36   \n",
       "11  p11            Extended solution-oriented methodology   83.23   \n",
       "12  p12              Object-based secondary knowledgebase   66.36   \n",
       "13  p13                    Digitized empowering challenge  150.27   \n",
       "14  p14  Fully-configurable value-added open architecture   82.88   \n",
       "\n",
       "       category                         tags  discontinued  \n",
       "0          Toys         [sale, limited, eco]           NaN  \n",
       "1      Outdoors       [eco, bestseller, new]           NaN  \n",
       "2   Electronics                           []           NaN  \n",
       "3         Books               [new, limited]           NaN  \n",
       "4          Home                           []           NaN  \n",
       "5          Toys           [bestseller, sale]           NaN  \n",
       "6      Outdoors                  [new, sale]           1.0  \n",
       "7          Home                  [sale, eco]           NaN  \n",
       "8   Electronics                 [bestseller]           NaN  \n",
       "9          Home           [bestseller, sale]           NaN  \n",
       "10  Electronics                        [new]           1.0  \n",
       "11  Electronics                 [bestseller]           1.0  \n",
       "12         Home  [limited, sale, bestseller]           NaN  \n",
       "13         Toys        [bestseller, limited]           1.0  \n",
       "14     Outdoors                 [bestseller]           NaN  "
      ]
     },
     "metadata": {},
     "output_type": "display_data"
    }
   ],
   "source": [
    "display(df)"
   ]
  },
  {
   "cell_type": "code",
   "execution_count": 8,
   "id": "8dcbd3f3",
   "metadata": {},
   "outputs": [
    {
     "data": {
      "text/plain": [
       "'discontinued'"
      ]
     },
     "execution_count": 8,
     "metadata": {},
     "output_type": "execute_result"
    }
   ],
   "source": [
    "\"empty\" #- explict category\n",
    "\"None\"\n",
    "\"Null\" #string\n",
    "\"discontinued\"\n",
    "\n",
    "\n",
    "\n",
    "\n"
   ]
  },
  {
   "cell_type": "code",
   "execution_count": 9,
   "id": "c854b398",
   "metadata": {},
   "outputs": [
    {
     "data": {
      "application/vnd.microsoft.datawrangler.viewer.v0+json": {
       "columns": [
        {
         "name": "index",
         "rawType": "int64",
         "type": "integer"
        },
        {
         "name": "tags 0",
         "rawType": "object",
         "type": "unknown"
        },
        {
         "name": "tags 1",
         "rawType": "object",
         "type": "unknown"
        },
        {
         "name": "tags 2",
         "rawType": "object",
         "type": "unknown"
        }
       ],
       "ref": "5422f243-4992-4548-a660-c0771be85bdf",
       "rows": [
        [
         "0",
         "sale",
         "limited",
         "eco"
        ],
        [
         "1",
         "eco",
         "bestseller",
         "new"
        ],
        [
         "2",
         null,
         null,
         null
        ],
        [
         "3",
         "new",
         "limited",
         null
        ],
        [
         "4",
         null,
         null,
         null
        ],
        [
         "5",
         "bestseller",
         "sale",
         null
        ],
        [
         "6",
         "new",
         "sale",
         null
        ],
        [
         "7",
         "sale",
         "eco",
         null
        ],
        [
         "8",
         "bestseller",
         null,
         null
        ],
        [
         "9",
         "bestseller",
         "sale",
         null
        ],
        [
         "10",
         "new",
         null,
         null
        ],
        [
         "11",
         "bestseller",
         null,
         null
        ],
        [
         "12",
         "limited",
         "sale",
         "bestseller"
        ],
        [
         "13",
         "bestseller",
         "limited",
         null
        ],
        [
         "14",
         "bestseller",
         null,
         null
        ]
       ],
       "shape": {
        "columns": 3,
        "rows": 15
       }
      },
      "text/html": [
       "<div>\n",
       "<style scoped>\n",
       "    .dataframe tbody tr th:only-of-type {\n",
       "        vertical-align: middle;\n",
       "    }\n",
       "\n",
       "    .dataframe tbody tr th {\n",
       "        vertical-align: top;\n",
       "    }\n",
       "\n",
       "    .dataframe thead th {\n",
       "        text-align: right;\n",
       "    }\n",
       "</style>\n",
       "<table border=\"1\" class=\"dataframe\">\n",
       "  <thead>\n",
       "    <tr style=\"text-align: right;\">\n",
       "      <th></th>\n",
       "      <th>tags 0</th>\n",
       "      <th>tags 1</th>\n",
       "      <th>tags 2</th>\n",
       "    </tr>\n",
       "  </thead>\n",
       "  <tbody>\n",
       "    <tr>\n",
       "      <th>0</th>\n",
       "      <td>sale</td>\n",
       "      <td>limited</td>\n",
       "      <td>eco</td>\n",
       "    </tr>\n",
       "    <tr>\n",
       "      <th>1</th>\n",
       "      <td>eco</td>\n",
       "      <td>bestseller</td>\n",
       "      <td>new</td>\n",
       "    </tr>\n",
       "    <tr>\n",
       "      <th>2</th>\n",
       "      <td>None</td>\n",
       "      <td>None</td>\n",
       "      <td>None</td>\n",
       "    </tr>\n",
       "    <tr>\n",
       "      <th>3</th>\n",
       "      <td>new</td>\n",
       "      <td>limited</td>\n",
       "      <td>None</td>\n",
       "    </tr>\n",
       "    <tr>\n",
       "      <th>4</th>\n",
       "      <td>None</td>\n",
       "      <td>None</td>\n",
       "      <td>None</td>\n",
       "    </tr>\n",
       "    <tr>\n",
       "      <th>5</th>\n",
       "      <td>bestseller</td>\n",
       "      <td>sale</td>\n",
       "      <td>None</td>\n",
       "    </tr>\n",
       "    <tr>\n",
       "      <th>6</th>\n",
       "      <td>new</td>\n",
       "      <td>sale</td>\n",
       "      <td>None</td>\n",
       "    </tr>\n",
       "    <tr>\n",
       "      <th>7</th>\n",
       "      <td>sale</td>\n",
       "      <td>eco</td>\n",
       "      <td>None</td>\n",
       "    </tr>\n",
       "    <tr>\n",
       "      <th>8</th>\n",
       "      <td>bestseller</td>\n",
       "      <td>None</td>\n",
       "      <td>None</td>\n",
       "    </tr>\n",
       "    <tr>\n",
       "      <th>9</th>\n",
       "      <td>bestseller</td>\n",
       "      <td>sale</td>\n",
       "      <td>None</td>\n",
       "    </tr>\n",
       "    <tr>\n",
       "      <th>10</th>\n",
       "      <td>new</td>\n",
       "      <td>None</td>\n",
       "      <td>None</td>\n",
       "    </tr>\n",
       "    <tr>\n",
       "      <th>11</th>\n",
       "      <td>bestseller</td>\n",
       "      <td>None</td>\n",
       "      <td>None</td>\n",
       "    </tr>\n",
       "    <tr>\n",
       "      <th>12</th>\n",
       "      <td>limited</td>\n",
       "      <td>sale</td>\n",
       "      <td>bestseller</td>\n",
       "    </tr>\n",
       "    <tr>\n",
       "      <th>13</th>\n",
       "      <td>bestseller</td>\n",
       "      <td>limited</td>\n",
       "      <td>None</td>\n",
       "    </tr>\n",
       "    <tr>\n",
       "      <th>14</th>\n",
       "      <td>bestseller</td>\n",
       "      <td>None</td>\n",
       "      <td>None</td>\n",
       "    </tr>\n",
       "  </tbody>\n",
       "</table>\n",
       "</div>"
      ],
      "text/plain": [
       "        tags 0      tags 1      tags 2\n",
       "0         sale     limited         eco\n",
       "1          eco  bestseller         new\n",
       "2         None        None        None\n",
       "3          new     limited        None\n",
       "4         None        None        None\n",
       "5   bestseller        sale        None\n",
       "6          new        sale        None\n",
       "7         sale         eco        None\n",
       "8   bestseller        None        None\n",
       "9   bestseller        sale        None\n",
       "10         new        None        None\n",
       "11  bestseller        None        None\n",
       "12     limited        sale  bestseller\n",
       "13  bestseller     limited        None\n",
       "14  bestseller        None        None"
      ]
     },
     "metadata": {},
     "output_type": "display_data"
    },
    {
     "data": {
      "text/plain": [
       "Index(['tags 0', 'tags 1', 'tags 2'], dtype='object')"
      ]
     },
     "metadata": {},
     "output_type": "display_data"
    },
    {
     "data": {
      "application/vnd.microsoft.datawrangler.viewer.v0+json": {
       "columns": [
        {
         "name": "index",
         "rawType": "int64",
         "type": "integer"
        },
        {
         "name": "_id",
         "rawType": "object",
         "type": "string"
        },
        {
         "name": "name",
         "rawType": "object",
         "type": "string"
        },
        {
         "name": "price",
         "rawType": "float64",
         "type": "float"
        },
        {
         "name": "category",
         "rawType": "object",
         "type": "string"
        },
        {
         "name": "tags",
         "rawType": "object",
         "type": "unknown"
        },
        {
         "name": "discontinued",
         "rawType": "float64",
         "type": "float"
        },
        {
         "name": "tags 0",
         "rawType": "object",
         "type": "unknown"
        },
        {
         "name": "tags 1",
         "rawType": "object",
         "type": "unknown"
        },
        {
         "name": "tags 2",
         "rawType": "object",
         "type": "unknown"
        }
       ],
       "ref": "78e72cf7-f2f4-40c7-88bf-216d518f25d1",
       "rows": [
        [
         "0",
         "p0",
         "Total systemic project",
         "131.73",
         "Toys",
         "['sale', 'limited', 'eco']",
         null,
         "sale",
         "limited",
         "eco"
        ],
        [
         "1",
         "p1",
         "Compatible real-time productivity",
         "174.51",
         "Outdoors",
         "['eco', 'bestseller', 'new']",
         null,
         "eco",
         "bestseller",
         "new"
        ],
        [
         "2",
         "p2",
         "Down-sized national superstructure",
         "153.88",
         "Electronics",
         "[]",
         null,
         null,
         null,
         null
        ],
        [
         "3",
         "p3",
         "Fully-configurable cohesive Local Area Network",
         "75.0",
         "Books",
         "['new', 'limited']",
         null,
         "new",
         "limited",
         null
        ],
        [
         "4",
         "p4",
         "Multi-tiered encompassing productivity",
         "194.76",
         "Home",
         "[]",
         null,
         null,
         null,
         null
        ],
        [
         "5",
         "p5",
         "Team-oriented next generation definition",
         "166.73",
         "Toys",
         "['bestseller', 'sale']",
         null,
         "bestseller",
         "sale",
         null
        ],
        [
         "6",
         "p6",
         "Synergized fresh-thinking throughput",
         "13.94",
         "Outdoors",
         "['new', 'sale']",
         "1.0",
         "new",
         "sale",
         null
        ],
        [
         "7",
         "p7",
         "Vision-oriented analyzing emulation",
         "79.12",
         "Home",
         "['sale', 'eco']",
         null,
         "sale",
         "eco",
         null
        ],
        [
         "8",
         "p8",
         "Automated foreground initiative",
         "135.68",
         "Electronics",
         "['bestseller']",
         null,
         "bestseller",
         null,
         null
        ],
        [
         "9",
         "p9",
         "Future-proofed asymmetric data-warehouse",
         "36.86",
         "Home",
         "['bestseller', 'sale']",
         null,
         "bestseller",
         "sale",
         null
        ],
        [
         "10",
         "p10",
         "Re-contextualized transitional functionalities",
         "169.36",
         "Electronics",
         "['new']",
         "1.0",
         "new",
         null,
         null
        ],
        [
         "11",
         "p11",
         "Extended solution-oriented methodology",
         "83.23",
         "Electronics",
         "['bestseller']",
         "1.0",
         "bestseller",
         null,
         null
        ],
        [
         "12",
         "p12",
         "Object-based secondary knowledgebase",
         "66.36",
         "Home",
         "['limited', 'sale', 'bestseller']",
         null,
         "limited",
         "sale",
         "bestseller"
        ],
        [
         "13",
         "p13",
         "Digitized empowering challenge",
         "150.27",
         "Toys",
         "['bestseller', 'limited']",
         "1.0",
         "bestseller",
         "limited",
         null
        ],
        [
         "14",
         "p14",
         "Fully-configurable value-added open architecture",
         "82.88",
         "Outdoors",
         "['bestseller']",
         null,
         "bestseller",
         null,
         null
        ]
       ],
       "shape": {
        "columns": 9,
        "rows": 15
       }
      },
      "text/html": [
       "<div>\n",
       "<style scoped>\n",
       "    .dataframe tbody tr th:only-of-type {\n",
       "        vertical-align: middle;\n",
       "    }\n",
       "\n",
       "    .dataframe tbody tr th {\n",
       "        vertical-align: top;\n",
       "    }\n",
       "\n",
       "    .dataframe thead th {\n",
       "        text-align: right;\n",
       "    }\n",
       "</style>\n",
       "<table border=\"1\" class=\"dataframe\">\n",
       "  <thead>\n",
       "    <tr style=\"text-align: right;\">\n",
       "      <th></th>\n",
       "      <th>_id</th>\n",
       "      <th>name</th>\n",
       "      <th>price</th>\n",
       "      <th>category</th>\n",
       "      <th>tags</th>\n",
       "      <th>discontinued</th>\n",
       "      <th>tags 0</th>\n",
       "      <th>tags 1</th>\n",
       "      <th>tags 2</th>\n",
       "    </tr>\n",
       "  </thead>\n",
       "  <tbody>\n",
       "    <tr>\n",
       "      <th>0</th>\n",
       "      <td>p0</td>\n",
       "      <td>Total systemic project</td>\n",
       "      <td>131.73</td>\n",
       "      <td>Toys</td>\n",
       "      <td>[sale, limited, eco]</td>\n",
       "      <td>NaN</td>\n",
       "      <td>sale</td>\n",
       "      <td>limited</td>\n",
       "      <td>eco</td>\n",
       "    </tr>\n",
       "    <tr>\n",
       "      <th>1</th>\n",
       "      <td>p1</td>\n",
       "      <td>Compatible real-time productivity</td>\n",
       "      <td>174.51</td>\n",
       "      <td>Outdoors</td>\n",
       "      <td>[eco, bestseller, new]</td>\n",
       "      <td>NaN</td>\n",
       "      <td>eco</td>\n",
       "      <td>bestseller</td>\n",
       "      <td>new</td>\n",
       "    </tr>\n",
       "    <tr>\n",
       "      <th>2</th>\n",
       "      <td>p2</td>\n",
       "      <td>Down-sized national superstructure</td>\n",
       "      <td>153.88</td>\n",
       "      <td>Electronics</td>\n",
       "      <td>[]</td>\n",
       "      <td>NaN</td>\n",
       "      <td>None</td>\n",
       "      <td>None</td>\n",
       "      <td>None</td>\n",
       "    </tr>\n",
       "    <tr>\n",
       "      <th>3</th>\n",
       "      <td>p3</td>\n",
       "      <td>Fully-configurable cohesive Local Area Network</td>\n",
       "      <td>75.00</td>\n",
       "      <td>Books</td>\n",
       "      <td>[new, limited]</td>\n",
       "      <td>NaN</td>\n",
       "      <td>new</td>\n",
       "      <td>limited</td>\n",
       "      <td>None</td>\n",
       "    </tr>\n",
       "    <tr>\n",
       "      <th>4</th>\n",
       "      <td>p4</td>\n",
       "      <td>Multi-tiered encompassing productivity</td>\n",
       "      <td>194.76</td>\n",
       "      <td>Home</td>\n",
       "      <td>[]</td>\n",
       "      <td>NaN</td>\n",
       "      <td>None</td>\n",
       "      <td>None</td>\n",
       "      <td>None</td>\n",
       "    </tr>\n",
       "    <tr>\n",
       "      <th>5</th>\n",
       "      <td>p5</td>\n",
       "      <td>Team-oriented next generation definition</td>\n",
       "      <td>166.73</td>\n",
       "      <td>Toys</td>\n",
       "      <td>[bestseller, sale]</td>\n",
       "      <td>NaN</td>\n",
       "      <td>bestseller</td>\n",
       "      <td>sale</td>\n",
       "      <td>None</td>\n",
       "    </tr>\n",
       "    <tr>\n",
       "      <th>6</th>\n",
       "      <td>p6</td>\n",
       "      <td>Synergized fresh-thinking throughput</td>\n",
       "      <td>13.94</td>\n",
       "      <td>Outdoors</td>\n",
       "      <td>[new, sale]</td>\n",
       "      <td>1.0</td>\n",
       "      <td>new</td>\n",
       "      <td>sale</td>\n",
       "      <td>None</td>\n",
       "    </tr>\n",
       "    <tr>\n",
       "      <th>7</th>\n",
       "      <td>p7</td>\n",
       "      <td>Vision-oriented analyzing emulation</td>\n",
       "      <td>79.12</td>\n",
       "      <td>Home</td>\n",
       "      <td>[sale, eco]</td>\n",
       "      <td>NaN</td>\n",
       "      <td>sale</td>\n",
       "      <td>eco</td>\n",
       "      <td>None</td>\n",
       "    </tr>\n",
       "    <tr>\n",
       "      <th>8</th>\n",
       "      <td>p8</td>\n",
       "      <td>Automated foreground initiative</td>\n",
       "      <td>135.68</td>\n",
       "      <td>Electronics</td>\n",
       "      <td>[bestseller]</td>\n",
       "      <td>NaN</td>\n",
       "      <td>bestseller</td>\n",
       "      <td>None</td>\n",
       "      <td>None</td>\n",
       "    </tr>\n",
       "    <tr>\n",
       "      <th>9</th>\n",
       "      <td>p9</td>\n",
       "      <td>Future-proofed asymmetric data-warehouse</td>\n",
       "      <td>36.86</td>\n",
       "      <td>Home</td>\n",
       "      <td>[bestseller, sale]</td>\n",
       "      <td>NaN</td>\n",
       "      <td>bestseller</td>\n",
       "      <td>sale</td>\n",
       "      <td>None</td>\n",
       "    </tr>\n",
       "    <tr>\n",
       "      <th>10</th>\n",
       "      <td>p10</td>\n",
       "      <td>Re-contextualized transitional functionalities</td>\n",
       "      <td>169.36</td>\n",
       "      <td>Electronics</td>\n",
       "      <td>[new]</td>\n",
       "      <td>1.0</td>\n",
       "      <td>new</td>\n",
       "      <td>None</td>\n",
       "      <td>None</td>\n",
       "    </tr>\n",
       "    <tr>\n",
       "      <th>11</th>\n",
       "      <td>p11</td>\n",
       "      <td>Extended solution-oriented methodology</td>\n",
       "      <td>83.23</td>\n",
       "      <td>Electronics</td>\n",
       "      <td>[bestseller]</td>\n",
       "      <td>1.0</td>\n",
       "      <td>bestseller</td>\n",
       "      <td>None</td>\n",
       "      <td>None</td>\n",
       "    </tr>\n",
       "    <tr>\n",
       "      <th>12</th>\n",
       "      <td>p12</td>\n",
       "      <td>Object-based secondary knowledgebase</td>\n",
       "      <td>66.36</td>\n",
       "      <td>Home</td>\n",
       "      <td>[limited, sale, bestseller]</td>\n",
       "      <td>NaN</td>\n",
       "      <td>limited</td>\n",
       "      <td>sale</td>\n",
       "      <td>bestseller</td>\n",
       "    </tr>\n",
       "    <tr>\n",
       "      <th>13</th>\n",
       "      <td>p13</td>\n",
       "      <td>Digitized empowering challenge</td>\n",
       "      <td>150.27</td>\n",
       "      <td>Toys</td>\n",
       "      <td>[bestseller, limited]</td>\n",
       "      <td>1.0</td>\n",
       "      <td>bestseller</td>\n",
       "      <td>limited</td>\n",
       "      <td>None</td>\n",
       "    </tr>\n",
       "    <tr>\n",
       "      <th>14</th>\n",
       "      <td>p14</td>\n",
       "      <td>Fully-configurable value-added open architecture</td>\n",
       "      <td>82.88</td>\n",
       "      <td>Outdoors</td>\n",
       "      <td>[bestseller]</td>\n",
       "      <td>NaN</td>\n",
       "      <td>bestseller</td>\n",
       "      <td>None</td>\n",
       "      <td>None</td>\n",
       "    </tr>\n",
       "  </tbody>\n",
       "</table>\n",
       "</div>"
      ],
      "text/plain": [
       "    _id                                              name   price  \\\n",
       "0    p0                            Total systemic project  131.73   \n",
       "1    p1                 Compatible real-time productivity  174.51   \n",
       "2    p2                Down-sized national superstructure  153.88   \n",
       "3    p3    Fully-configurable cohesive Local Area Network   75.00   \n",
       "4    p4            Multi-tiered encompassing productivity  194.76   \n",
       "5    p5          Team-oriented next generation definition  166.73   \n",
       "6    p6              Synergized fresh-thinking throughput   13.94   \n",
       "7    p7               Vision-oriented analyzing emulation   79.12   \n",
       "8    p8                   Automated foreground initiative  135.68   \n",
       "9    p9          Future-proofed asymmetric data-warehouse   36.86   \n",
       "10  p10    Re-contextualized transitional functionalities  169.36   \n",
       "11  p11            Extended solution-oriented methodology   83.23   \n",
       "12  p12              Object-based secondary knowledgebase   66.36   \n",
       "13  p13                    Digitized empowering challenge  150.27   \n",
       "14  p14  Fully-configurable value-added open architecture   82.88   \n",
       "\n",
       "       category                         tags  discontinued      tags 0  \\\n",
       "0          Toys         [sale, limited, eco]           NaN        sale   \n",
       "1      Outdoors       [eco, bestseller, new]           NaN         eco   \n",
       "2   Electronics                           []           NaN        None   \n",
       "3         Books               [new, limited]           NaN         new   \n",
       "4          Home                           []           NaN        None   \n",
       "5          Toys           [bestseller, sale]           NaN  bestseller   \n",
       "6      Outdoors                  [new, sale]           1.0         new   \n",
       "7          Home                  [sale, eco]           NaN        sale   \n",
       "8   Electronics                 [bestseller]           NaN  bestseller   \n",
       "9          Home           [bestseller, sale]           NaN  bestseller   \n",
       "10  Electronics                        [new]           1.0         new   \n",
       "11  Electronics                 [bestseller]           1.0  bestseller   \n",
       "12         Home  [limited, sale, bestseller]           NaN     limited   \n",
       "13         Toys        [bestseller, limited]           1.0  bestseller   \n",
       "14     Outdoors                 [bestseller]           NaN  bestseller   \n",
       "\n",
       "        tags 1      tags 2  \n",
       "0      limited         eco  \n",
       "1   bestseller         new  \n",
       "2         None        None  \n",
       "3      limited        None  \n",
       "4         None        None  \n",
       "5         sale        None  \n",
       "6         sale        None  \n",
       "7          eco        None  \n",
       "8         None        None  \n",
       "9         sale        None  \n",
       "10        None        None  \n",
       "11        None        None  \n",
       "12        sale  bestseller  \n",
       "13     limited        None  \n",
       "14        None        None  "
      ]
     },
     "metadata": {},
     "output_type": "display_data"
    }
   ],
   "source": [
    "display(flattened_subframe)\n",
    "\n",
    "new_column_names = flattened_subframe.columns\n",
    "\n",
    "display(new_column_names)\n",
    "\n",
    "df[new_column_names] = flattened_subframe\n",
    "\n",
    "display(df)\n"
   ]
  },
  {
   "cell_type": "code",
   "execution_count": 10,
   "id": "67813724",
   "metadata": {},
   "outputs": [
    {
     "data": {
      "application/vnd.microsoft.datawrangler.viewer.v0+json": {
       "columns": [
        {
         "name": "index",
         "rawType": "int64",
         "type": "integer"
        },
        {
         "name": "_id",
         "rawType": "object",
         "type": "string"
        },
        {
         "name": "name",
         "rawType": "object",
         "type": "string"
        },
        {
         "name": "price",
         "rawType": "float64",
         "type": "float"
        },
        {
         "name": "category",
         "rawType": "object",
         "type": "string"
        },
        {
         "name": "discontinued",
         "rawType": "float64",
         "type": "float"
        },
        {
         "name": "tags 0",
         "rawType": "object",
         "type": "unknown"
        },
        {
         "name": "tags 1",
         "rawType": "object",
         "type": "unknown"
        },
        {
         "name": "tags 2",
         "rawType": "object",
         "type": "unknown"
        }
       ],
       "ref": "7222e026-397d-4551-826c-300357f895c3",
       "rows": [
        [
         "0",
         "p0",
         "Total systemic project",
         "131.73",
         "Toys",
         null,
         "sale",
         "limited",
         "eco"
        ],
        [
         "1",
         "p1",
         "Compatible real-time productivity",
         "174.51",
         "Outdoors",
         null,
         "eco",
         "bestseller",
         "new"
        ],
        [
         "2",
         "p2",
         "Down-sized national superstructure",
         "153.88",
         "Electronics",
         null,
         null,
         null,
         null
        ],
        [
         "3",
         "p3",
         "Fully-configurable cohesive Local Area Network",
         "75.0",
         "Books",
         null,
         "new",
         "limited",
         null
        ],
        [
         "4",
         "p4",
         "Multi-tiered encompassing productivity",
         "194.76",
         "Home",
         null,
         null,
         null,
         null
        ],
        [
         "5",
         "p5",
         "Team-oriented next generation definition",
         "166.73",
         "Toys",
         null,
         "bestseller",
         "sale",
         null
        ],
        [
         "6",
         "p6",
         "Synergized fresh-thinking throughput",
         "13.94",
         "Outdoors",
         "1.0",
         "new",
         "sale",
         null
        ],
        [
         "7",
         "p7",
         "Vision-oriented analyzing emulation",
         "79.12",
         "Home",
         null,
         "sale",
         "eco",
         null
        ],
        [
         "8",
         "p8",
         "Automated foreground initiative",
         "135.68",
         "Electronics",
         null,
         "bestseller",
         null,
         null
        ],
        [
         "9",
         "p9",
         "Future-proofed asymmetric data-warehouse",
         "36.86",
         "Home",
         null,
         "bestseller",
         "sale",
         null
        ],
        [
         "10",
         "p10",
         "Re-contextualized transitional functionalities",
         "169.36",
         "Electronics",
         "1.0",
         "new",
         null,
         null
        ],
        [
         "11",
         "p11",
         "Extended solution-oriented methodology",
         "83.23",
         "Electronics",
         "1.0",
         "bestseller",
         null,
         null
        ],
        [
         "12",
         "p12",
         "Object-based secondary knowledgebase",
         "66.36",
         "Home",
         null,
         "limited",
         "sale",
         "bestseller"
        ],
        [
         "13",
         "p13",
         "Digitized empowering challenge",
         "150.27",
         "Toys",
         "1.0",
         "bestseller",
         "limited",
         null
        ],
        [
         "14",
         "p14",
         "Fully-configurable value-added open architecture",
         "82.88",
         "Outdoors",
         null,
         "bestseller",
         null,
         null
        ]
       ],
       "shape": {
        "columns": 8,
        "rows": 15
       }
      },
      "text/html": [
       "<div>\n",
       "<style scoped>\n",
       "    .dataframe tbody tr th:only-of-type {\n",
       "        vertical-align: middle;\n",
       "    }\n",
       "\n",
       "    .dataframe tbody tr th {\n",
       "        vertical-align: top;\n",
       "    }\n",
       "\n",
       "    .dataframe thead th {\n",
       "        text-align: right;\n",
       "    }\n",
       "</style>\n",
       "<table border=\"1\" class=\"dataframe\">\n",
       "  <thead>\n",
       "    <tr style=\"text-align: right;\">\n",
       "      <th></th>\n",
       "      <th>_id</th>\n",
       "      <th>name</th>\n",
       "      <th>price</th>\n",
       "      <th>category</th>\n",
       "      <th>discontinued</th>\n",
       "      <th>tags 0</th>\n",
       "      <th>tags 1</th>\n",
       "      <th>tags 2</th>\n",
       "    </tr>\n",
       "  </thead>\n",
       "  <tbody>\n",
       "    <tr>\n",
       "      <th>0</th>\n",
       "      <td>p0</td>\n",
       "      <td>Total systemic project</td>\n",
       "      <td>131.73</td>\n",
       "      <td>Toys</td>\n",
       "      <td>NaN</td>\n",
       "      <td>sale</td>\n",
       "      <td>limited</td>\n",
       "      <td>eco</td>\n",
       "    </tr>\n",
       "    <tr>\n",
       "      <th>1</th>\n",
       "      <td>p1</td>\n",
       "      <td>Compatible real-time productivity</td>\n",
       "      <td>174.51</td>\n",
       "      <td>Outdoors</td>\n",
       "      <td>NaN</td>\n",
       "      <td>eco</td>\n",
       "      <td>bestseller</td>\n",
       "      <td>new</td>\n",
       "    </tr>\n",
       "    <tr>\n",
       "      <th>2</th>\n",
       "      <td>p2</td>\n",
       "      <td>Down-sized national superstructure</td>\n",
       "      <td>153.88</td>\n",
       "      <td>Electronics</td>\n",
       "      <td>NaN</td>\n",
       "      <td>None</td>\n",
       "      <td>None</td>\n",
       "      <td>None</td>\n",
       "    </tr>\n",
       "    <tr>\n",
       "      <th>3</th>\n",
       "      <td>p3</td>\n",
       "      <td>Fully-configurable cohesive Local Area Network</td>\n",
       "      <td>75.00</td>\n",
       "      <td>Books</td>\n",
       "      <td>NaN</td>\n",
       "      <td>new</td>\n",
       "      <td>limited</td>\n",
       "      <td>None</td>\n",
       "    </tr>\n",
       "    <tr>\n",
       "      <th>4</th>\n",
       "      <td>p4</td>\n",
       "      <td>Multi-tiered encompassing productivity</td>\n",
       "      <td>194.76</td>\n",
       "      <td>Home</td>\n",
       "      <td>NaN</td>\n",
       "      <td>None</td>\n",
       "      <td>None</td>\n",
       "      <td>None</td>\n",
       "    </tr>\n",
       "    <tr>\n",
       "      <th>5</th>\n",
       "      <td>p5</td>\n",
       "      <td>Team-oriented next generation definition</td>\n",
       "      <td>166.73</td>\n",
       "      <td>Toys</td>\n",
       "      <td>NaN</td>\n",
       "      <td>bestseller</td>\n",
       "      <td>sale</td>\n",
       "      <td>None</td>\n",
       "    </tr>\n",
       "    <tr>\n",
       "      <th>6</th>\n",
       "      <td>p6</td>\n",
       "      <td>Synergized fresh-thinking throughput</td>\n",
       "      <td>13.94</td>\n",
       "      <td>Outdoors</td>\n",
       "      <td>1.0</td>\n",
       "      <td>new</td>\n",
       "      <td>sale</td>\n",
       "      <td>None</td>\n",
       "    </tr>\n",
       "    <tr>\n",
       "      <th>7</th>\n",
       "      <td>p7</td>\n",
       "      <td>Vision-oriented analyzing emulation</td>\n",
       "      <td>79.12</td>\n",
       "      <td>Home</td>\n",
       "      <td>NaN</td>\n",
       "      <td>sale</td>\n",
       "      <td>eco</td>\n",
       "      <td>None</td>\n",
       "    </tr>\n",
       "    <tr>\n",
       "      <th>8</th>\n",
       "      <td>p8</td>\n",
       "      <td>Automated foreground initiative</td>\n",
       "      <td>135.68</td>\n",
       "      <td>Electronics</td>\n",
       "      <td>NaN</td>\n",
       "      <td>bestseller</td>\n",
       "      <td>None</td>\n",
       "      <td>None</td>\n",
       "    </tr>\n",
       "    <tr>\n",
       "      <th>9</th>\n",
       "      <td>p9</td>\n",
       "      <td>Future-proofed asymmetric data-warehouse</td>\n",
       "      <td>36.86</td>\n",
       "      <td>Home</td>\n",
       "      <td>NaN</td>\n",
       "      <td>bestseller</td>\n",
       "      <td>sale</td>\n",
       "      <td>None</td>\n",
       "    </tr>\n",
       "    <tr>\n",
       "      <th>10</th>\n",
       "      <td>p10</td>\n",
       "      <td>Re-contextualized transitional functionalities</td>\n",
       "      <td>169.36</td>\n",
       "      <td>Electronics</td>\n",
       "      <td>1.0</td>\n",
       "      <td>new</td>\n",
       "      <td>None</td>\n",
       "      <td>None</td>\n",
       "    </tr>\n",
       "    <tr>\n",
       "      <th>11</th>\n",
       "      <td>p11</td>\n",
       "      <td>Extended solution-oriented methodology</td>\n",
       "      <td>83.23</td>\n",
       "      <td>Electronics</td>\n",
       "      <td>1.0</td>\n",
       "      <td>bestseller</td>\n",
       "      <td>None</td>\n",
       "      <td>None</td>\n",
       "    </tr>\n",
       "    <tr>\n",
       "      <th>12</th>\n",
       "      <td>p12</td>\n",
       "      <td>Object-based secondary knowledgebase</td>\n",
       "      <td>66.36</td>\n",
       "      <td>Home</td>\n",
       "      <td>NaN</td>\n",
       "      <td>limited</td>\n",
       "      <td>sale</td>\n",
       "      <td>bestseller</td>\n",
       "    </tr>\n",
       "    <tr>\n",
       "      <th>13</th>\n",
       "      <td>p13</td>\n",
       "      <td>Digitized empowering challenge</td>\n",
       "      <td>150.27</td>\n",
       "      <td>Toys</td>\n",
       "      <td>1.0</td>\n",
       "      <td>bestseller</td>\n",
       "      <td>limited</td>\n",
       "      <td>None</td>\n",
       "    </tr>\n",
       "    <tr>\n",
       "      <th>14</th>\n",
       "      <td>p14</td>\n",
       "      <td>Fully-configurable value-added open architecture</td>\n",
       "      <td>82.88</td>\n",
       "      <td>Outdoors</td>\n",
       "      <td>NaN</td>\n",
       "      <td>bestseller</td>\n",
       "      <td>None</td>\n",
       "      <td>None</td>\n",
       "    </tr>\n",
       "  </tbody>\n",
       "</table>\n",
       "</div>"
      ],
      "text/plain": [
       "    _id                                              name   price  \\\n",
       "0    p0                            Total systemic project  131.73   \n",
       "1    p1                 Compatible real-time productivity  174.51   \n",
       "2    p2                Down-sized national superstructure  153.88   \n",
       "3    p3    Fully-configurable cohesive Local Area Network   75.00   \n",
       "4    p4            Multi-tiered encompassing productivity  194.76   \n",
       "5    p5          Team-oriented next generation definition  166.73   \n",
       "6    p6              Synergized fresh-thinking throughput   13.94   \n",
       "7    p7               Vision-oriented analyzing emulation   79.12   \n",
       "8    p8                   Automated foreground initiative  135.68   \n",
       "9    p9          Future-proofed asymmetric data-warehouse   36.86   \n",
       "10  p10    Re-contextualized transitional functionalities  169.36   \n",
       "11  p11            Extended solution-oriented methodology   83.23   \n",
       "12  p12              Object-based secondary knowledgebase   66.36   \n",
       "13  p13                    Digitized empowering challenge  150.27   \n",
       "14  p14  Fully-configurable value-added open architecture   82.88   \n",
       "\n",
       "       category  discontinued      tags 0      tags 1      tags 2  \n",
       "0          Toys           NaN        sale     limited         eco  \n",
       "1      Outdoors           NaN         eco  bestseller         new  \n",
       "2   Electronics           NaN        None        None        None  \n",
       "3         Books           NaN         new     limited        None  \n",
       "4          Home           NaN        None        None        None  \n",
       "5          Toys           NaN  bestseller        sale        None  \n",
       "6      Outdoors           1.0         new        sale        None  \n",
       "7          Home           NaN        sale         eco        None  \n",
       "8   Electronics           NaN  bestseller        None        None  \n",
       "9          Home           NaN  bestseller        sale        None  \n",
       "10  Electronics           1.0         new        None        None  \n",
       "11  Electronics           1.0  bestseller        None        None  \n",
       "12         Home           NaN     limited        sale  bestseller  \n",
       "13         Toys           1.0  bestseller     limited        None  \n",
       "14     Outdoors           NaN  bestseller        None        None  "
      ]
     },
     "metadata": {},
     "output_type": "display_data"
    }
   ],
   "source": [
    "df = df.drop(columns = 'tags')\n",
    "\n",
    "display(df)"
   ]
  },
  {
   "cell_type": "code",
   "execution_count": 11,
   "id": "c089155a",
   "metadata": {},
   "outputs": [
    {
     "name": "stdout",
     "output_type": "stream",
     "text": [
      "Value is 3\n"
     ]
    }
   ],
   "source": [
    "my_value = 3\n",
    "\n",
    "\n",
    "\n",
    "if my_value == 3:\n",
    "    print(\"Value is 3\")\n",
    "\n",
    "# my_value  3"
   ]
  },
  {
   "cell_type": "code",
   "execution_count": 12,
   "id": "89fe796c",
   "metadata": {},
   "outputs": [],
   "source": [
    "# condition_series = (df['tags 0'] >= 100)"
   ]
  },
  {
   "cell_type": "code",
   "execution_count": 13,
   "id": "e04804ac",
   "metadata": {},
   "outputs": [
    {
     "name": "stderr",
     "output_type": "stream",
     "text": [
      "/tmp/ipykernel_11512/2490928574.py:3: SettingWithCopyWarning: \n",
      "A value is trying to be set on a copy of a slice from a DataFrame\n",
      "\n",
      "See the caveats in the documentation: https://pandas.pydata.org/pandas-docs/stable/user_guide/indexing.html#returning-a-view-versus-a-copy\n",
      "  price_column[3] = None\n"
     ]
    },
    {
     "data": {
      "application/vnd.microsoft.datawrangler.viewer.v0+json": {
       "columns": [
        {
         "name": "index",
         "rawType": "int64",
         "type": "integer"
        },
        {
         "name": "_id",
         "rawType": "object",
         "type": "string"
        },
        {
         "name": "name",
         "rawType": "object",
         "type": "string"
        },
        {
         "name": "price",
         "rawType": "float64",
         "type": "float"
        },
        {
         "name": "category",
         "rawType": "object",
         "type": "string"
        },
        {
         "name": "discontinued",
         "rawType": "float64",
         "type": "float"
        },
        {
         "name": "tags 0",
         "rawType": "object",
         "type": "unknown"
        },
        {
         "name": "tags 1",
         "rawType": "object",
         "type": "unknown"
        },
        {
         "name": "tags 2",
         "rawType": "object",
         "type": "unknown"
        }
       ],
       "ref": "d27dcf69-e4b2-47e8-b7e8-d0a0aacb3351",
       "rows": [
        [
         "0",
         "p0",
         "Total systemic project",
         "131.73",
         "Toys",
         null,
         "sale",
         "limited",
         "eco"
        ],
        [
         "1",
         "p1",
         "Compatible real-time productivity",
         "174.51",
         "Outdoors",
         null,
         "eco",
         "bestseller",
         "new"
        ],
        [
         "2",
         "p2",
         "Down-sized national superstructure",
         "153.88",
         "Electronics",
         null,
         null,
         null,
         null
        ],
        [
         "3",
         "p3",
         "Fully-configurable cohesive Local Area Network",
         null,
         "Books",
         null,
         "new",
         "limited",
         null
        ],
        [
         "4",
         "p4",
         "Multi-tiered encompassing productivity",
         "194.76",
         "Home",
         null,
         null,
         null,
         null
        ],
        [
         "5",
         "p5",
         "Team-oriented next generation definition",
         "166.73",
         "Toys",
         null,
         "bestseller",
         "sale",
         null
        ],
        [
         "6",
         "p6",
         "Synergized fresh-thinking throughput",
         "13.94",
         "Outdoors",
         "1.0",
         "new",
         "sale",
         null
        ],
        [
         "7",
         "p7",
         "Vision-oriented analyzing emulation",
         "79.12",
         "Home",
         null,
         "sale",
         "eco",
         null
        ],
        [
         "8",
         "p8",
         "Automated foreground initiative",
         "135.68",
         "Electronics",
         null,
         "bestseller",
         null,
         null
        ],
        [
         "9",
         "p9",
         "Future-proofed asymmetric data-warehouse",
         "36.86",
         "Home",
         null,
         "bestseller",
         "sale",
         null
        ],
        [
         "10",
         "p10",
         "Re-contextualized transitional functionalities",
         "169.36",
         "Electronics",
         "1.0",
         "new",
         null,
         null
        ],
        [
         "11",
         "p11",
         "Extended solution-oriented methodology",
         "83.23",
         "Electronics",
         "1.0",
         "bestseller",
         null,
         null
        ],
        [
         "12",
         "p12",
         "Object-based secondary knowledgebase",
         "66.36",
         "Home",
         null,
         "limited",
         "sale",
         "bestseller"
        ],
        [
         "13",
         "p13",
         "Digitized empowering challenge",
         "150.27",
         "Toys",
         "1.0",
         "bestseller",
         "limited",
         null
        ],
        [
         "14",
         "p14",
         "Fully-configurable value-added open architecture",
         "82.88",
         "Outdoors",
         null,
         "bestseller",
         null,
         null
        ]
       ],
       "shape": {
        "columns": 8,
        "rows": 15
       }
      },
      "text/html": [
       "<div>\n",
       "<style scoped>\n",
       "    .dataframe tbody tr th:only-of-type {\n",
       "        vertical-align: middle;\n",
       "    }\n",
       "\n",
       "    .dataframe tbody tr th {\n",
       "        vertical-align: top;\n",
       "    }\n",
       "\n",
       "    .dataframe thead th {\n",
       "        text-align: right;\n",
       "    }\n",
       "</style>\n",
       "<table border=\"1\" class=\"dataframe\">\n",
       "  <thead>\n",
       "    <tr style=\"text-align: right;\">\n",
       "      <th></th>\n",
       "      <th>_id</th>\n",
       "      <th>name</th>\n",
       "      <th>price</th>\n",
       "      <th>category</th>\n",
       "      <th>discontinued</th>\n",
       "      <th>tags 0</th>\n",
       "      <th>tags 1</th>\n",
       "      <th>tags 2</th>\n",
       "    </tr>\n",
       "  </thead>\n",
       "  <tbody>\n",
       "    <tr>\n",
       "      <th>0</th>\n",
       "      <td>p0</td>\n",
       "      <td>Total systemic project</td>\n",
       "      <td>131.73</td>\n",
       "      <td>Toys</td>\n",
       "      <td>NaN</td>\n",
       "      <td>sale</td>\n",
       "      <td>limited</td>\n",
       "      <td>eco</td>\n",
       "    </tr>\n",
       "    <tr>\n",
       "      <th>1</th>\n",
       "      <td>p1</td>\n",
       "      <td>Compatible real-time productivity</td>\n",
       "      <td>174.51</td>\n",
       "      <td>Outdoors</td>\n",
       "      <td>NaN</td>\n",
       "      <td>eco</td>\n",
       "      <td>bestseller</td>\n",
       "      <td>new</td>\n",
       "    </tr>\n",
       "    <tr>\n",
       "      <th>2</th>\n",
       "      <td>p2</td>\n",
       "      <td>Down-sized national superstructure</td>\n",
       "      <td>153.88</td>\n",
       "      <td>Electronics</td>\n",
       "      <td>NaN</td>\n",
       "      <td>None</td>\n",
       "      <td>None</td>\n",
       "      <td>None</td>\n",
       "    </tr>\n",
       "    <tr>\n",
       "      <th>3</th>\n",
       "      <td>p3</td>\n",
       "      <td>Fully-configurable cohesive Local Area Network</td>\n",
       "      <td>NaN</td>\n",
       "      <td>Books</td>\n",
       "      <td>NaN</td>\n",
       "      <td>new</td>\n",
       "      <td>limited</td>\n",
       "      <td>None</td>\n",
       "    </tr>\n",
       "    <tr>\n",
       "      <th>4</th>\n",
       "      <td>p4</td>\n",
       "      <td>Multi-tiered encompassing productivity</td>\n",
       "      <td>194.76</td>\n",
       "      <td>Home</td>\n",
       "      <td>NaN</td>\n",
       "      <td>None</td>\n",
       "      <td>None</td>\n",
       "      <td>None</td>\n",
       "    </tr>\n",
       "    <tr>\n",
       "      <th>5</th>\n",
       "      <td>p5</td>\n",
       "      <td>Team-oriented next generation definition</td>\n",
       "      <td>166.73</td>\n",
       "      <td>Toys</td>\n",
       "      <td>NaN</td>\n",
       "      <td>bestseller</td>\n",
       "      <td>sale</td>\n",
       "      <td>None</td>\n",
       "    </tr>\n",
       "    <tr>\n",
       "      <th>6</th>\n",
       "      <td>p6</td>\n",
       "      <td>Synergized fresh-thinking throughput</td>\n",
       "      <td>13.94</td>\n",
       "      <td>Outdoors</td>\n",
       "      <td>1.0</td>\n",
       "      <td>new</td>\n",
       "      <td>sale</td>\n",
       "      <td>None</td>\n",
       "    </tr>\n",
       "    <tr>\n",
       "      <th>7</th>\n",
       "      <td>p7</td>\n",
       "      <td>Vision-oriented analyzing emulation</td>\n",
       "      <td>79.12</td>\n",
       "      <td>Home</td>\n",
       "      <td>NaN</td>\n",
       "      <td>sale</td>\n",
       "      <td>eco</td>\n",
       "      <td>None</td>\n",
       "    </tr>\n",
       "    <tr>\n",
       "      <th>8</th>\n",
       "      <td>p8</td>\n",
       "      <td>Automated foreground initiative</td>\n",
       "      <td>135.68</td>\n",
       "      <td>Electronics</td>\n",
       "      <td>NaN</td>\n",
       "      <td>bestseller</td>\n",
       "      <td>None</td>\n",
       "      <td>None</td>\n",
       "    </tr>\n",
       "    <tr>\n",
       "      <th>9</th>\n",
       "      <td>p9</td>\n",
       "      <td>Future-proofed asymmetric data-warehouse</td>\n",
       "      <td>36.86</td>\n",
       "      <td>Home</td>\n",
       "      <td>NaN</td>\n",
       "      <td>bestseller</td>\n",
       "      <td>sale</td>\n",
       "      <td>None</td>\n",
       "    </tr>\n",
       "    <tr>\n",
       "      <th>10</th>\n",
       "      <td>p10</td>\n",
       "      <td>Re-contextualized transitional functionalities</td>\n",
       "      <td>169.36</td>\n",
       "      <td>Electronics</td>\n",
       "      <td>1.0</td>\n",
       "      <td>new</td>\n",
       "      <td>None</td>\n",
       "      <td>None</td>\n",
       "    </tr>\n",
       "    <tr>\n",
       "      <th>11</th>\n",
       "      <td>p11</td>\n",
       "      <td>Extended solution-oriented methodology</td>\n",
       "      <td>83.23</td>\n",
       "      <td>Electronics</td>\n",
       "      <td>1.0</td>\n",
       "      <td>bestseller</td>\n",
       "      <td>None</td>\n",
       "      <td>None</td>\n",
       "    </tr>\n",
       "    <tr>\n",
       "      <th>12</th>\n",
       "      <td>p12</td>\n",
       "      <td>Object-based secondary knowledgebase</td>\n",
       "      <td>66.36</td>\n",
       "      <td>Home</td>\n",
       "      <td>NaN</td>\n",
       "      <td>limited</td>\n",
       "      <td>sale</td>\n",
       "      <td>bestseller</td>\n",
       "    </tr>\n",
       "    <tr>\n",
       "      <th>13</th>\n",
       "      <td>p13</td>\n",
       "      <td>Digitized empowering challenge</td>\n",
       "      <td>150.27</td>\n",
       "      <td>Toys</td>\n",
       "      <td>1.0</td>\n",
       "      <td>bestseller</td>\n",
       "      <td>limited</td>\n",
       "      <td>None</td>\n",
       "    </tr>\n",
       "    <tr>\n",
       "      <th>14</th>\n",
       "      <td>p14</td>\n",
       "      <td>Fully-configurable value-added open architecture</td>\n",
       "      <td>82.88</td>\n",
       "      <td>Outdoors</td>\n",
       "      <td>NaN</td>\n",
       "      <td>bestseller</td>\n",
       "      <td>None</td>\n",
       "      <td>None</td>\n",
       "    </tr>\n",
       "  </tbody>\n",
       "</table>\n",
       "</div>"
      ],
      "text/plain": [
       "    _id                                              name   price  \\\n",
       "0    p0                            Total systemic project  131.73   \n",
       "1    p1                 Compatible real-time productivity  174.51   \n",
       "2    p2                Down-sized national superstructure  153.88   \n",
       "3    p3    Fully-configurable cohesive Local Area Network     NaN   \n",
       "4    p4            Multi-tiered encompassing productivity  194.76   \n",
       "5    p5          Team-oriented next generation definition  166.73   \n",
       "6    p6              Synergized fresh-thinking throughput   13.94   \n",
       "7    p7               Vision-oriented analyzing emulation   79.12   \n",
       "8    p8                   Automated foreground initiative  135.68   \n",
       "9    p9          Future-proofed asymmetric data-warehouse   36.86   \n",
       "10  p10    Re-contextualized transitional functionalities  169.36   \n",
       "11  p11            Extended solution-oriented methodology   83.23   \n",
       "12  p12              Object-based secondary knowledgebase   66.36   \n",
       "13  p13                    Digitized empowering challenge  150.27   \n",
       "14  p14  Fully-configurable value-added open architecture   82.88   \n",
       "\n",
       "       category  discontinued      tags 0      tags 1      tags 2  \n",
       "0          Toys           NaN        sale     limited         eco  \n",
       "1      Outdoors           NaN         eco  bestseller         new  \n",
       "2   Electronics           NaN        None        None        None  \n",
       "3         Books           NaN         new     limited        None  \n",
       "4          Home           NaN        None        None        None  \n",
       "5          Toys           NaN  bestseller        sale        None  \n",
       "6      Outdoors           1.0         new        sale        None  \n",
       "7          Home           NaN        sale         eco        None  \n",
       "8   Electronics           NaN  bestseller        None        None  \n",
       "9          Home           NaN  bestseller        sale        None  \n",
       "10  Electronics           1.0         new        None        None  \n",
       "11  Electronics           1.0  bestseller        None        None  \n",
       "12         Home           NaN     limited        sale  bestseller  \n",
       "13         Toys           1.0  bestseller     limited        None  \n",
       "14     Outdoors           NaN  bestseller        None        None  "
      ]
     },
     "execution_count": 13,
     "metadata": {},
     "output_type": "execute_result"
    }
   ],
   "source": [
    "price_column = df['price']\n",
    "\n",
    "price_column[3] = None\n",
    "\n",
    "df['price'] = price_column\n",
    "\n",
    "df"
   ]
  },
  {
   "cell_type": "code",
   "execution_count": 14,
   "id": "22f358d1",
   "metadata": {},
   "outputs": [
    {
     "data": {
      "application/vnd.microsoft.datawrangler.viewer.v0+json": {
       "columns": [
        {
         "name": "index",
         "rawType": "int64",
         "type": "integer"
        },
        {
         "name": "price",
         "rawType": "bool",
         "type": "boolean"
        }
       ],
       "ref": "5b64044b-935d-4dd6-ac93-30996104abde",
       "rows": [
        [
         "0",
         "False"
        ],
        [
         "1",
         "False"
        ],
        [
         "2",
         "False"
        ],
        [
         "3",
         "True"
        ],
        [
         "4",
         "False"
        ],
        [
         "5",
         "False"
        ],
        [
         "6",
         "False"
        ],
        [
         "7",
         "False"
        ],
        [
         "8",
         "False"
        ],
        [
         "9",
         "False"
        ],
        [
         "10",
         "False"
        ],
        [
         "11",
         "False"
        ],
        [
         "12",
         "False"
        ],
        [
         "13",
         "False"
        ],
        [
         "14",
         "False"
        ]
       ],
       "shape": {
        "columns": 1,
        "rows": 15
       }
      },
      "text/plain": [
       "0     False\n",
       "1     False\n",
       "2     False\n",
       "3      True\n",
       "4     False\n",
       "5     False\n",
       "6     False\n",
       "7     False\n",
       "8     False\n",
       "9     False\n",
       "10    False\n",
       "11    False\n",
       "12    False\n",
       "13    False\n",
       "14    False\n",
       "Name: price, dtype: bool"
      ]
     },
     "metadata": {},
     "output_type": "display_data"
    }
   ],
   "source": [
    "my_column = df['price']\n",
    "\n",
    "condition_series = my_column.isnull()\n",
    "\n",
    "display(condition_series)"
   ]
  },
  {
   "cell_type": "code",
   "execution_count": 15,
   "id": "7f25a890",
   "metadata": {},
   "outputs": [
    {
     "data": {
      "application/vnd.microsoft.datawrangler.viewer.v0+json": {
       "columns": [
        {
         "name": "index",
         "rawType": "int64",
         "type": "integer"
        },
        {
         "name": "_id",
         "rawType": "object",
         "type": "string"
        },
        {
         "name": "name",
         "rawType": "object",
         "type": "string"
        },
        {
         "name": "price",
         "rawType": "float64",
         "type": "float"
        },
        {
         "name": "category",
         "rawType": "object",
         "type": "string"
        },
        {
         "name": "discontinued",
         "rawType": "float64",
         "type": "float"
        },
        {
         "name": "tags 0",
         "rawType": "object",
         "type": "string"
        },
        {
         "name": "tags 1",
         "rawType": "object",
         "type": "string"
        },
        {
         "name": "tags 2",
         "rawType": "object",
         "type": "unknown"
        }
       ],
       "ref": "42f33142-d5a9-4d75-b43d-43a629119457",
       "rows": [
        [
         "3",
         "p3",
         "Fully-configurable cohesive Local Area Network",
         null,
         "Books",
         null,
         "new",
         "limited",
         null
        ]
       ],
       "shape": {
        "columns": 8,
        "rows": 1
       }
      },
      "text/html": [
       "<div>\n",
       "<style scoped>\n",
       "    .dataframe tbody tr th:only-of-type {\n",
       "        vertical-align: middle;\n",
       "    }\n",
       "\n",
       "    .dataframe tbody tr th {\n",
       "        vertical-align: top;\n",
       "    }\n",
       "\n",
       "    .dataframe thead th {\n",
       "        text-align: right;\n",
       "    }\n",
       "</style>\n",
       "<table border=\"1\" class=\"dataframe\">\n",
       "  <thead>\n",
       "    <tr style=\"text-align: right;\">\n",
       "      <th></th>\n",
       "      <th>_id</th>\n",
       "      <th>name</th>\n",
       "      <th>price</th>\n",
       "      <th>category</th>\n",
       "      <th>discontinued</th>\n",
       "      <th>tags 0</th>\n",
       "      <th>tags 1</th>\n",
       "      <th>tags 2</th>\n",
       "    </tr>\n",
       "  </thead>\n",
       "  <tbody>\n",
       "    <tr>\n",
       "      <th>3</th>\n",
       "      <td>p3</td>\n",
       "      <td>Fully-configurable cohesive Local Area Network</td>\n",
       "      <td>NaN</td>\n",
       "      <td>Books</td>\n",
       "      <td>NaN</td>\n",
       "      <td>new</td>\n",
       "      <td>limited</td>\n",
       "      <td>None</td>\n",
       "    </tr>\n",
       "  </tbody>\n",
       "</table>\n",
       "</div>"
      ],
      "text/plain": [
       "  _id                                            name  price category  \\\n",
       "3  p3  Fully-configurable cohesive Local Area Network    NaN    Books   \n",
       "\n",
       "   discontinued tags 0   tags 1 tags 2  \n",
       "3           NaN    new  limited   None  "
      ]
     },
     "execution_count": 15,
     "metadata": {},
     "output_type": "execute_result"
    }
   ],
   "source": [
    "df[condition_series]"
   ]
  },
  {
   "cell_type": "code",
   "execution_count": 16,
   "id": "d7635f2f",
   "metadata": {},
   "outputs": [
    {
     "data": {
      "application/vnd.microsoft.datawrangler.viewer.v0+json": {
       "columns": [
        {
         "name": "index",
         "rawType": "int64",
         "type": "integer"
        },
        {
         "name": "_id",
         "rawType": "object",
         "type": "string"
        },
        {
         "name": "name",
         "rawType": "object",
         "type": "string"
        },
        {
         "name": "price",
         "rawType": "float64",
         "type": "float"
        },
        {
         "name": "category",
         "rawType": "object",
         "type": "string"
        },
        {
         "name": "discontinued",
         "rawType": "float64",
         "type": "float"
        },
        {
         "name": "tags 0",
         "rawType": "object",
         "type": "unknown"
        },
        {
         "name": "tags 1",
         "rawType": "object",
         "type": "unknown"
        },
        {
         "name": "tags 2",
         "rawType": "object",
         "type": "unknown"
        }
       ],
       "ref": "a8ab8e44-0ae6-4351-a824-e80653d72c3f",
       "rows": [
        [
         "0",
         "p0",
         "Total systemic project",
         "131.73",
         "Toys",
         null,
         "sale",
         "limited",
         "eco"
        ],
        [
         "1",
         "p1",
         "Compatible real-time productivity",
         "174.51",
         "Outdoors",
         null,
         "eco",
         "bestseller",
         "new"
        ],
        [
         "2",
         "p2",
         "Down-sized national superstructure",
         "153.88",
         "Electronics",
         null,
         null,
         null,
         null
        ],
        [
         "3",
         "p3",
         "Fully-configurable cohesive Local Area Network",
         null,
         "Books",
         null,
         "new",
         "limited",
         null
        ],
        [
         "4",
         "p4",
         "Multi-tiered encompassing productivity",
         "194.76",
         "Home",
         null,
         null,
         null,
         null
        ],
        [
         "5",
         "p5",
         "Team-oriented next generation definition",
         "166.73",
         "Toys",
         null,
         "bestseller",
         "sale",
         null
        ],
        [
         "6",
         "p6",
         "Synergized fresh-thinking throughput",
         "13.94",
         "Outdoors",
         "1.0",
         "new",
         "sale",
         null
        ],
        [
         "7",
         "p7",
         "Vision-oriented analyzing emulation",
         "79.12",
         "Home",
         null,
         "sale",
         "eco",
         null
        ],
        [
         "8",
         "p8",
         "Automated foreground initiative",
         "135.68",
         "Electronics",
         null,
         "bestseller",
         null,
         null
        ],
        [
         "9",
         "p9",
         "Future-proofed asymmetric data-warehouse",
         "36.86",
         "Home",
         null,
         "bestseller",
         "sale",
         null
        ],
        [
         "10",
         "p10",
         "Re-contextualized transitional functionalities",
         "169.36",
         "Electronics",
         "1.0",
         "new",
         null,
         null
        ],
        [
         "11",
         "p11",
         "Extended solution-oriented methodology",
         "83.23",
         "Electronics",
         "1.0",
         "bestseller",
         null,
         null
        ],
        [
         "12",
         "p12",
         "Object-based secondary knowledgebase",
         "66.36",
         "Home",
         null,
         "limited",
         "sale",
         "bestseller"
        ],
        [
         "13",
         "p13",
         "Digitized empowering challenge",
         "150.27",
         "Toys",
         "1.0",
         "bestseller",
         "limited",
         null
        ],
        [
         "14",
         "p14",
         "Fully-configurable value-added open architecture",
         "82.88",
         "Outdoors",
         null,
         "bestseller",
         null,
         null
        ]
       ],
       "shape": {
        "columns": 8,
        "rows": 15
       }
      },
      "text/html": [
       "<div>\n",
       "<style scoped>\n",
       "    .dataframe tbody tr th:only-of-type {\n",
       "        vertical-align: middle;\n",
       "    }\n",
       "\n",
       "    .dataframe tbody tr th {\n",
       "        vertical-align: top;\n",
       "    }\n",
       "\n",
       "    .dataframe thead th {\n",
       "        text-align: right;\n",
       "    }\n",
       "</style>\n",
       "<table border=\"1\" class=\"dataframe\">\n",
       "  <thead>\n",
       "    <tr style=\"text-align: right;\">\n",
       "      <th></th>\n",
       "      <th>_id</th>\n",
       "      <th>name</th>\n",
       "      <th>price</th>\n",
       "      <th>category</th>\n",
       "      <th>discontinued</th>\n",
       "      <th>tags 0</th>\n",
       "      <th>tags 1</th>\n",
       "      <th>tags 2</th>\n",
       "    </tr>\n",
       "  </thead>\n",
       "  <tbody>\n",
       "    <tr>\n",
       "      <th>0</th>\n",
       "      <td>p0</td>\n",
       "      <td>Total systemic project</td>\n",
       "      <td>131.73</td>\n",
       "      <td>Toys</td>\n",
       "      <td>NaN</td>\n",
       "      <td>sale</td>\n",
       "      <td>limited</td>\n",
       "      <td>eco</td>\n",
       "    </tr>\n",
       "    <tr>\n",
       "      <th>1</th>\n",
       "      <td>p1</td>\n",
       "      <td>Compatible real-time productivity</td>\n",
       "      <td>174.51</td>\n",
       "      <td>Outdoors</td>\n",
       "      <td>NaN</td>\n",
       "      <td>eco</td>\n",
       "      <td>bestseller</td>\n",
       "      <td>new</td>\n",
       "    </tr>\n",
       "    <tr>\n",
       "      <th>2</th>\n",
       "      <td>p2</td>\n",
       "      <td>Down-sized national superstructure</td>\n",
       "      <td>153.88</td>\n",
       "      <td>Electronics</td>\n",
       "      <td>NaN</td>\n",
       "      <td>None</td>\n",
       "      <td>None</td>\n",
       "      <td>None</td>\n",
       "    </tr>\n",
       "    <tr>\n",
       "      <th>3</th>\n",
       "      <td>p3</td>\n",
       "      <td>Fully-configurable cohesive Local Area Network</td>\n",
       "      <td>NaN</td>\n",
       "      <td>Books</td>\n",
       "      <td>NaN</td>\n",
       "      <td>new</td>\n",
       "      <td>limited</td>\n",
       "      <td>None</td>\n",
       "    </tr>\n",
       "    <tr>\n",
       "      <th>4</th>\n",
       "      <td>p4</td>\n",
       "      <td>Multi-tiered encompassing productivity</td>\n",
       "      <td>194.76</td>\n",
       "      <td>Home</td>\n",
       "      <td>NaN</td>\n",
       "      <td>None</td>\n",
       "      <td>None</td>\n",
       "      <td>None</td>\n",
       "    </tr>\n",
       "    <tr>\n",
       "      <th>5</th>\n",
       "      <td>p5</td>\n",
       "      <td>Team-oriented next generation definition</td>\n",
       "      <td>166.73</td>\n",
       "      <td>Toys</td>\n",
       "      <td>NaN</td>\n",
       "      <td>bestseller</td>\n",
       "      <td>sale</td>\n",
       "      <td>None</td>\n",
       "    </tr>\n",
       "    <tr>\n",
       "      <th>6</th>\n",
       "      <td>p6</td>\n",
       "      <td>Synergized fresh-thinking throughput</td>\n",
       "      <td>13.94</td>\n",
       "      <td>Outdoors</td>\n",
       "      <td>1.0</td>\n",
       "      <td>new</td>\n",
       "      <td>sale</td>\n",
       "      <td>None</td>\n",
       "    </tr>\n",
       "    <tr>\n",
       "      <th>7</th>\n",
       "      <td>p7</td>\n",
       "      <td>Vision-oriented analyzing emulation</td>\n",
       "      <td>79.12</td>\n",
       "      <td>Home</td>\n",
       "      <td>NaN</td>\n",
       "      <td>sale</td>\n",
       "      <td>eco</td>\n",
       "      <td>None</td>\n",
       "    </tr>\n",
       "    <tr>\n",
       "      <th>8</th>\n",
       "      <td>p8</td>\n",
       "      <td>Automated foreground initiative</td>\n",
       "      <td>135.68</td>\n",
       "      <td>Electronics</td>\n",
       "      <td>NaN</td>\n",
       "      <td>bestseller</td>\n",
       "      <td>None</td>\n",
       "      <td>None</td>\n",
       "    </tr>\n",
       "    <tr>\n",
       "      <th>9</th>\n",
       "      <td>p9</td>\n",
       "      <td>Future-proofed asymmetric data-warehouse</td>\n",
       "      <td>36.86</td>\n",
       "      <td>Home</td>\n",
       "      <td>NaN</td>\n",
       "      <td>bestseller</td>\n",
       "      <td>sale</td>\n",
       "      <td>None</td>\n",
       "    </tr>\n",
       "    <tr>\n",
       "      <th>10</th>\n",
       "      <td>p10</td>\n",
       "      <td>Re-contextualized transitional functionalities</td>\n",
       "      <td>169.36</td>\n",
       "      <td>Electronics</td>\n",
       "      <td>1.0</td>\n",
       "      <td>new</td>\n",
       "      <td>None</td>\n",
       "      <td>None</td>\n",
       "    </tr>\n",
       "    <tr>\n",
       "      <th>11</th>\n",
       "      <td>p11</td>\n",
       "      <td>Extended solution-oriented methodology</td>\n",
       "      <td>83.23</td>\n",
       "      <td>Electronics</td>\n",
       "      <td>1.0</td>\n",
       "      <td>bestseller</td>\n",
       "      <td>None</td>\n",
       "      <td>None</td>\n",
       "    </tr>\n",
       "    <tr>\n",
       "      <th>12</th>\n",
       "      <td>p12</td>\n",
       "      <td>Object-based secondary knowledgebase</td>\n",
       "      <td>66.36</td>\n",
       "      <td>Home</td>\n",
       "      <td>NaN</td>\n",
       "      <td>limited</td>\n",
       "      <td>sale</td>\n",
       "      <td>bestseller</td>\n",
       "    </tr>\n",
       "    <tr>\n",
       "      <th>13</th>\n",
       "      <td>p13</td>\n",
       "      <td>Digitized empowering challenge</td>\n",
       "      <td>150.27</td>\n",
       "      <td>Toys</td>\n",
       "      <td>1.0</td>\n",
       "      <td>bestseller</td>\n",
       "      <td>limited</td>\n",
       "      <td>None</td>\n",
       "    </tr>\n",
       "    <tr>\n",
       "      <th>14</th>\n",
       "      <td>p14</td>\n",
       "      <td>Fully-configurable value-added open architecture</td>\n",
       "      <td>82.88</td>\n",
       "      <td>Outdoors</td>\n",
       "      <td>NaN</td>\n",
       "      <td>bestseller</td>\n",
       "      <td>None</td>\n",
       "      <td>None</td>\n",
       "    </tr>\n",
       "  </tbody>\n",
       "</table>\n",
       "</div>"
      ],
      "text/plain": [
       "    _id                                              name   price  \\\n",
       "0    p0                            Total systemic project  131.73   \n",
       "1    p1                 Compatible real-time productivity  174.51   \n",
       "2    p2                Down-sized national superstructure  153.88   \n",
       "3    p3    Fully-configurable cohesive Local Area Network     NaN   \n",
       "4    p4            Multi-tiered encompassing productivity  194.76   \n",
       "5    p5          Team-oriented next generation definition  166.73   \n",
       "6    p6              Synergized fresh-thinking throughput   13.94   \n",
       "7    p7               Vision-oriented analyzing emulation   79.12   \n",
       "8    p8                   Automated foreground initiative  135.68   \n",
       "9    p9          Future-proofed asymmetric data-warehouse   36.86   \n",
       "10  p10    Re-contextualized transitional functionalities  169.36   \n",
       "11  p11            Extended solution-oriented methodology   83.23   \n",
       "12  p12              Object-based secondary knowledgebase   66.36   \n",
       "13  p13                    Digitized empowering challenge  150.27   \n",
       "14  p14  Fully-configurable value-added open architecture   82.88   \n",
       "\n",
       "       category  discontinued      tags 0      tags 1      tags 2  \n",
       "0          Toys           NaN        sale     limited         eco  \n",
       "1      Outdoors           NaN         eco  bestseller         new  \n",
       "2   Electronics           NaN        None        None        None  \n",
       "3         Books           NaN         new     limited        None  \n",
       "4          Home           NaN        None        None        None  \n",
       "5          Toys           NaN  bestseller        sale        None  \n",
       "6      Outdoors           1.0         new        sale        None  \n",
       "7          Home           NaN        sale         eco        None  \n",
       "8   Electronics           NaN  bestseller        None        None  \n",
       "9          Home           NaN  bestseller        sale        None  \n",
       "10  Electronics           1.0         new        None        None  \n",
       "11  Electronics           1.0  bestseller        None        None  \n",
       "12         Home           NaN     limited        sale  bestseller  \n",
       "13         Toys           1.0  bestseller     limited        None  \n",
       "14     Outdoors           NaN  bestseller        None        None  "
      ]
     },
     "metadata": {},
     "output_type": "display_data"
    }
   ],
   "source": [
    "display(df)"
   ]
  },
  {
   "cell_type": "code",
   "execution_count": 17,
   "id": "55062c5b",
   "metadata": {},
   "outputs": [],
   "source": [
    "# specify the name of the column that we are cleaning\n",
    "column_name = 'discontinued'"
   ]
  },
  {
   "cell_type": "code",
   "execution_count": 18,
   "id": "9d1e3a89",
   "metadata": {},
   "outputs": [
    {
     "data": {
      "application/vnd.microsoft.datawrangler.viewer.v0+json": {
       "columns": [
        {
         "name": "index",
         "rawType": "int64",
         "type": "integer"
        },
        {
         "name": "discontinued",
         "rawType": "float64",
         "type": "float"
        }
       ],
       "ref": "6553f576-a6b5-4f30-afd8-e2185dca8ca1",
       "rows": [
        [
         "0",
         null
        ],
        [
         "1",
         null
        ],
        [
         "2",
         null
        ],
        [
         "3",
         null
        ],
        [
         "4",
         null
        ],
        [
         "5",
         null
        ],
        [
         "6",
         "1.0"
        ],
        [
         "7",
         null
        ],
        [
         "8",
         null
        ],
        [
         "9",
         null
        ],
        [
         "10",
         "1.0"
        ],
        [
         "11",
         "1.0"
        ],
        [
         "12",
         null
        ],
        [
         "13",
         "1.0"
        ],
        [
         "14",
         null
        ]
       ],
       "shape": {
        "columns": 1,
        "rows": 15
       }
      },
      "text/plain": [
       "0     NaN\n",
       "1     NaN\n",
       "2     NaN\n",
       "3     NaN\n",
       "4     NaN\n",
       "5     NaN\n",
       "6     1.0\n",
       "7     NaN\n",
       "8     NaN\n",
       "9     NaN\n",
       "10    1.0\n",
       "11    1.0\n",
       "12    NaN\n",
       "13    1.0\n",
       "14    NaN\n",
       "Name: discontinued, dtype: float64"
      ]
     },
     "metadata": {},
     "output_type": "display_data"
    }
   ],
   "source": [
    "# extract the column from the DataFrame\n",
    "column = df[column_name]\n",
    "\n",
    "display(column)"
   ]
  },
  {
   "cell_type": "code",
   "execution_count": 19,
   "id": "0bde2423",
   "metadata": {},
   "outputs": [],
   "source": [
    "# define the new value to fill NaN entries\n",
    "new_value = 0\n"
   ]
  },
  {
   "cell_type": "code",
   "execution_count": 20,
   "id": "4ea68770",
   "metadata": {},
   "outputs": [
    {
     "data": {
      "application/vnd.microsoft.datawrangler.viewer.v0+json": {
       "columns": [
        {
         "name": "index",
         "rawType": "int64",
         "type": "integer"
        },
        {
         "name": "discontinued",
         "rawType": "float64",
         "type": "float"
        }
       ],
       "ref": "83b8c54e-4f1c-4173-aaa1-1f82abbb2017",
       "rows": [
        [
         "0",
         "0.0"
        ],
        [
         "1",
         "0.0"
        ],
        [
         "2",
         "0.0"
        ],
        [
         "3",
         "0.0"
        ],
        [
         "4",
         "0.0"
        ],
        [
         "5",
         "0.0"
        ],
        [
         "6",
         "1.0"
        ],
        [
         "7",
         "0.0"
        ],
        [
         "8",
         "0.0"
        ],
        [
         "9",
         "0.0"
        ],
        [
         "10",
         "1.0"
        ],
        [
         "11",
         "1.0"
        ],
        [
         "12",
         "0.0"
        ],
        [
         "13",
         "1.0"
        ],
        [
         "14",
         "0.0"
        ]
       ],
       "shape": {
        "columns": 1,
        "rows": 15
       }
      },
      "text/plain": [
       "0     0.0\n",
       "1     0.0\n",
       "2     0.0\n",
       "3     0.0\n",
       "4     0.0\n",
       "5     0.0\n",
       "6     1.0\n",
       "7     0.0\n",
       "8     0.0\n",
       "9     0.0\n",
       "10    1.0\n",
       "11    1.0\n",
       "12    0.0\n",
       "13    1.0\n",
       "14    0.0\n",
       "Name: discontinued, dtype: float64"
      ]
     },
     "metadata": {},
     "output_type": "display_data"
    }
   ],
   "source": [
    "\n",
    "# fill NaN entries with the new value \n",
    "# and then replace the old column object\n",
    "updated_column = column.fillna(new_value)\n",
    "\n",
    "display(updated_column)"
   ]
  },
  {
   "cell_type": "code",
   "execution_count": 21,
   "id": "54f6611b",
   "metadata": {},
   "outputs": [
    {
     "data": {
      "application/vnd.microsoft.datawrangler.viewer.v0+json": {
       "columns": [
        {
         "name": "index",
         "rawType": "int64",
         "type": "integer"
        },
        {
         "name": "_id",
         "rawType": "object",
         "type": "string"
        },
        {
         "name": "name",
         "rawType": "object",
         "type": "string"
        },
        {
         "name": "price",
         "rawType": "float64",
         "type": "float"
        },
        {
         "name": "category",
         "rawType": "object",
         "type": "string"
        },
        {
         "name": "discontinued",
         "rawType": "float64",
         "type": "float"
        },
        {
         "name": "tags 0",
         "rawType": "object",
         "type": "unknown"
        },
        {
         "name": "tags 1",
         "rawType": "object",
         "type": "unknown"
        },
        {
         "name": "tags 2",
         "rawType": "object",
         "type": "unknown"
        }
       ],
       "ref": "77927884-2fc0-4c59-9e79-41283716ebfd",
       "rows": [
        [
         "0",
         "p0",
         "Total systemic project",
         "131.73",
         "Toys",
         "0.0",
         "sale",
         "limited",
         "eco"
        ],
        [
         "1",
         "p1",
         "Compatible real-time productivity",
         "174.51",
         "Outdoors",
         "0.0",
         "eco",
         "bestseller",
         "new"
        ],
        [
         "2",
         "p2",
         "Down-sized national superstructure",
         "153.88",
         "Electronics",
         "0.0",
         null,
         null,
         null
        ],
        [
         "3",
         "p3",
         "Fully-configurable cohesive Local Area Network",
         null,
         "Books",
         "0.0",
         "new",
         "limited",
         null
        ],
        [
         "4",
         "p4",
         "Multi-tiered encompassing productivity",
         "194.76",
         "Home",
         "0.0",
         null,
         null,
         null
        ],
        [
         "5",
         "p5",
         "Team-oriented next generation definition",
         "166.73",
         "Toys",
         "0.0",
         "bestseller",
         "sale",
         null
        ],
        [
         "6",
         "p6",
         "Synergized fresh-thinking throughput",
         "13.94",
         "Outdoors",
         "1.0",
         "new",
         "sale",
         null
        ],
        [
         "7",
         "p7",
         "Vision-oriented analyzing emulation",
         "79.12",
         "Home",
         "0.0",
         "sale",
         "eco",
         null
        ],
        [
         "8",
         "p8",
         "Automated foreground initiative",
         "135.68",
         "Electronics",
         "0.0",
         "bestseller",
         null,
         null
        ],
        [
         "9",
         "p9",
         "Future-proofed asymmetric data-warehouse",
         "36.86",
         "Home",
         "0.0",
         "bestseller",
         "sale",
         null
        ],
        [
         "10",
         "p10",
         "Re-contextualized transitional functionalities",
         "169.36",
         "Electronics",
         "1.0",
         "new",
         null,
         null
        ],
        [
         "11",
         "p11",
         "Extended solution-oriented methodology",
         "83.23",
         "Electronics",
         "1.0",
         "bestseller",
         null,
         null
        ],
        [
         "12",
         "p12",
         "Object-based secondary knowledgebase",
         "66.36",
         "Home",
         "0.0",
         "limited",
         "sale",
         "bestseller"
        ],
        [
         "13",
         "p13",
         "Digitized empowering challenge",
         "150.27",
         "Toys",
         "1.0",
         "bestseller",
         "limited",
         null
        ],
        [
         "14",
         "p14",
         "Fully-configurable value-added open architecture",
         "82.88",
         "Outdoors",
         "0.0",
         "bestseller",
         null,
         null
        ]
       ],
       "shape": {
        "columns": 8,
        "rows": 15
       }
      },
      "text/html": [
       "<div>\n",
       "<style scoped>\n",
       "    .dataframe tbody tr th:only-of-type {\n",
       "        vertical-align: middle;\n",
       "    }\n",
       "\n",
       "    .dataframe tbody tr th {\n",
       "        vertical-align: top;\n",
       "    }\n",
       "\n",
       "    .dataframe thead th {\n",
       "        text-align: right;\n",
       "    }\n",
       "</style>\n",
       "<table border=\"1\" class=\"dataframe\">\n",
       "  <thead>\n",
       "    <tr style=\"text-align: right;\">\n",
       "      <th></th>\n",
       "      <th>_id</th>\n",
       "      <th>name</th>\n",
       "      <th>price</th>\n",
       "      <th>category</th>\n",
       "      <th>discontinued</th>\n",
       "      <th>tags 0</th>\n",
       "      <th>tags 1</th>\n",
       "      <th>tags 2</th>\n",
       "    </tr>\n",
       "  </thead>\n",
       "  <tbody>\n",
       "    <tr>\n",
       "      <th>0</th>\n",
       "      <td>p0</td>\n",
       "      <td>Total systemic project</td>\n",
       "      <td>131.73</td>\n",
       "      <td>Toys</td>\n",
       "      <td>0.0</td>\n",
       "      <td>sale</td>\n",
       "      <td>limited</td>\n",
       "      <td>eco</td>\n",
       "    </tr>\n",
       "    <tr>\n",
       "      <th>1</th>\n",
       "      <td>p1</td>\n",
       "      <td>Compatible real-time productivity</td>\n",
       "      <td>174.51</td>\n",
       "      <td>Outdoors</td>\n",
       "      <td>0.0</td>\n",
       "      <td>eco</td>\n",
       "      <td>bestseller</td>\n",
       "      <td>new</td>\n",
       "    </tr>\n",
       "    <tr>\n",
       "      <th>2</th>\n",
       "      <td>p2</td>\n",
       "      <td>Down-sized national superstructure</td>\n",
       "      <td>153.88</td>\n",
       "      <td>Electronics</td>\n",
       "      <td>0.0</td>\n",
       "      <td>None</td>\n",
       "      <td>None</td>\n",
       "      <td>None</td>\n",
       "    </tr>\n",
       "    <tr>\n",
       "      <th>3</th>\n",
       "      <td>p3</td>\n",
       "      <td>Fully-configurable cohesive Local Area Network</td>\n",
       "      <td>NaN</td>\n",
       "      <td>Books</td>\n",
       "      <td>0.0</td>\n",
       "      <td>new</td>\n",
       "      <td>limited</td>\n",
       "      <td>None</td>\n",
       "    </tr>\n",
       "    <tr>\n",
       "      <th>4</th>\n",
       "      <td>p4</td>\n",
       "      <td>Multi-tiered encompassing productivity</td>\n",
       "      <td>194.76</td>\n",
       "      <td>Home</td>\n",
       "      <td>0.0</td>\n",
       "      <td>None</td>\n",
       "      <td>None</td>\n",
       "      <td>None</td>\n",
       "    </tr>\n",
       "    <tr>\n",
       "      <th>5</th>\n",
       "      <td>p5</td>\n",
       "      <td>Team-oriented next generation definition</td>\n",
       "      <td>166.73</td>\n",
       "      <td>Toys</td>\n",
       "      <td>0.0</td>\n",
       "      <td>bestseller</td>\n",
       "      <td>sale</td>\n",
       "      <td>None</td>\n",
       "    </tr>\n",
       "    <tr>\n",
       "      <th>6</th>\n",
       "      <td>p6</td>\n",
       "      <td>Synergized fresh-thinking throughput</td>\n",
       "      <td>13.94</td>\n",
       "      <td>Outdoors</td>\n",
       "      <td>1.0</td>\n",
       "      <td>new</td>\n",
       "      <td>sale</td>\n",
       "      <td>None</td>\n",
       "    </tr>\n",
       "    <tr>\n",
       "      <th>7</th>\n",
       "      <td>p7</td>\n",
       "      <td>Vision-oriented analyzing emulation</td>\n",
       "      <td>79.12</td>\n",
       "      <td>Home</td>\n",
       "      <td>0.0</td>\n",
       "      <td>sale</td>\n",
       "      <td>eco</td>\n",
       "      <td>None</td>\n",
       "    </tr>\n",
       "    <tr>\n",
       "      <th>8</th>\n",
       "      <td>p8</td>\n",
       "      <td>Automated foreground initiative</td>\n",
       "      <td>135.68</td>\n",
       "      <td>Electronics</td>\n",
       "      <td>0.0</td>\n",
       "      <td>bestseller</td>\n",
       "      <td>None</td>\n",
       "      <td>None</td>\n",
       "    </tr>\n",
       "    <tr>\n",
       "      <th>9</th>\n",
       "      <td>p9</td>\n",
       "      <td>Future-proofed asymmetric data-warehouse</td>\n",
       "      <td>36.86</td>\n",
       "      <td>Home</td>\n",
       "      <td>0.0</td>\n",
       "      <td>bestseller</td>\n",
       "      <td>sale</td>\n",
       "      <td>None</td>\n",
       "    </tr>\n",
       "    <tr>\n",
       "      <th>10</th>\n",
       "      <td>p10</td>\n",
       "      <td>Re-contextualized transitional functionalities</td>\n",
       "      <td>169.36</td>\n",
       "      <td>Electronics</td>\n",
       "      <td>1.0</td>\n",
       "      <td>new</td>\n",
       "      <td>None</td>\n",
       "      <td>None</td>\n",
       "    </tr>\n",
       "    <tr>\n",
       "      <th>11</th>\n",
       "      <td>p11</td>\n",
       "      <td>Extended solution-oriented methodology</td>\n",
       "      <td>83.23</td>\n",
       "      <td>Electronics</td>\n",
       "      <td>1.0</td>\n",
       "      <td>bestseller</td>\n",
       "      <td>None</td>\n",
       "      <td>None</td>\n",
       "    </tr>\n",
       "    <tr>\n",
       "      <th>12</th>\n",
       "      <td>p12</td>\n",
       "      <td>Object-based secondary knowledgebase</td>\n",
       "      <td>66.36</td>\n",
       "      <td>Home</td>\n",
       "      <td>0.0</td>\n",
       "      <td>limited</td>\n",
       "      <td>sale</td>\n",
       "      <td>bestseller</td>\n",
       "    </tr>\n",
       "    <tr>\n",
       "      <th>13</th>\n",
       "      <td>p13</td>\n",
       "      <td>Digitized empowering challenge</td>\n",
       "      <td>150.27</td>\n",
       "      <td>Toys</td>\n",
       "      <td>1.0</td>\n",
       "      <td>bestseller</td>\n",
       "      <td>limited</td>\n",
       "      <td>None</td>\n",
       "    </tr>\n",
       "    <tr>\n",
       "      <th>14</th>\n",
       "      <td>p14</td>\n",
       "      <td>Fully-configurable value-added open architecture</td>\n",
       "      <td>82.88</td>\n",
       "      <td>Outdoors</td>\n",
       "      <td>0.0</td>\n",
       "      <td>bestseller</td>\n",
       "      <td>None</td>\n",
       "      <td>None</td>\n",
       "    </tr>\n",
       "  </tbody>\n",
       "</table>\n",
       "</div>"
      ],
      "text/plain": [
       "    _id                                              name   price  \\\n",
       "0    p0                            Total systemic project  131.73   \n",
       "1    p1                 Compatible real-time productivity  174.51   \n",
       "2    p2                Down-sized national superstructure  153.88   \n",
       "3    p3    Fully-configurable cohesive Local Area Network     NaN   \n",
       "4    p4            Multi-tiered encompassing productivity  194.76   \n",
       "5    p5          Team-oriented next generation definition  166.73   \n",
       "6    p6              Synergized fresh-thinking throughput   13.94   \n",
       "7    p7               Vision-oriented analyzing emulation   79.12   \n",
       "8    p8                   Automated foreground initiative  135.68   \n",
       "9    p9          Future-proofed asymmetric data-warehouse   36.86   \n",
       "10  p10    Re-contextualized transitional functionalities  169.36   \n",
       "11  p11            Extended solution-oriented methodology   83.23   \n",
       "12  p12              Object-based secondary knowledgebase   66.36   \n",
       "13  p13                    Digitized empowering challenge  150.27   \n",
       "14  p14  Fully-configurable value-added open architecture   82.88   \n",
       "\n",
       "       category  discontinued      tags 0      tags 1      tags 2  \n",
       "0          Toys           0.0        sale     limited         eco  \n",
       "1      Outdoors           0.0         eco  bestseller         new  \n",
       "2   Electronics           0.0        None        None        None  \n",
       "3         Books           0.0         new     limited        None  \n",
       "4          Home           0.0        None        None        None  \n",
       "5          Toys           0.0  bestseller        sale        None  \n",
       "6      Outdoors           1.0         new        sale        None  \n",
       "7          Home           0.0        sale         eco        None  \n",
       "8   Electronics           0.0  bestseller        None        None  \n",
       "9          Home           0.0  bestseller        sale        None  \n",
       "10  Electronics           1.0         new        None        None  \n",
       "11  Electronics           1.0  bestseller        None        None  \n",
       "12         Home           0.0     limited        sale  bestseller  \n",
       "13         Toys           1.0  bestseller     limited        None  \n",
       "14     Outdoors           0.0  bestseller        None        None  "
      ]
     },
     "metadata": {},
     "output_type": "display_data"
    }
   ],
   "source": [
    "# replace the old column in the DataFrame with the updated one\n",
    "df[column_name] = updated_column\n",
    "\n",
    "# display it\n",
    "display(df)"
   ]
  }
 ],
 "metadata": {
  "kernelspec": {
   "display_name": ".venv",
   "language": "python",
   "name": "python3"
  },
  "language_info": {
   "codemirror_mode": {
    "name": "ipython",
    "version": 3
   },
   "file_extension": ".py",
   "mimetype": "text/x-python",
   "name": "python",
   "nbconvert_exporter": "python",
   "pygments_lexer": "ipython3",
   "version": "3.12.3"
  }
 },
 "nbformat": 4,
 "nbformat_minor": 5
}
