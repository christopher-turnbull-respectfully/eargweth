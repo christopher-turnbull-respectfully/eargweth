{
 "cells": [
  {
   "cell_type": "code",
   "execution_count": 1,
   "id": "922f3205",
   "metadata": {},
   "outputs": [
    {
     "name": "stderr",
     "output_type": "stream",
     "text": [
      "/workspaces/eargweth/.venv/lib/python3.12/site-packages/tqdm/auto.py:21: TqdmWarning: IProgress not found. Please update jupyter and ipywidgets. See https://ipywidgets.readthedocs.io/en/stable/user_install.html\n",
      "  from .autonotebook import tqdm as notebook_tqdm\n",
      "2025-07-17 23:24:51.148981: I external/local_xla/xla/tsl/cuda/cudart_stub.cc:32] Could not find cuda drivers on your machine, GPU will not be used.\n",
      "2025-07-17 23:24:56.297252: I external/local_xla/xla/tsl/cuda/cudart_stub.cc:32] Could not find cuda drivers on your machine, GPU will not be used.\n",
      "2025-07-17 23:24:58.411700: E external/local_xla/xla/stream_executor/cuda/cuda_fft.cc:467] Unable to register cuFFT factory: Attempting to register factory for plugin cuFFT when one has already been registered\n",
      "WARNING: All log messages before absl::InitializeLog() is called are written to STDERR\n",
      "E0000 00:00:1752794702.121192    1910 cuda_dnn.cc:8579] Unable to register cuDNN factory: Attempting to register factory for plugin cuDNN when one has already been registered\n",
      "E0000 00:00:1752794703.026698    1910 cuda_blas.cc:1407] Unable to register cuBLAS factory: Attempting to register factory for plugin cuBLAS when one has already been registered\n",
      "W0000 00:00:1752794710.540981    1910 computation_placer.cc:177] computation placer already registered. Please check linkage and avoid linking the same target more than once.\n",
      "W0000 00:00:1752794710.541017    1910 computation_placer.cc:177] computation placer already registered. Please check linkage and avoid linking the same target more than once.\n",
      "W0000 00:00:1752794710.541021    1910 computation_placer.cc:177] computation placer already registered. Please check linkage and avoid linking the same target more than once.\n",
      "W0000 00:00:1752794710.541023    1910 computation_placer.cc:177] computation placer already registered. Please check linkage and avoid linking the same target more than once.\n",
      "2025-07-17 23:25:10.967623: I tensorflow/core/platform/cpu_feature_guard.cc:210] This TensorFlow binary is optimized to use available CPU instructions in performance-critical operations.\n",
      "To enable the following instructions: AVX2 FMA, in other operations, rebuild TensorFlow with the appropriate compiler flags.\n"
     ]
    }
   ],
   "source": [
    "import optuna\n",
    "from sklearn.cluster import KMeans\n",
    "from keras.datasets import mnist\n",
    "from sklearn.metrics import silhouette_score\n",
    "from sklearn.preprocessing import StandardScaler"
   ]
  },
  {
   "cell_type": "code",
   "execution_count": 2,
   "id": "986a8bf0",
   "metadata": {},
   "outputs": [
    {
     "data": {
      "text/plain": [
       "(60000, 28, 28)"
      ]
     },
     "metadata": {},
     "output_type": "display_data"
    },
    {
     "data": {
      "text/plain": [
       "(10000, 28, 28)"
      ]
     },
     "metadata": {},
     "output_type": "display_data"
    },
    {
     "data": {
      "text/plain": [
       "(1000, 784)"
      ]
     },
     "execution_count": 2,
     "metadata": {},
     "output_type": "execute_result"
    }
   ],
   "source": [
    "# Load and scale data\n",
    "(x_train, y_train), (x_test, y_test) = mnist.load_data()\n",
    "\n",
    "\n",
    "\n",
    "from numpy import concatenate\n",
    "\n",
    "\n",
    "X = concatenate((x_train, x_test))\n",
    "\n",
    "display(x_train.shape, x_test.shape)\n",
    "\n",
    "X.shape\n",
    "\n",
    "X = X.reshape(X.shape[0], -1)  # Flatten images\n",
    "\n",
    "X.shape\n",
    "\n",
    "X = X[:1000, :]\n",
    "\n",
    "X.shape"
   ]
  },
  {
   "cell_type": "code",
   "execution_count": 25,
   "id": "5cb3c942",
   "metadata": {},
   "outputs": [],
   "source": [
    "def objective(trial):\n",
    "    # Suggest hyperparameters\n",
    "    n_clusters = trial.suggest_int('n_clusters', 2, 10)\n",
    "    init_method = trial.suggest_categorical('init', ['k-means++', 'random'])\n",
    "    max_iter = trial.suggest_int('max_iter', 100, 500)\n",
    "    tol = trial.suggest_float('tol', 1e-5, 1e-1, log=True)\n",
    "\n",
    "    # Create and fit KMeans\n",
    "    kmeans = KMeans(\n",
    "        n_clusters=n_clusters,\n",
    "        init=init_method,\n",
    "        max_iter=max_iter,\n",
    "        tol=tol,\n",
    "        random_state=42,\n",
    "        n_init=10,\n",
    "    )\n",
    "    labels = kmeans.fit_predict(X)\n",
    "\n",
    "    # Evaluate with silhouette score (higher is better)\n",
    "    score = silhouette_score(X, labels)\n",
    "    return score"
   ]
  },
  {
   "cell_type": "code",
   "execution_count": 26,
   "id": "0584048d",
   "metadata": {},
   "outputs": [
    {
     "name": "stderr",
     "output_type": "stream",
     "text": [
      "[I 2025-07-15 22:15:58,588] A new study created in memory with name: no-name-67227f85-799a-47fd-ba33-ad5f15a3a646\n"
     ]
    },
    {
     "name": "stderr",
     "output_type": "stream",
     "text": [
      "[I 2025-07-15 22:15:58,838] Trial 0 finished with value: 0.07086093422393486 and parameters: {'n_clusters': 4, 'init': 'random', 'max_iter': 247, 'tol': 0.0550424470202509}. Best is trial 0 with value: 0.07086093422393486.\n",
      "[I 2025-07-15 22:15:59,371] Trial 1 finished with value: 0.0776128439085069 and parameters: {'n_clusters': 5, 'init': 'k-means++', 'max_iter': 135, 'tol': 0.01059278227422711}. Best is trial 1 with value: 0.0776128439085069.\n",
      "[I 2025-07-15 22:15:59,621] Trial 2 finished with value: 0.08752222881852827 and parameters: {'n_clusters': 2, 'init': 'random', 'max_iter': 278, 'tol': 0.0020164095405966233}. Best is trial 2 with value: 0.08752222881852827.\n",
      "[I 2025-07-15 22:15:59,865] Trial 3 finished with value: 0.07834301567583539 and parameters: {'n_clusters': 6, 'init': 'random', 'max_iter': 416, 'tol': 0.00013280731248785472}. Best is trial 2 with value: 0.08752222881852827.\n",
      "[I 2025-07-15 22:16:00,115] Trial 4 finished with value: 0.05826091260362078 and parameters: {'n_clusters': 3, 'init': 'random', 'max_iter': 497, 'tol': 3.932562601007804e-05}. Best is trial 2 with value: 0.08752222881852827.\n",
      "[I 2025-07-15 22:16:00,501] Trial 5 finished with value: 0.0776128439085069 and parameters: {'n_clusters': 5, 'init': 'k-means++', 'max_iter': 218, 'tol': 0.0006328126870502961}. Best is trial 2 with value: 0.08752222881852827.\n",
      "[I 2025-07-15 22:16:00,825] Trial 6 finished with value: 0.08649055573889959 and parameters: {'n_clusters': 10, 'init': 'k-means++', 'max_iter': 400, 'tol': 6.480173495298936e-05}. Best is trial 2 with value: 0.08752222881852827.\n",
      "[I 2025-07-15 22:16:01,175] Trial 7 finished with value: 0.07685857547887798 and parameters: {'n_clusters': 6, 'init': 'k-means++', 'max_iter': 117, 'tol': 3.742999988151105e-05}. Best is trial 2 with value: 0.08752222881852827.\n",
      "[I 2025-07-15 22:16:01,457] Trial 8 finished with value: 0.07139437660991464 and parameters: {'n_clusters': 4, 'init': 'k-means++', 'max_iter': 297, 'tol': 0.09854483221394494}. Best is trial 2 with value: 0.08752222881852827.\n",
      "[I 2025-07-15 22:16:01,725] Trial 9 finished with value: 0.08125035901462198 and parameters: {'n_clusters': 5, 'init': 'random', 'max_iter': 393, 'tol': 0.034249986341257324}. Best is trial 2 with value: 0.08752222881852827.\n",
      "[I 2025-07-15 22:16:02,010] Trial 10 finished with value: 0.08752222881852827 and parameters: {'n_clusters': 2, 'init': 'random', 'max_iter': 186, 'tol': 0.002948786737860059}. Best is trial 2 with value: 0.08752222881852827.\n",
      "[I 2025-07-15 22:16:02,290] Trial 11 finished with value: 0.08752222881852827 and parameters: {'n_clusters': 2, 'init': 'random', 'max_iter': 201, 'tol': 0.002848060319716146}. Best is trial 2 with value: 0.08752222881852827.\n",
      "[I 2025-07-15 22:16:02,547] Trial 12 finished with value: 0.08752222881852827 and parameters: {'n_clusters': 2, 'init': 'random', 'max_iter': 306, 'tol': 0.0011006343852607294}. Best is trial 2 with value: 0.08752222881852827.\n",
      "[I 2025-07-15 22:16:02,875] Trial 13 finished with value: 0.07938677150596857 and parameters: {'n_clusters': 9, 'init': 'random', 'max_iter': 170, 'tol': 0.006600531216614287}. Best is trial 2 with value: 0.08752222881852827.\n",
      "[I 2025-07-15 22:16:03,165] Trial 14 finished with value: 0.07347380422714124 and parameters: {'n_clusters': 8, 'init': 'random', 'max_iter': 289, 'tol': 0.0004211341851347591}. Best is trial 2 with value: 0.08752222881852827.\n",
      "[I 2025-07-15 22:16:03,458] Trial 15 finished with value: 0.08752222881852827 and parameters: {'n_clusters': 2, 'init': 'random', 'max_iter': 255, 'tol': 0.0024768749750724204}. Best is trial 2 with value: 0.08752222881852827.\n",
      "[I 2025-07-15 22:16:03,751] Trial 16 finished with value: 0.05826091260362078 and parameters: {'n_clusters': 3, 'init': 'random', 'max_iter': 347, 'tol': 1.070942013390061e-05}. Best is trial 2 with value: 0.08752222881852827.\n",
      "[I 2025-07-15 22:16:04,098] Trial 17 finished with value: 0.07191868019770209 and parameters: {'n_clusters': 7, 'init': 'random', 'max_iter': 169, 'tol': 0.009480649804606922}. Best is trial 2 with value: 0.08752222881852827.\n",
      "[I 2025-07-15 22:16:04,360] Trial 18 finished with value: 0.05826091260362078 and parameters: {'n_clusters': 3, 'init': 'random', 'max_iter': 234, 'tol': 0.0002764493286268328}. Best is trial 2 with value: 0.08752222881852827.\n",
      "[I 2025-07-15 22:16:04,618] Trial 19 finished with value: 0.07086093422393486 and parameters: {'n_clusters': 4, 'init': 'random', 'max_iter': 343, 'tol': 0.0015216017071201047}. Best is trial 2 with value: 0.08752222881852827.\n",
      "[I 2025-07-15 22:16:04,875] Trial 20 finished with value: 0.08752222881852827 and parameters: {'n_clusters': 2, 'init': 'random', 'max_iter': 179, 'tol': 0.00485772360244903}. Best is trial 2 with value: 0.08752222881852827.\n",
      "[I 2025-07-15 22:16:05,126] Trial 21 finished with value: 0.08752222881852827 and parameters: {'n_clusters': 2, 'init': 'random', 'max_iter': 208, 'tol': 0.002987502248156939}. Best is trial 2 with value: 0.08752222881852827.\n",
      "[I 2025-07-15 22:16:05,403] Trial 22 finished with value: 0.0581668167100327 and parameters: {'n_clusters': 3, 'init': 'random', 'max_iter': 151, 'tol': 0.014743990758635889}. Best is trial 2 with value: 0.08752222881852827.\n",
      "[I 2025-07-15 22:16:05,657] Trial 23 finished with value: 0.08752222881852827 and parameters: {'n_clusters': 2, 'init': 'random', 'max_iter': 205, 'tol': 0.002034525940526981}. Best is trial 2 with value: 0.08752222881852827.\n",
      "[I 2025-07-15 22:16:05,922] Trial 24 finished with value: 0.0581668167100327 and parameters: {'n_clusters': 3, 'init': 'random', 'max_iter': 269, 'tol': 0.019873122678505026}. Best is trial 2 with value: 0.08752222881852827.\n",
      "[I 2025-07-15 22:16:06,177] Trial 25 finished with value: 0.07086093422393486 and parameters: {'n_clusters': 4, 'init': 'random', 'max_iter': 113, 'tol': 0.0008308931160311058}. Best is trial 2 with value: 0.08752222881852827.\n",
      "[I 2025-07-15 22:16:06,443] Trial 26 finished with value: 0.08416517832446996 and parameters: {'n_clusters': 2, 'init': 'k-means++', 'max_iter': 207, 'tol': 0.0038518997072937797}. Best is trial 2 with value: 0.08752222881852827.\n",
      "[I 2025-07-15 22:16:06,792] Trial 27 finished with value: 0.05826091260362078 and parameters: {'n_clusters': 3, 'init': 'random', 'max_iter': 332, 'tol': 0.0003187705965465957}. Best is trial 2 with value: 0.08752222881852827.\n",
      "[I 2025-07-15 22:16:07,061] Trial 28 finished with value: 0.07086093422393486 and parameters: {'n_clusters': 4, 'init': 'random', 'max_iter': 183, 'tol': 0.0011962807115086182}. Best is trial 2 with value: 0.08752222881852827.\n",
      "[I 2025-07-15 22:16:07,377] Trial 29 finished with value: 0.07191868019770209 and parameters: {'n_clusters': 7, 'init': 'random', 'max_iter': 242, 'tol': 0.029307581627442864}. Best is trial 2 with value: 0.08752222881852827.\n",
      "[I 2025-07-15 22:16:07,645] Trial 30 finished with value: 0.07086093422393486 and parameters: {'n_clusters': 4, 'init': 'random', 'max_iter': 268, 'tol': 0.006039772481303976}. Best is trial 2 with value: 0.08752222881852827.\n",
      "[I 2025-07-15 22:16:07,921] Trial 31 finished with value: 0.08752222881852827 and parameters: {'n_clusters': 2, 'init': 'random', 'max_iter': 309, 'tol': 0.0011631145129132195}. Best is trial 2 with value: 0.08752222881852827.\n",
      "[I 2025-07-15 22:16:08,174] Trial 32 finished with value: 0.08752222881852827 and parameters: {'n_clusters': 2, 'init': 'random', 'max_iter': 318, 'tol': 0.001971474744841225}. Best is trial 2 with value: 0.08752222881852827.\n",
      "[I 2025-07-15 22:16:08,459] Trial 33 finished with value: 0.05826091260362078 and parameters: {'n_clusters': 3, 'init': 'random', 'max_iter': 359, 'tol': 0.0005667332100053648}. Best is trial 2 with value: 0.08752222881852827.\n",
      "[I 2025-07-15 22:16:08,680] Trial 34 finished with value: 0.08737204720453977 and parameters: {'n_clusters': 2, 'init': 'random', 'max_iter': 139, 'tol': 0.011759661417850821}. Best is trial 2 with value: 0.08752222881852827.\n",
      "[I 2025-07-15 22:16:09,068] Trial 35 finished with value: 0.05910796106188815 and parameters: {'n_clusters': 3, 'init': 'k-means++', 'max_iter': 468, 'tol': 0.00014680109565198683}. Best is trial 2 with value: 0.08752222881852827.\n",
      "[I 2025-07-15 22:16:09,368] Trial 36 finished with value: 0.08125035901462198 and parameters: {'n_clusters': 5, 'init': 'random', 'max_iter': 277, 'tol': 0.003523600977919462}. Best is trial 2 with value: 0.08752222881852827.\n",
      "[I 2025-07-15 22:16:09,708] Trial 37 finished with value: 0.08416517832446996 and parameters: {'n_clusters': 2, 'init': 'k-means++', 'max_iter': 374, 'tol': 0.0007966205030419654}. Best is trial 2 with value: 0.08752222881852827.\n",
      "[I 2025-07-15 22:16:09,973] Trial 38 finished with value: 0.05826091260362078 and parameters: {'n_clusters': 3, 'init': 'random', 'max_iter': 226, 'tol': 0.00017070005503991127}. Best is trial 2 with value: 0.08752222881852827.\n",
      "[I 2025-07-15 22:16:10,303] Trial 39 finished with value: 0.08649055573889959 and parameters: {'n_clusters': 10, 'init': 'k-means++', 'max_iter': 258, 'tol': 0.00837539853866109}. Best is trial 2 with value: 0.08752222881852827.\n",
      "[I 2025-07-15 22:16:10,557] Trial 40 finished with value: 0.07086093422393486 and parameters: {'n_clusters': 4, 'init': 'random', 'max_iter': 428, 'tol': 0.0016095909654038586}. Best is trial 2 with value: 0.08752222881852827.\n",
      "[I 2025-07-15 22:16:10,813] Trial 41 finished with value: 0.08752222881852827 and parameters: {'n_clusters': 2, 'init': 'random', 'max_iter': 251, 'tol': 0.0025585888420399643}. Best is trial 2 with value: 0.08752222881852827.\n",
      "[I 2025-07-15 22:16:11,071] Trial 42 finished with value: 0.08752222881852827 and parameters: {'n_clusters': 2, 'init': 'random', 'max_iter': 293, 'tol': 0.005076250991717611}. Best is trial 2 with value: 0.08752222881852827.\n",
      "[I 2025-07-15 22:16:11,331] Trial 43 finished with value: 0.05826091260362078 and parameters: {'n_clusters': 3, 'init': 'random', 'max_iter': 200, 'tol': 0.0006494123457318221}. Best is trial 2 with value: 0.08752222881852827.\n",
      "[I 2025-07-15 22:16:11,589] Trial 44 finished with value: 0.08752222881852827 and parameters: {'n_clusters': 2, 'init': 'random', 'max_iter': 229, 'tol': 0.002628009621791125}. Best is trial 2 with value: 0.08752222881852827.\n",
      "[I 2025-07-15 22:16:11,884] Trial 45 finished with value: 0.08125035901462198 and parameters: {'n_clusters': 5, 'init': 'random', 'max_iter': 282, 'tol': 0.0004421292520043941}. Best is trial 2 with value: 0.08752222881852827.\n",
      "[I 2025-07-15 22:16:12,183] Trial 46 finished with value: 0.07938677150596857 and parameters: {'n_clusters': 9, 'init': 'random', 'max_iter': 158, 'tol': 0.0011144612364628712}. Best is trial 2 with value: 0.08752222881852827.\n",
      "[I 2025-07-15 22:16:12,443] Trial 47 finished with value: 0.05826091260362078 and parameters: {'n_clusters': 3, 'init': 'random', 'max_iter': 317, 'tol': 0.004360928972986138}. Best is trial 2 with value: 0.08752222881852827.\n",
      "[I 2025-07-15 22:16:12,765] Trial 48 finished with value: 0.07685857547887798 and parameters: {'n_clusters': 6, 'init': 'k-means++', 'max_iter': 189, 'tol': 0.007928636564295767}. Best is trial 2 with value: 0.08752222881852827.\n",
      "[I 2025-07-15 22:16:13,045] Trial 49 finished with value: 0.08752222881852827 and parameters: {'n_clusters': 2, 'init': 'random', 'max_iter': 250, 'tol': 0.0017123438091429593}. Best is trial 2 with value: 0.08752222881852827.\n"
     ]
    },
    {
     "name": "stdout",
     "output_type": "stream",
     "text": [
      "{'n_clusters': 2, 'init': 'random', 'max_iter': 278, 'tol': 0.0020164095405966233}\n"
     ]
    }
   ],
   "source": [
    "# Create Optuna study to maximize silhouette score\n",
    "study = optuna.create_study(direction='maximize')\n",
    "study.optimize(objective, n_trials=50)\n",
    "\n",
    "best_trial = study.best_trial\n",
    "\n",
    "best_params = best_trial.params\n",
    "\n",
    "print(best_params)\n"
   ]
  }
 ],
 "metadata": {
  "kernelspec": {
   "display_name": ".venv",
   "language": "python",
   "name": "python3"
  },
  "language_info": {
   "codemirror_mode": {
    "name": "ipython",
    "version": 3
   },
   "file_extension": ".py",
   "mimetype": "text/x-python",
   "name": "python",
   "nbconvert_exporter": "python",
   "pygments_lexer": "ipython3",
   "version": "3.12.3"
  }
 },
 "nbformat": 4,
 "nbformat_minor": 5
}
