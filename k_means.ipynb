{
 "cells": [
  {
   "cell_type": "code",
   "execution_count": 1,
   "id": "922f3205",
   "metadata": {},
   "outputs": [
    {
     "name": "stderr",
     "output_type": "stream",
     "text": [
      "/workspaces/eargweth/.venv/lib/python3.12/site-packages/tqdm/auto.py:21: TqdmWarning: IProgress not found. Please update jupyter and ipywidgets. See https://ipywidgets.readthedocs.io/en/stable/user_install.html\n",
      "  from .autonotebook import tqdm as notebook_tqdm\n"
     ]
    }
   ],
   "source": [
    "import optuna\n",
    "from sklearn.cluster import KMeans\n",
    "from sklearn.datasets import load_digits\n",
    "from sklearn.metrics import silhouette_score\n",
    "from sklearn.preprocessing import StandardScaler"
   ]
  },
  {
   "cell_type": "code",
   "execution_count": 2,
   "id": "986a8bf0",
   "metadata": {},
   "outputs": [],
   "source": [
    "# Load and scale data\n",
    "data = load_digits()\n",
    "X = data.data\n",
    "scaler = StandardScaler()\n",
    "X_scaled = scaler.fit_transform(X)"
   ]
  },
  {
   "cell_type": "code",
   "execution_count": 3,
   "id": "5cb3c942",
   "metadata": {},
   "outputs": [],
   "source": [
    "def objective(trial):\n",
    "    # Suggest hyperparameters\n",
    "    n_clusters = trial.suggest_int('n_clusters', 2, 10)\n",
    "    init_method = trial.suggest_categorical('init', ['k-means++', 'random'])\n",
    "    max_iter = trial.suggest_int('max_iter', 100, 500)\n",
    "    tol = trial.suggest_float('tol', 1e-5, 1e-1, log=True)\n",
    "\n",
    "    # Create and fit KMeans\n",
    "    kmeans = KMeans(\n",
    "        n_clusters=n_clusters,\n",
    "        init=init_method,\n",
    "        max_iter=max_iter,\n",
    "        tol=tol,\n",
    "        random_state=42,\n",
    "        n_init=10,\n",
    "    )\n",
    "    labels = kmeans.fit_predict(X_scaled)\n",
    "\n",
    "    # Evaluate with silhouette score (higher is better)\n",
    "    score = silhouette_score(X_scaled, labels)\n",
    "    return score"
   ]
  },
  {
   "cell_type": "code",
   "execution_count": 4,
   "id": "0584048d",
   "metadata": {},
   "outputs": [
    {
     "name": "stderr",
     "output_type": "stream",
     "text": [
      "[I 2025-07-15 21:50:01,629] A new study created in memory with name: no-name-2eeb2a7d-b4f4-478d-adab-071d023ad10a\n",
      "[I 2025-07-15 21:50:01,968] Trial 0 finished with value: 0.12238683836395757 and parameters: {'n_clusters': 8, 'init': 'random', 'max_iter': 465, 'tol': 0.06740084895298537}. Best is trial 0 with value: 0.12238683836395757.\n",
      "[I 2025-07-15 21:50:02,081] Trial 1 finished with value: 0.10229832879268379 and parameters: {'n_clusters': 5, 'init': 'k-means++', 'max_iter': 180, 'tol': 2.139731766349455e-05}. Best is trial 0 with value: 0.12238683836395757.\n",
      "[I 2025-07-15 21:50:02,245] Trial 2 finished with value: 0.13598453312825654 and parameters: {'n_clusters': 9, 'init': 'k-means++', 'max_iter': 335, 'tol': 0.00013058451710958984}. Best is trial 2 with value: 0.13598453312825654.\n",
      "[I 2025-07-15 21:50:02,362] Trial 3 finished with value: 0.11257715108993595 and parameters: {'n_clusters': 7, 'init': 'random', 'max_iter': 493, 'tol': 0.006753655215994728}. Best is trial 2 with value: 0.13598453312825654.\n",
      "[I 2025-07-15 21:50:02,461] Trial 4 finished with value: 0.10151887521598017 and parameters: {'n_clusters': 5, 'init': 'k-means++', 'max_iter': 328, 'tol': 0.0030970799444167614}. Best is trial 2 with value: 0.13598453312825654.\n",
      "[I 2025-07-15 21:50:02,529] Trial 5 finished with value: 0.09534681722331503 and parameters: {'n_clusters': 4, 'init': 'k-means++', 'max_iter': 461, 'tol': 0.016618977944034545}. Best is trial 2 with value: 0.13598453312825654.\n",
      "[I 2025-07-15 21:50:02,603] Trial 6 finished with value: 0.10591337150458205 and parameters: {'n_clusters': 3, 'init': 'random', 'max_iter': 443, 'tol': 0.0164749137791844}. Best is trial 2 with value: 0.13598453312825654.\n",
      "[I 2025-07-15 21:50:02,709] Trial 7 finished with value: 0.12442305903853634 and parameters: {'n_clusters': 8, 'init': 'random', 'max_iter': 192, 'tol': 3.0380206003746475e-05}. Best is trial 2 with value: 0.13598453312825654.\n",
      "[I 2025-07-15 21:50:02,798] Trial 8 finished with value: 0.11376867977578665 and parameters: {'n_clusters': 6, 'init': 'random', 'max_iter': 401, 'tol': 2.1848205606829473e-05}. Best is trial 2 with value: 0.13598453312825654.\n",
      "[I 2025-07-15 21:50:02,928] Trial 9 finished with value: 0.13598453312825654 and parameters: {'n_clusters': 9, 'init': 'k-means++', 'max_iter': 475, 'tol': 0.0016707247123582307}. Best is trial 2 with value: 0.13598453312825654.\n",
      "[I 2025-07-15 21:50:03,066] Trial 10 finished with value: 0.13937726851699628 and parameters: {'n_clusters': 10, 'init': 'k-means++', 'max_iter': 278, 'tol': 0.0002052282313219989}. Best is trial 10 with value: 0.13937726851699628.\n",
      "[I 2025-07-15 21:50:03,214] Trial 11 finished with value: 0.13937726851699628 and parameters: {'n_clusters': 10, 'init': 'k-means++', 'max_iter': 287, 'tol': 0.0002192759266550377}. Best is trial 10 with value: 0.13937726851699628.\n",
      "[I 2025-07-15 21:50:03,348] Trial 12 finished with value: 0.13937726851699628 and parameters: {'n_clusters': 10, 'init': 'k-means++', 'max_iter': 266, 'tol': 0.0003024953530868833}. Best is trial 10 with value: 0.13937726851699628.\n",
      "[I 2025-07-15 21:50:03,485] Trial 13 finished with value: 0.13937726851699628 and parameters: {'n_clusters': 10, 'init': 'k-means++', 'max_iter': 100, 'tol': 0.00028848087632870527}. Best is trial 10 with value: 0.13937726851699628.\n",
      "[I 2025-07-15 21:50:03,620] Trial 14 finished with value: 0.10563771488565654 and parameters: {'n_clusters': 2, 'init': 'k-means++', 'max_iter': 256, 'tol': 0.00011456035659453419}. Best is trial 10 with value: 0.13937726851699628.\n",
      "[I 2025-07-15 21:50:03,777] Trial 15 finished with value: 0.13937726851699628 and parameters: {'n_clusters': 10, 'init': 'k-means++', 'max_iter': 380, 'tol': 0.0006386458632220336}. Best is trial 10 with value: 0.13937726851699628.\n",
      "[I 2025-07-15 21:50:03,922] Trial 16 finished with value: 0.12659037328976036 and parameters: {'n_clusters': 8, 'init': 'k-means++', 'max_iter': 219, 'tol': 9.410154860057495e-05}. Best is trial 10 with value: 0.13937726851699628.\n",
      "[I 2025-07-15 21:50:04,083] Trial 17 finished with value: 0.13598453312825654 and parameters: {'n_clusters': 9, 'init': 'k-means++', 'max_iter': 271, 'tol': 0.0006359973433721078}. Best is trial 10 with value: 0.13937726851699628.\n",
      "[I 2025-07-15 21:50:04,194] Trial 18 finished with value: 0.11349373740385248 and parameters: {'n_clusters': 7, 'init': 'k-means++', 'max_iter': 315, 'tol': 1.0562417810799897e-05}. Best is trial 10 with value: 0.13937726851699628.\n",
      "[I 2025-07-15 21:50:04,329] Trial 19 finished with value: 0.13937726851699628 and parameters: {'n_clusters': 10, 'init': 'k-means++', 'max_iter': 129, 'tol': 5.3020795197211786e-05}. Best is trial 10 with value: 0.13937726851699628.\n",
      "[I 2025-07-15 21:50:04,517] Trial 20 finished with value: 0.11349373740385248 and parameters: {'n_clusters': 7, 'init': 'k-means++', 'max_iter': 231, 'tol': 0.00027287179507714686}. Best is trial 10 with value: 0.13937726851699628.\n",
      "[I 2025-07-15 21:50:04,654] Trial 21 finished with value: 0.13937726851699628 and parameters: {'n_clusters': 10, 'init': 'k-means++', 'max_iter': 284, 'tol': 0.0003259687882058213}. Best is trial 10 with value: 0.13937726851699628.\n",
      "[I 2025-07-15 21:50:04,791] Trial 22 finished with value: 0.13598453312825654 and parameters: {'n_clusters': 9, 'init': 'k-means++', 'max_iter': 345, 'tol': 0.0014689874379816789}. Best is trial 10 with value: 0.13937726851699628.\n",
      "[I 2025-07-15 21:50:04,935] Trial 23 finished with value: 0.13937726851699628 and parameters: {'n_clusters': 10, 'init': 'k-means++', 'max_iter': 250, 'tol': 0.000254972297019311}. Best is trial 10 with value: 0.13937726851699628.\n",
      "[I 2025-07-15 21:50:05,074] Trial 24 finished with value: 0.13598453312825654 and parameters: {'n_clusters': 9, 'init': 'k-means++', 'max_iter': 299, 'tol': 0.0007381180437330937}. Best is trial 10 with value: 0.13937726851699628.\n",
      "[I 2025-07-15 21:50:05,200] Trial 25 finished with value: 0.12659037328976036 and parameters: {'n_clusters': 8, 'init': 'k-means++', 'max_iter': 384, 'tol': 4.8941337905253547e-05}. Best is trial 10 with value: 0.13937726851699628.\n",
      "[I 2025-07-15 21:50:05,330] Trial 26 finished with value: 0.13831629557162467 and parameters: {'n_clusters': 10, 'init': 'random', 'max_iter': 181, 'tol': 0.00015332837563227585}. Best is trial 10 with value: 0.13937726851699628.\n",
      "[I 2025-07-15 21:50:05,473] Trial 27 finished with value: 0.13598453312825654 and parameters: {'n_clusters': 9, 'init': 'k-means++', 'max_iter': 213, 'tol': 0.003455182434198822}. Best is trial 10 with value: 0.13937726851699628.\n",
      "[I 2025-07-15 21:50:05,598] Trial 28 finished with value: 0.09878895847774896 and parameters: {'n_clusters': 6, 'init': 'k-means++', 'max_iter': 359, 'tol': 6.0917553591418515e-05}. Best is trial 10 with value: 0.13937726851699628.\n",
      "[I 2025-07-15 21:50:05,724] Trial 29 finished with value: 0.12442305903853634 and parameters: {'n_clusters': 8, 'init': 'random', 'max_iter': 284, 'tol': 0.0003964703250836961}. Best is trial 10 with value: 0.13937726851699628.\n",
      "[I 2025-07-15 21:50:05,864] Trial 30 finished with value: 0.13937726851699628 and parameters: {'n_clusters': 10, 'init': 'k-means++', 'max_iter': 147, 'tol': 0.0012412391319069017}. Best is trial 10 with value: 0.13937726851699628.\n",
      "[I 2025-07-15 21:50:06,006] Trial 31 finished with value: 0.13937726851699628 and parameters: {'n_clusters': 10, 'init': 'k-means++', 'max_iter': 105, 'tol': 0.0001968225880747296}. Best is trial 10 with value: 0.13937726851699628.\n",
      "[I 2025-07-15 21:50:06,141] Trial 32 finished with value: 0.13598453312825654 and parameters: {'n_clusters': 9, 'init': 'k-means++', 'max_iter': 153, 'tol': 0.00040144834417065947}. Best is trial 10 with value: 0.13937726851699628.\n",
      "[I 2025-07-15 21:50:06,257] Trial 33 finished with value: 0.13564663503172159 and parameters: {'n_clusters': 10, 'init': 'k-means++', 'max_iter': 238, 'tol': 0.08901389133069336}. Best is trial 10 with value: 0.13937726851699628.\n",
      "[I 2025-07-15 21:50:06,399] Trial 34 finished with value: 0.13598453312825654 and parameters: {'n_clusters': 9, 'init': 'k-means++', 'max_iter': 308, 'tol': 9.182865785156453e-05}. Best is trial 10 with value: 0.13937726851699628.\n",
      "[I 2025-07-15 21:50:06,565] Trial 35 finished with value: 0.13937726851699628 and parameters: {'n_clusters': 10, 'init': 'k-means++', 'max_iter': 421, 'tol': 0.00017331124924172044}. Best is trial 10 with value: 0.13937726851699628.\n",
      "[I 2025-07-15 21:50:06,692] Trial 36 finished with value: 0.12659037328976036 and parameters: {'n_clusters': 8, 'init': 'k-means++', 'max_iter': 270, 'tol': 0.0005133907141561902}. Best is trial 10 with value: 0.13937726851699628.\n",
      "[I 2025-07-15 21:50:06,809] Trial 37 finished with value: 0.13636346478552944 and parameters: {'n_clusters': 9, 'init': 'random', 'max_iter': 192, 'tol': 0.0035097340490814017}. Best is trial 10 with value: 0.13937726851699628.\n",
      "[I 2025-07-15 21:50:06,907] Trial 38 finished with value: 0.09538583630010021 and parameters: {'n_clusters': 4, 'init': 'k-means++', 'max_iter': 331, 'tol': 0.0010230804043544434}. Best is trial 10 with value: 0.13937726851699628.\n",
      "[I 2025-07-15 21:50:07,072] Trial 39 finished with value: 0.10229832879268379 and parameters: {'n_clusters': 5, 'init': 'k-means++', 'max_iter': 100, 'tol': 7.333252879623272e-05}. Best is trial 10 with value: 0.13937726851699628.\n",
      "[I 2025-07-15 21:50:07,277] Trial 40 finished with value: 0.12442305903853634 and parameters: {'n_clusters': 8, 'init': 'random', 'max_iter': 206, 'tol': 3.394958199503941e-05}. Best is trial 10 with value: 0.13937726851699628.\n",
      "[I 2025-07-15 21:50:07,417] Trial 41 finished with value: 0.13937726851699628 and parameters: {'n_clusters': 10, 'init': 'k-means++', 'max_iter': 366, 'tol': 0.0006855955726918953}. Best is trial 10 with value: 0.13937726851699628.\n",
      "[I 2025-07-15 21:50:07,555] Trial 42 finished with value: 0.13937726851699628 and parameters: {'n_clusters': 10, 'init': 'k-means++', 'max_iter': 407, 'tol': 0.0022221201541493376}. Best is trial 10 with value: 0.13937726851699628.\n",
      "[I 2025-07-15 21:50:07,673] Trial 43 finished with value: 0.13598453312825654 and parameters: {'n_clusters': 9, 'init': 'k-means++', 'max_iter': 440, 'tol': 0.038644463955381646}. Best is trial 10 with value: 0.13937726851699628.\n",
      "[I 2025-07-15 21:50:07,808] Trial 44 finished with value: 0.13937726851699628 and parameters: {'n_clusters': 10, 'init': 'k-means++', 'max_iter': 492, 'tol': 0.0002315700139136153}. Best is trial 10 with value: 0.13937726851699628.\n",
      "[I 2025-07-15 21:50:07,925] Trial 45 finished with value: 0.11349373740385248 and parameters: {'n_clusters': 7, 'init': 'k-means++', 'max_iter': 320, 'tol': 0.00014603245356643586}. Best is trial 10 with value: 0.13937726851699628.\n",
      "[I 2025-07-15 21:50:08,063] Trial 46 finished with value: 0.13598453312825654 and parameters: {'n_clusters': 9, 'init': 'k-means++', 'max_iter': 291, 'tol': 0.00048347626604714156}. Best is trial 10 with value: 0.13937726851699628.\n",
      "[I 2025-07-15 21:50:08,192] Trial 47 finished with value: 0.13554775991586782 and parameters: {'n_clusters': 10, 'init': 'k-means++', 'max_iter': 260, 'tol': 0.006243304092301177}. Best is trial 10 with value: 0.13937726851699628.\n",
      "[I 2025-07-15 21:50:08,282] Trial 48 finished with value: 0.10499479444587491 and parameters: {'n_clusters': 2, 'init': 'random', 'max_iter': 375, 'tol': 0.0007198508801226028}. Best is trial 10 with value: 0.13937726851699628.\n",
      "[I 2025-07-15 21:50:08,418] Trial 49 finished with value: 0.13598453312825654 and parameters: {'n_clusters': 9, 'init': 'k-means++', 'max_iter': 343, 'tol': 0.00011561521641595403}. Best is trial 10 with value: 0.13937726851699628.\n"
     ]
    },
    {
     "name": "stdout",
     "output_type": "stream",
     "text": [
      "{'n_clusters': 10, 'init': 'k-means++', 'max_iter': 278, 'tol': 0.0002052282313219989}\n"
     ]
    }
   ],
   "source": [
    "# Create Optuna study to maximize silhouette score\n",
    "study = optuna.create_study(direction='maximize')\n",
    "study.optimize(objective, n_trials=50)\n",
    "\n",
    "best_trial = study.best_trial\n",
    "\n",
    "best_params = best_trial.params\n",
    "\n",
    "print(best_params)\n"
   ]
  },
  {
   "cell_type": "code",
   "execution_count": null,
   "id": "4e0d17fb",
   "metadata": {},
   "outputs": [],
   "source": [
    "kmeans_best = KMeans(\n",
    "    n_clusters=best_params['n_clusters'],\n",
    "    init=best_params['init'],\n",
    "    max_iter=best_params['max_iter'],\n",
    "    tol=best_params['tol'],\n",
    "    random_state=42,\n",
    "    n_init=10\n",
    ")\n",
    "labels_pred = kmeans_best.fit_predict(X_scaled)\n",
    "\n",
    "# Reduce dimensionality for visualization\n",
    "pca = PCA(n_components=2, random_state=42)\n",
    "X_pca = pca.fit_transform(X_scaled)\n",
    "\n",
    "# Plot true labels\n",
    "plt.figure(figsize=(12, 5))\n",
    "plt.subplot(1, 2, 1)\n",
    "scatter = plt.scatter(X_pca[:, 0], X_pca[:, 1], c=y_true, cmap='tab10', s=15)\n",
    "plt.title(\"True Digit Labels\")\n",
    "plt.xlabel(\"PCA Component 1\")\n",
    "plt.ylabel(\"PCA Component 2\")\n",
    "plt.legend(*scatter.legend_elements(), title=\"Digits\", bbox_to_anchor=(1, 1))\n",
    "plt.grid(True)\n",
    "\n",
    "# Plot KMeans clusters\n",
    "plt.subplot(1, 2, 2)\n",
    "scatter = plt.scatter(X_pca[:, 0], X_pca[:, 1], c=labels_pred, cmap='tab10', s=15)\n",
    "plt.title(f\"KMeans Clusters (k={best_params['n_clusters']})\")\n",
    "plt.xlabel(\"PCA Component 1\")\n",
    "plt.ylabel(\"PCA Component 2\")\n",
    "plt.legend(*scatter.legend_elements(), title=\"Clusters\", bbox_to_anchor=(1, 1))\n",
    "plt.grid(True)\n",
    "\n",
    "plt.tight_layout()\n",
    "plt.show()"
   ]
  }
 ],
 "metadata": {
  "kernelspec": {
   "display_name": ".venv",
   "language": "python",
   "name": "python3"
  },
  "language_info": {
   "codemirror_mode": {
    "name": "ipython",
    "version": 3
   },
   "file_extension": ".py",
   "mimetype": "text/x-python",
   "name": "python",
   "nbconvert_exporter": "python",
   "pygments_lexer": "ipython3",
   "version": "3.12.3"
  }
 },
 "nbformat": 4,
 "nbformat_minor": 5
}
