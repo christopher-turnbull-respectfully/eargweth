{
 "cells": [
  {
   "cell_type": "code",
   "execution_count": null,
   "id": "edf18361",
   "metadata": {},
   "outputs": [
    {
     "name": "stderr",
     "output_type": "stream",
     "text": [
      "/usr/local/python/3.12.1/lib/python3.12/site-packages/tqdm/auto.py:21: TqdmWarning: IProgress not found. Please update jupyter and ipywidgets. See https://ipywidgets.readthedocs.io/en/stable/user_install.html\n",
      "  from .autonotebook import tqdm as notebook_tqdm\n",
      "[I 2025-07-15 15:31:22,287] A new study created in memory with name: no-name-cb21b184-3e33-4678-8e9f-04f54ff5d339\n",
      "[I 2025-07-15 15:31:22,793] Trial 0 finished with value: 0.96 and parameters: {'n_estimators': 96, 'max_depth': 31, 'min_samples_split': 20, 'min_samples_leaf': 14, 'criterion': 'entropy'}. Best is trial 0 with value: 0.96.\n",
      "[I 2025-07-15 15:31:23,458] Trial 1 finished with value: 0.96 and parameters: {'n_estimators': 136, 'max_depth': 20, 'min_samples_split': 5, 'min_samples_leaf': 11, 'criterion': 'gini'}. Best is trial 0 with value: 0.96.\n",
      "[I 2025-07-15 15:31:23,844] Trial 2 finished with value: 0.9533333333333333 and parameters: {'n_estimators': 69, 'max_depth': 17, 'min_samples_split': 16, 'min_samples_leaf': 16, 'criterion': 'gini'}. Best is trial 0 with value: 0.96.\n",
      "[I 2025-07-15 15:31:24,134] Trial 3 finished with value: 0.9533333333333333 and parameters: {'n_estimators': 60, 'max_depth': 4, 'min_samples_split': 16, 'min_samples_leaf': 3, 'criterion': 'entropy'}. Best is trial 0 with value: 0.96.\n",
      "[I 2025-07-15 15:31:24,963] Trial 4 finished with value: 0.9533333333333333 and parameters: {'n_estimators': 176, 'max_depth': 6, 'min_samples_split': 12, 'min_samples_leaf': 16, 'criterion': 'entropy'}. Best is trial 0 with value: 0.96.\n",
      "[I 2025-07-15 15:31:25,372] Trial 5 finished with value: 0.96 and parameters: {'n_estimators': 77, 'max_depth': 2, 'min_samples_split': 6, 'min_samples_leaf': 12, 'criterion': 'entropy'}. Best is trial 0 with value: 0.96.\n",
      "[I 2025-07-15 15:31:25,562] Trial 6 finished with value: 0.96 and parameters: {'n_estimators': 29, 'max_depth': 8, 'min_samples_split': 15, 'min_samples_leaf': 15, 'criterion': 'entropy'}. Best is trial 0 with value: 0.96.\n",
      "[I 2025-07-15 15:31:26,340] Trial 7 finished with value: 0.96 and parameters: {'n_estimators': 160, 'max_depth': 18, 'min_samples_split': 6, 'min_samples_leaf': 19, 'criterion': 'gini'}. Best is trial 0 with value: 0.96.\n",
      "[I 2025-07-15 15:31:26,571] Trial 8 finished with value: 0.9533333333333333 and parameters: {'n_estimators': 36, 'max_depth': 28, 'min_samples_split': 14, 'min_samples_leaf': 7, 'criterion': 'gini'}. Best is trial 0 with value: 0.96.\n",
      "[I 2025-07-15 15:31:27,409] Trial 9 finished with value: 0.9533333333333333 and parameters: {'n_estimators': 177, 'max_depth': 9, 'min_samples_split': 9, 'min_samples_leaf': 19, 'criterion': 'entropy'}. Best is trial 0 with value: 0.96.\n",
      "[I 2025-07-15 15:31:27,962] Trial 10 finished with value: 0.9533333333333333 and parameters: {'n_estimators': 114, 'max_depth': 2, 'min_samples_split': 20, 'min_samples_leaf': 6, 'criterion': 'entropy'}. Best is trial 0 with value: 0.96.\n",
      "[I 2025-07-15 15:31:28,568] Trial 11 finished with value: 0.96 and parameters: {'n_estimators': 123, 'max_depth': 30, 'min_samples_split': 2, 'min_samples_leaf': 11, 'criterion': 'gini'}. Best is trial 0 with value: 0.96.\n",
      "[I 2025-07-15 15:31:29,291] Trial 12 finished with value: 0.96 and parameters: {'n_estimators': 139, 'max_depth': 14, 'min_samples_split': 19, 'min_samples_leaf': 8, 'criterion': 'gini'}. Best is trial 0 with value: 0.96.\n",
      "[I 2025-07-15 15:31:29,786] Trial 13 finished with value: 0.9533333333333333 and parameters: {'n_estimators': 98, 'max_depth': 32, 'min_samples_split': 3, 'min_samples_leaf': 13, 'criterion': 'gini'}. Best is trial 0 with value: 0.96.\n",
      "[I 2025-07-15 15:31:30,503] Trial 14 finished with value: 0.96 and parameters: {'n_estimators': 148, 'max_depth': 13, 'min_samples_split': 9, 'min_samples_leaf': 9, 'criterion': 'entropy'}. Best is trial 0 with value: 0.96.\n",
      "[I 2025-07-15 15:31:30,971] Trial 15 finished with value: 0.96 and parameters: {'n_estimators': 94, 'max_depth': 21, 'min_samples_split': 5, 'min_samples_leaf': 4, 'criterion': 'gini'}. Best is trial 0 with value: 0.96.\n",
      "[I 2025-07-15 15:31:32,061] Trial 16 finished with value: 0.9533333333333333 and parameters: {'n_estimators': 194, 'max_depth': 11, 'min_samples_split': 11, 'min_samples_leaf': 13, 'criterion': 'gini'}. Best is trial 0 with value: 0.96.\n",
      "[I 2025-07-15 15:31:32,704] Trial 17 finished with value: 0.96 and parameters: {'n_estimators': 130, 'max_depth': 5, 'min_samples_split': 18, 'min_samples_leaf': 1, 'criterion': 'entropy'}. Best is trial 0 with value: 0.96.\n",
      "[I 2025-07-15 15:31:33,168] Trial 18 finished with value: 0.96 and parameters: {'n_estimators': 90, 'max_depth': 24, 'min_samples_split': 8, 'min_samples_leaf': 10, 'criterion': 'gini'}. Best is trial 0 with value: 0.96.\n",
      "[I 2025-07-15 15:31:33,461] Trial 19 finished with value: 0.96 and parameters: {'n_estimators': 49, 'max_depth': 20, 'min_samples_split': 4, 'min_samples_leaf': 14, 'criterion': 'entropy'}. Best is trial 0 with value: 0.96.\n",
      "[I 2025-07-15 15:31:33,618] Trial 20 finished with value: 0.9466666666666667 and parameters: {'n_estimators': 15, 'max_depth': 3, 'min_samples_split': 13, 'min_samples_leaf': 17, 'criterion': 'gini'}. Best is trial 0 with value: 0.96.\n",
      "[I 2025-07-15 15:31:34,067] Trial 21 finished with value: 0.96 and parameters: {'n_estimators': 79, 'max_depth': 2, 'min_samples_split': 7, 'min_samples_leaf': 11, 'criterion': 'entropy'}. Best is trial 0 with value: 0.96.\n",
      "[I 2025-07-15 15:31:34,601] Trial 22 finished with value: 0.9533333333333333 and parameters: {'n_estimators': 110, 'max_depth': 3, 'min_samples_split': 5, 'min_samples_leaf': 12, 'criterion': 'entropy'}. Best is trial 0 with value: 0.96.\n",
      "[I 2025-07-15 15:31:35,018] Trial 23 finished with value: 0.96 and parameters: {'n_estimators': 80, 'max_depth': 3, 'min_samples_split': 9, 'min_samples_leaf': 10, 'criterion': 'entropy'}. Best is trial 0 with value: 0.96.\n",
      "[I 2025-07-15 15:31:35,593] Trial 24 finished with value: 0.9533333333333333 and parameters: {'n_estimators': 113, 'max_depth': 11, 'min_samples_split': 2, 'min_samples_leaf': 13, 'criterion': 'entropy'}. Best is trial 0 with value: 0.96.\n",
      "[I 2025-07-15 15:31:36,333] Trial 25 finished with value: 0.96 and parameters: {'n_estimators': 153, 'max_depth': 15, 'min_samples_split': 7, 'min_samples_leaf': 18, 'criterion': 'entropy'}. Best is trial 0 with value: 0.96.\n",
      "[I 2025-07-15 15:31:36,631] Trial 26 finished with value: 0.96 and parameters: {'n_estimators': 57, 'max_depth': 23, 'min_samples_split': 11, 'min_samples_leaf': 15, 'criterion': 'entropy'}. Best is trial 0 with value: 0.96.\n",
      "[I 2025-07-15 15:31:37,302] Trial 27 finished with value: 0.96 and parameters: {'n_estimators': 131, 'max_depth': 6, 'min_samples_split': 4, 'min_samples_leaf': 9, 'criterion': 'entropy'}. Best is trial 0 with value: 0.96.\n",
      "[I 2025-07-15 15:31:37,759] Trial 28 finished with value: 0.9533333333333333 and parameters: {'n_estimators': 77, 'max_depth': 4, 'min_samples_split': 10, 'min_samples_leaf': 12, 'criterion': 'gini'}. Best is trial 0 with value: 0.96.\n",
      "[I 2025-07-15 15:31:38,141] Trial 29 finished with value: 0.9533333333333333 and parameters: {'n_estimators': 67, 'max_depth': 17, 'min_samples_split': 6, 'min_samples_leaf': 16, 'criterion': 'gini'}. Best is trial 0 with value: 0.96.\n",
      "[I 2025-07-15 15:31:38,664] Trial 30 finished with value: 0.96 and parameters: {'n_estimators': 98, 'max_depth': 27, 'min_samples_split': 17, 'min_samples_leaf': 14, 'criterion': 'entropy'}. Best is trial 0 with value: 0.96.\n",
      "[I 2025-07-15 15:31:38,843] Trial 31 finished with value: 0.9533333333333333 and parameters: {'n_estimators': 22, 'max_depth': 9, 'min_samples_split': 15, 'min_samples_leaf': 16, 'criterion': 'entropy'}. Best is trial 0 with value: 0.96.\n",
      "[I 2025-07-15 15:31:39,082] Trial 32 finished with value: 0.96 and parameters: {'n_estimators': 34, 'max_depth': 8, 'min_samples_split': 17, 'min_samples_leaf': 15, 'criterion': 'entropy'}. Best is trial 0 with value: 0.96.\n",
      "[I 2025-07-15 15:31:39,341] Trial 33 finished with value: 0.96 and parameters: {'n_estimators': 48, 'max_depth': 4, 'min_samples_split': 15, 'min_samples_leaf': 12, 'criterion': 'entropy'}. Best is trial 0 with value: 0.96.\n",
      "[I 2025-07-15 15:31:39,595] Trial 34 finished with value: 0.9533333333333333 and parameters: {'n_estimators': 35, 'max_depth': 6, 'min_samples_split': 13, 'min_samples_leaf': 14, 'criterion': 'entropy'}. Best is trial 0 with value: 0.96.\n",
      "[I 2025-07-15 15:31:39,963] Trial 35 finished with value: 0.9533333333333333 and parameters: {'n_estimators': 66, 'max_depth': 17, 'min_samples_split': 19, 'min_samples_leaf': 20, 'criterion': 'entropy'}. Best is trial 0 with value: 0.96.\n",
      "[I 2025-07-15 15:31:40,549] Trial 36 finished with value: 0.9533333333333333 and parameters: {'n_estimators': 122, 'max_depth': 11, 'min_samples_split': 16, 'min_samples_leaf': 17, 'criterion': 'entropy'}. Best is trial 0 with value: 0.96.\n",
      "[I 2025-07-15 15:31:41,025] Trial 37 finished with value: 0.96 and parameters: {'n_estimators': 87, 'max_depth': 7, 'min_samples_split': 20, 'min_samples_leaf': 7, 'criterion': 'entropy'}. Best is trial 0 with value: 0.96.\n",
      "[I 2025-07-15 15:31:41,882] Trial 38 finished with value: 0.9533333333333333 and parameters: {'n_estimators': 171, 'max_depth': 26, 'min_samples_split': 12, 'min_samples_leaf': 15, 'criterion': 'gini'}. Best is trial 0 with value: 0.96.\n",
      "[I 2025-07-15 15:31:42,677] Trial 39 finished with value: 0.96 and parameters: {'n_estimators': 142, 'max_depth': 5, 'min_samples_split': 7, 'min_samples_leaf': 11, 'criterion': 'entropy'}. Best is trial 0 with value: 0.96.\n",
      "[I 2025-07-15 15:31:43,239] Trial 40 finished with value: 0.96 and parameters: {'n_estimators': 103, 'max_depth': 20, 'min_samples_split': 15, 'min_samples_leaf': 5, 'criterion': 'gini'}. Best is trial 0 with value: 0.96.\n",
      "[I 2025-07-15 15:31:44,092] Trial 41 finished with value: 0.9533333333333333 and parameters: {'n_estimators': 166, 'max_depth': 15, 'min_samples_split': 6, 'min_samples_leaf': 20, 'criterion': 'gini'}. Best is trial 0 with value: 0.96.\n",
      "[I 2025-07-15 15:31:44,877] Trial 42 finished with value: 0.96 and parameters: {'n_estimators': 156, 'max_depth': 32, 'min_samples_split': 4, 'min_samples_leaf': 18, 'criterion': 'gini'}. Best is trial 0 with value: 0.96.\n",
      "[I 2025-07-15 15:31:45,756] Trial 43 finished with value: 0.9533333333333333 and parameters: {'n_estimators': 183, 'max_depth': 19, 'min_samples_split': 8, 'min_samples_leaf': 18, 'criterion': 'gini'}. Best is trial 0 with value: 0.96.\n",
      "[I 2025-07-15 15:31:46,525] Trial 44 finished with value: 0.96 and parameters: {'n_estimators': 160, 'max_depth': 12, 'min_samples_split': 3, 'min_samples_leaf': 9, 'criterion': 'gini'}. Best is trial 0 with value: 0.96.\n",
      "[I 2025-07-15 15:31:47,174] Trial 45 finished with value: 0.96 and parameters: {'n_estimators': 135, 'max_depth': 23, 'min_samples_split': 5, 'min_samples_leaf': 13, 'criterion': 'gini'}. Best is trial 0 with value: 0.96.\n",
      "[I 2025-07-15 15:31:47,770] Trial 46 finished with value: 0.96 and parameters: {'n_estimators': 123, 'max_depth': 29, 'min_samples_split': 6, 'min_samples_leaf': 19, 'criterion': 'gini'}. Best is trial 0 with value: 0.96.\n",
      "[I 2025-07-15 15:31:48,685] Trial 47 finished with value: 0.9533333333333333 and parameters: {'n_estimators': 184, 'max_depth': 2, 'min_samples_split': 19, 'min_samples_leaf': 8, 'criterion': 'entropy'}. Best is trial 0 with value: 0.96.\n",
      "[I 2025-07-15 15:31:49,424] Trial 48 finished with value: 0.9533333333333333 and parameters: {'n_estimators': 144, 'max_depth': 9, 'min_samples_split': 10, 'min_samples_leaf': 17, 'criterion': 'gini'}. Best is trial 0 with value: 0.96.\n",
      "[I 2025-07-15 15:31:49,731] Trial 49 finished with value: 0.96 and parameters: {'n_estimators': 55, 'max_depth': 18, 'min_samples_split': 8, 'min_samples_leaf': 12, 'criterion': 'entropy'}. Best is trial 0 with value: 0.96.\n"
     ]
    },
    {
     "name": "stdout",
     "output_type": "stream",
     "text": [
      "Best trial:\n"
     ]
    },
    {
     "data": {
      "text/plain": [
       "{'n_estimators': 96,\n",
       " 'max_depth': 31,\n",
       " 'min_samples_split': 20,\n",
       " 'min_samples_leaf': 14,\n",
       " 'criterion': 'entropy'}"
      ]
     },
     "metadata": {},
     "output_type": "display_data"
    }
   ],
   "source": [
    "import optuna\n",
    "from sklearn.datasets import load_iris\n",
    "from sklearn.model_selection import cross_val_score\n",
    "from sklearn.ensemble import RandomForestClassifier\n",
    "from sklearn.model_selection import StratifiedKFold\n",
    "\n",
    "# Load dataset\n",
    "data = load_iris()\n",
    "X = data.data\n",
    "y = data.target\n",
    "\n",
    "def objective(trial):\n",
    "    # Suggest hyperparameters\n",
    "    n_estimators = trial.suggest_int('n_estimators', 10, 200)\n",
    "    max_depth = trial.suggest_int('max_depth', 2, 32, log=True)\n",
    "    min_samples_split = trial.suggest_int('min_samples_split', 2, 20)\n",
    "    min_samples_leaf = trial.suggest_int('min_samples_leaf', 1, 20)\n",
    "    criterion = trial.suggest_categorical('criterion', ['gini', 'entropy'])  # categorical hyperparameter\n",
    "\n",
    "    clf = RandomForestClassifier(\n",
    "        n_estimators=n_estimators,\n",
    "        max_depth=max_depth,\n",
    "        min_samples_split=min_samples_split,\n",
    "        min_samples_leaf=min_samples_leaf,\n",
    "        criterion=criterion,\n",
    "        random_state=42,\n",
    "        n_jobs=-1\n",
    "    )\n",
    "    \n",
    "    cv = StratifiedKFold(n_splits=3, shuffle=True, random_state=42)\n",
    "    scores = cross_val_score(clf, X, y, cv=cv, scoring='accuracy')\n",
    "    \n",
    "    return scores.mean()\n",
    "\n",
    "study = optuna.create_study(direction='maximize')\n",
    "study.optimize(objective, n_trials=50)\n",
    "\n",
    "best_trial = study.best_trial\n",
    "\n",
    "best_params = best_trial.params\n",
    "\n",
    "display(best_params)"
   ]
  },
  {
   "cell_type": "code",
   "execution_count": null,
   "id": "86fa7d89",
   "metadata": {},
   "outputs": [],
   "source": []
  }
 ],
 "metadata": {
  "kernelspec": {
   "display_name": "Python 3",
   "language": "python",
   "name": "python3"
  },
  "language_info": {
   "codemirror_mode": {
    "name": "ipython",
    "version": 3
   },
   "file_extension": ".py",
   "mimetype": "text/x-python",
   "name": "python",
   "nbconvert_exporter": "python",
   "pygments_lexer": "ipython3",
   "version": "3.12.1"
  }
 },
 "nbformat": 4,
 "nbformat_minor": 5
}
