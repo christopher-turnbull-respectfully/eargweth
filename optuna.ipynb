{
 "cells": [
  {
   "cell_type": "code",
   "execution_count": 3,
   "id": "8f35b7de",
   "metadata": {},
   "outputs": [
    {
     "name": "stdout",
     "output_type": "stream",
     "text": [
      "Requirement already satisfied: optuna in /usr/local/python/3.12.1/lib/python3.12/site-packages (4.4.0)\n",
      "Requirement already satisfied: alembic>=1.5.0 in /usr/local/python/3.12.1/lib/python3.12/site-packages (from optuna) (1.16.2)\n",
      "Requirement already satisfied: colorlog in /usr/local/python/3.12.1/lib/python3.12/site-packages (from optuna) (6.9.0)\n",
      "Requirement already satisfied: numpy in /home/codespace/.local/lib/python3.12/site-packages (from optuna) (2.2.4)\n",
      "Requirement already satisfied: packaging>=20.0 in /home/codespace/.local/lib/python3.12/site-packages (from optuna) (24.2)\n",
      "Requirement already satisfied: sqlalchemy>=1.4.2 in /usr/local/python/3.12.1/lib/python3.12/site-packages (from optuna) (2.0.41)\n",
      "Requirement already satisfied: tqdm in /usr/local/python/3.12.1/lib/python3.12/site-packages (from optuna) (4.67.1)\n",
      "Requirement already satisfied: PyYAML in /home/codespace/.local/lib/python3.12/site-packages (from optuna) (6.0.2)\n",
      "Requirement already satisfied: Mako in /usr/local/python/3.12.1/lib/python3.12/site-packages (from alembic>=1.5.0->optuna) (1.3.10)\n",
      "Requirement already satisfied: typing-extensions>=4.12 in /home/codespace/.local/lib/python3.12/site-packages (from alembic>=1.5.0->optuna) (4.12.2)\n",
      "Requirement already satisfied: greenlet>=1 in /usr/local/python/3.12.1/lib/python3.12/site-packages (from sqlalchemy>=1.4.2->optuna) (3.2.3)\n",
      "Requirement already satisfied: MarkupSafe>=0.9.2 in /home/codespace/.local/lib/python3.12/site-packages (from Mako->alembic>=1.5.0->optuna) (3.0.2)\n",
      "\n",
      "\u001b[1m[\u001b[0m\u001b[34;49mnotice\u001b[0m\u001b[1;39;49m]\u001b[0m\u001b[39;49m A new release of pip is available: \u001b[0m\u001b[31;49m25.0.1\u001b[0m\u001b[39;49m -> \u001b[0m\u001b[32;49m25.1.1\u001b[0m\n",
      "\u001b[1m[\u001b[0m\u001b[34;49mnotice\u001b[0m\u001b[1;39;49m]\u001b[0m\u001b[39;49m To update, run: \u001b[0m\u001b[32;49mpython3 -m pip install --upgrade pip\u001b[0m\n"
     ]
    }
   ],
   "source": [
    "!pip install optuna"
   ]
  },
  {
   "cell_type": "code",
   "execution_count": 4,
   "id": "edf18361",
   "metadata": {},
   "outputs": [
    {
     "name": "stderr",
     "output_type": "stream",
     "text": [
      "/home/codespace/.python/current/lib/python3.12/site-packages/tqdm/auto.py:21: TqdmWarning: IProgress not found. Please update jupyter and ipywidgets. See https://ipywidgets.readthedocs.io/en/stable/user_install.html\n",
      "  from .autonotebook import tqdm as notebook_tqdm\n",
      "[I 2025-07-02 22:38:06,320] A new study created in memory with name: no-name-c91ea77c-d8a5-4c41-b595-d05cc2ef2797\n",
      "[I 2025-07-02 22:38:07,129] Trial 0 finished with value: 0.9533333333333333 and parameters: {'n_estimators': 168, 'max_depth': 8, 'min_samples_split': 8, 'min_samples_leaf': 12, 'criterion': 'entropy'}. Best is trial 0 with value: 0.9533333333333333.\n",
      "[I 2025-07-02 22:38:07,707] Trial 1 finished with value: 0.96 and parameters: {'n_estimators': 80, 'max_depth': 6, 'min_samples_split': 17, 'min_samples_leaf': 20, 'criterion': 'gini'}. Best is trial 1 with value: 0.96.\n",
      "[I 2025-07-02 22:38:09,230] Trial 2 finished with value: 0.9533333333333333 and parameters: {'n_estimators': 198, 'max_depth': 4, 'min_samples_split': 19, 'min_samples_leaf': 5, 'criterion': 'gini'}. Best is trial 1 with value: 0.96.\n",
      "[I 2025-07-02 22:38:11,396] Trial 3 finished with value: 0.9533333333333333 and parameters: {'n_estimators': 188, 'max_depth': 24, 'min_samples_split': 8, 'min_samples_leaf': 16, 'criterion': 'entropy'}. Best is trial 1 with value: 0.96.\n",
      "[I 2025-07-02 22:38:12,387] Trial 4 finished with value: 0.9533333333333333 and parameters: {'n_estimators': 120, 'max_depth': 9, 'min_samples_split': 15, 'min_samples_leaf': 7, 'criterion': 'gini'}. Best is trial 1 with value: 0.96.\n",
      "[I 2025-07-02 22:38:12,793] Trial 5 finished with value: 0.9533333333333333 and parameters: {'n_estimators': 61, 'max_depth': 3, 'min_samples_split': 15, 'min_samples_leaf': 7, 'criterion': 'gini'}. Best is trial 1 with value: 0.96.\n",
      "[I 2025-07-02 22:38:13,064] Trial 6 finished with value: 0.96 and parameters: {'n_estimators': 44, 'max_depth': 30, 'min_samples_split': 7, 'min_samples_leaf': 11, 'criterion': 'gini'}. Best is trial 1 with value: 0.96.\n",
      "[I 2025-07-02 22:38:14,818] Trial 7 finished with value: 0.96 and parameters: {'n_estimators': 198, 'max_depth': 10, 'min_samples_split': 4, 'min_samples_leaf': 5, 'criterion': 'entropy'}. Best is trial 1 with value: 0.96.\n",
      "[I 2025-07-02 22:38:15,519] Trial 8 finished with value: 0.96 and parameters: {'n_estimators': 54, 'max_depth': 29, 'min_samples_split': 6, 'min_samples_leaf': 10, 'criterion': 'entropy'}. Best is trial 1 with value: 0.96.\n",
      "[I 2025-07-02 22:38:17,494] Trial 9 finished with value: 0.9533333333333333 and parameters: {'n_estimators': 191, 'max_depth': 12, 'min_samples_split': 19, 'min_samples_leaf': 8, 'criterion': 'entropy'}. Best is trial 1 with value: 0.96.\n",
      "[I 2025-07-02 22:38:18,342] Trial 10 finished with value: 0.96 and parameters: {'n_estimators': 96, 'max_depth': 2, 'min_samples_split': 13, 'min_samples_leaf': 19, 'criterion': 'gini'}. Best is trial 1 with value: 0.96.\n",
      "[I 2025-07-02 22:38:18,826] Trial 11 finished with value: 0.9533333333333333 and parameters: {'n_estimators': 17, 'max_depth': 5, 'min_samples_split': 2, 'min_samples_leaf': 14, 'criterion': 'gini'}. Best is trial 1 with value: 0.96.\n",
      "[I 2025-07-02 22:38:19,063] Trial 12 finished with value: 0.9533333333333333 and parameters: {'n_estimators': 10, 'max_depth': 16, 'min_samples_split': 10, 'min_samples_leaf': 2, 'criterion': 'gini'}. Best is trial 1 with value: 0.96.\n",
      "[I 2025-07-02 22:38:19,675] Trial 13 finished with value: 0.96 and parameters: {'n_estimators': 67, 'max_depth': 6, 'min_samples_split': 12, 'min_samples_leaf': 19, 'criterion': 'gini'}. Best is trial 1 with value: 0.96.\n",
      "[I 2025-07-02 22:38:20,411] Trial 14 finished with value: 0.9533333333333333 and parameters: {'n_estimators': 103, 'max_depth': 18, 'min_samples_split': 16, 'min_samples_leaf': 16, 'criterion': 'gini'}. Best is trial 1 with value: 0.96.\n",
      "[I 2025-07-02 22:38:20,638] Trial 15 finished with value: 0.9533333333333333 and parameters: {'n_estimators': 36, 'max_depth': 3, 'min_samples_split': 10, 'min_samples_leaf': 20, 'criterion': 'gini'}. Best is trial 1 with value: 0.96.\n",
      "[I 2025-07-02 22:38:21,059] Trial 16 finished with value: 0.9533333333333333 and parameters: {'n_estimators': 81, 'max_depth': 16, 'min_samples_split': 20, 'min_samples_leaf': 12, 'criterion': 'gini'}. Best is trial 1 with value: 0.96.\n",
      "[I 2025-07-02 22:38:21,900] Trial 17 finished with value: 0.96 and parameters: {'n_estimators': 144, 'max_depth': 2, 'min_samples_split': 17, 'min_samples_leaf': 16, 'criterion': 'gini'}. Best is trial 1 with value: 0.96.\n",
      "[I 2025-07-02 22:38:22,164] Trial 18 finished with value: 0.9533333333333333 and parameters: {'n_estimators': 39, 'max_depth': 32, 'min_samples_split': 6, 'min_samples_leaf': 1, 'criterion': 'gini'}. Best is trial 1 with value: 0.96.\n",
      "[I 2025-07-02 22:38:22,786] Trial 19 finished with value: 0.9533333333333333 and parameters: {'n_estimators': 125, 'max_depth': 6, 'min_samples_split': 13, 'min_samples_leaf': 14, 'criterion': 'gini'}. Best is trial 1 with value: 0.96.\n",
      "[I 2025-07-02 22:38:23,249] Trial 20 finished with value: 0.96 and parameters: {'n_estimators': 82, 'max_depth': 4, 'min_samples_split': 8, 'min_samples_leaf': 10, 'criterion': 'gini'}. Best is trial 1 with value: 0.96.\n",
      "[I 2025-07-02 22:38:24,064] Trial 21 finished with value: 0.96 and parameters: {'n_estimators': 163, 'max_depth': 11, 'min_samples_split': 2, 'min_samples_leaf': 5, 'criterion': 'entropy'}. Best is trial 1 with value: 0.96.\n",
      "[I 2025-07-02 22:38:24,313] Trial 22 finished with value: 0.96 and parameters: {'n_estimators': 38, 'max_depth': 11, 'min_samples_split': 4, 'min_samples_leaf': 4, 'criterion': 'entropy'}. Best is trial 1 with value: 0.96.\n",
      "[I 2025-07-02 22:38:24,769] Trial 23 finished with value: 0.96 and parameters: {'n_estimators': 85, 'max_depth': 21, 'min_samples_split': 5, 'min_samples_leaf': 8, 'criterion': 'entropy'}. Best is trial 1 with value: 0.96.\n",
      "[I 2025-07-02 22:38:25,399] Trial 24 finished with value: 0.96 and parameters: {'n_estimators': 117, 'max_depth': 7, 'min_samples_split': 4, 'min_samples_leaf': 3, 'criterion': 'entropy'}. Best is trial 1 with value: 0.96.\n",
      "[I 2025-07-02 22:38:26,077] Trial 25 finished with value: 0.96 and parameters: {'n_estimators': 138, 'max_depth': 13, 'min_samples_split': 7, 'min_samples_leaf': 18, 'criterion': 'entropy'}. Best is trial 1 with value: 0.96.\n",
      "[I 2025-07-02 22:38:26,348] Trial 26 finished with value: 0.96 and parameters: {'n_estimators': 49, 'max_depth': 9, 'min_samples_split': 10, 'min_samples_leaf': 11, 'criterion': 'entropy'}. Best is trial 1 with value: 0.96.\n",
      "[I 2025-07-02 22:38:26,738] Trial 27 finished with value: 0.9533333333333333 and parameters: {'n_estimators': 70, 'max_depth': 5, 'min_samples_split': 3, 'min_samples_leaf': 14, 'criterion': 'gini'}. Best is trial 1 with value: 0.96.\n",
      "[I 2025-07-02 22:38:27,577] Trial 28 finished with value: 0.96 and parameters: {'n_estimators': 167, 'max_depth': 3, 'min_samples_split': 5, 'min_samples_leaf': 5, 'criterion': 'entropy'}. Best is trial 1 with value: 0.96.\n",
      "[I 2025-07-02 22:38:28,125] Trial 29 finished with value: 0.96 and parameters: {'n_estimators': 95, 'max_depth': 8, 'min_samples_split': 8, 'min_samples_leaf': 13, 'criterion': 'entropy'}. Best is trial 1 with value: 0.96.\n",
      "[I 2025-07-02 22:38:28,313] Trial 30 finished with value: 0.9533333333333333 and parameters: {'n_estimators': 27, 'max_depth': 24, 'min_samples_split': 9, 'min_samples_leaf': 9, 'criterion': 'gini'}. Best is trial 1 with value: 0.96.\n",
      "[I 2025-07-02 22:38:28,606] Trial 31 finished with value: 0.96 and parameters: {'n_estimators': 54, 'max_depth': 30, 'min_samples_split': 7, 'min_samples_leaf': 11, 'criterion': 'entropy'}. Best is trial 1 with value: 0.96.\n",
      "[I 2025-07-02 22:38:28,879] Trial 32 finished with value: 0.96 and parameters: {'n_estimators': 49, 'max_depth': 27, 'min_samples_split': 6, 'min_samples_leaf': 6, 'criterion': 'entropy'}. Best is trial 1 with value: 0.96.\n",
      "[I 2025-07-02 22:38:29,291] Trial 33 finished with value: 0.96 and parameters: {'n_estimators': 73, 'max_depth': 21, 'min_samples_split': 4, 'min_samples_leaf': 9, 'criterion': 'entropy'}. Best is trial 1 with value: 0.96.\n",
      "[I 2025-07-02 22:38:29,637] Trial 34 finished with value: 0.96 and parameters: {'n_estimators': 58, 'max_depth': 14, 'min_samples_split': 7, 'min_samples_leaf': 12, 'criterion': 'entropy'}. Best is trial 1 with value: 0.96.\n",
      "[I 2025-07-02 22:38:29,835] Trial 35 finished with value: 0.9533333333333333 and parameters: {'n_estimators': 29, 'max_depth': 25, 'min_samples_split': 5, 'min_samples_leaf': 17, 'criterion': 'entropy'}. Best is trial 1 with value: 0.96.\n",
      "[I 2025-07-02 22:38:30,417] Trial 36 finished with value: 0.96 and parameters: {'n_estimators': 111, 'max_depth': 20, 'min_samples_split': 3, 'min_samples_leaf': 7, 'criterion': 'entropy'}. Best is trial 1 with value: 0.96.\n",
      "[I 2025-07-02 22:38:31,294] Trial 37 finished with value: 0.9533333333333333 and parameters: {'n_estimators': 186, 'max_depth': 4, 'min_samples_split': 18, 'min_samples_leaf': 4, 'criterion': 'gini'}. Best is trial 1 with value: 0.96.\n",
      "[I 2025-07-02 22:38:31,580] Trial 38 finished with value: 0.9533333333333333 and parameters: {'n_estimators': 46, 'max_depth': 10, 'min_samples_split': 14, 'min_samples_leaf': 9, 'criterion': 'gini'}. Best is trial 1 with value: 0.96.\n",
      "[I 2025-07-02 22:38:32,059] Trial 39 finished with value: 0.96 and parameters: {'n_estimators': 93, 'max_depth': 15, 'min_samples_split': 11, 'min_samples_leaf': 15, 'criterion': 'entropy'}. Best is trial 1 with value: 0.96.\n",
      "[I 2025-07-02 22:38:32,816] Trial 40 finished with value: 0.96 and parameters: {'n_estimators': 149, 'max_depth': 5, 'min_samples_split': 6, 'min_samples_leaf': 1, 'criterion': 'gini'}. Best is trial 1 with value: 0.96.\n",
      "[I 2025-07-02 22:38:33,297] Trial 41 finished with value: 0.96 and parameters: {'n_estimators': 94, 'max_depth': 2, 'min_samples_split': 15, 'min_samples_leaf': 20, 'criterion': 'gini'}. Best is trial 1 with value: 0.96.\n",
      "[I 2025-07-02 22:38:33,713] Trial 42 finished with value: 0.9533333333333333 and parameters: {'n_estimators': 74, 'max_depth': 18, 'min_samples_split': 13, 'min_samples_leaf': 18, 'criterion': 'gini'}. Best is trial 1 with value: 0.96.\n",
      "[I 2025-07-02 22:38:34,060] Trial 43 finished with value: 0.9533333333333333 and parameters: {'n_estimators': 64, 'max_depth': 3, 'min_samples_split': 16, 'min_samples_leaf': 18, 'criterion': 'gini'}. Best is trial 1 with value: 0.96.\n",
      "[I 2025-07-02 22:38:34,575] Trial 44 finished with value: 0.96 and parameters: {'n_estimators': 102, 'max_depth': 31, 'min_samples_split': 9, 'min_samples_leaf': 19, 'criterion': 'gini'}. Best is trial 1 with value: 0.96.\n",
      "[I 2025-07-02 22:38:34,720] Trial 45 finished with value: 0.9466666666666667 and parameters: {'n_estimators': 18, 'max_depth': 4, 'min_samples_split': 20, 'min_samples_leaf': 20, 'criterion': 'gini'}. Best is trial 1 with value: 0.96.\n",
      "[I 2025-07-02 22:38:35,411] Trial 46 finished with value: 0.96 and parameters: {'n_estimators': 131, 'max_depth': 27, 'min_samples_split': 18, 'min_samples_leaf': 19, 'criterion': 'gini'}. Best is trial 1 with value: 0.96.\n",
      "[I 2025-07-02 22:38:35,970] Trial 47 finished with value: 0.9533333333333333 and parameters: {'n_estimators': 109, 'max_depth': 6, 'min_samples_split': 12, 'min_samples_leaf': 16, 'criterion': 'gini'}. Best is trial 1 with value: 0.96.\n",
      "[I 2025-07-02 22:38:36,880] Trial 48 finished with value: 0.9533333333333333 and parameters: {'n_estimators': 200, 'max_depth': 2, 'min_samples_split': 16, 'min_samples_leaf': 6, 'criterion': 'gini'}. Best is trial 1 with value: 0.96.\n",
      "[I 2025-07-02 22:38:37,756] Trial 49 finished with value: 0.96 and parameters: {'n_estimators': 177, 'max_depth': 18, 'min_samples_split': 9, 'min_samples_leaf': 10, 'criterion': 'gini'}. Best is trial 1 with value: 0.96.\n"
     ]
    },
    {
     "name": "stdout",
     "output_type": "stream",
     "text": [
      "Best trial:\n",
      "FrozenTrial(number=1, state=1, values=[0.96], datetime_start=datetime.datetime(2025, 7, 2, 22, 38, 7, 130304), datetime_complete=datetime.datetime(2025, 7, 2, 22, 38, 7, 707391), params={'n_estimators': 80, 'max_depth': 6, 'min_samples_split': 17, 'min_samples_leaf': 20, 'criterion': 'gini'}, user_attrs={}, system_attrs={}, intermediate_values={}, distributions={'n_estimators': IntDistribution(high=200, log=False, low=10, step=1), 'max_depth': IntDistribution(high=32, log=True, low=2, step=1), 'min_samples_split': IntDistribution(high=20, log=False, low=2, step=1), 'min_samples_leaf': IntDistribution(high=20, log=False, low=1, step=1), 'criterion': CategoricalDistribution(choices=('gini', 'entropy'))}, trial_id=1, value=None)\n"
     ]
    }
   ],
   "source": [
    "import optuna\n",
    "from sklearn.datasets import load_iris\n",
    "from sklearn.model_selection import cross_val_score\n",
    "from sklearn.ensemble import RandomForestClassifier\n",
    "from sklearn.model_selection import StratifiedKFold\n",
    "\n",
    "# Load dataset\n",
    "data = load_iris()\n",
    "X = data.data\n",
    "y = data.target\n",
    "\n",
    "def objective(trial):\n",
    "    # Suggest hyperparameters\n",
    "    n_estimators = trial.suggest_int('n_estimators', 10, 200)\n",
    "    max_depth = trial.suggest_int('max_depth', 2, 32, log=True)\n",
    "    min_samples_split = trial.suggest_int('min_samples_split', 2, 20)\n",
    "    min_samples_leaf = trial.suggest_int('min_samples_leaf', 1, 20)\n",
    "    criterion = trial.suggest_categorical('criterion', ['gini', 'entropy'])  # categorical hyperparameter\n",
    "\n",
    "    clf = RandomForestClassifier(\n",
    "        n_estimators=n_estimators,\n",
    "        max_depth=max_depth,\n",
    "        min_samples_split=min_samples_split,\n",
    "        min_samples_leaf=min_samples_leaf,\n",
    "        criterion=criterion,\n",
    "        random_state=42,\n",
    "        n_jobs=-1\n",
    "    )\n",
    "    \n",
    "    cv = StratifiedKFold(n_splits=3, shuffle=True, random_state=42)\n",
    "    scores = cross_val_score(clf, X, y, cv=cv, scoring='accuracy')\n",
    "    \n",
    "    return scores.mean()\n",
    "\n",
    "study = optuna.create_study(direction='maximize')\n",
    "study.optimize(objective, n_trials=50)\n",
    "\n",
    "print(\"Best trial:\")\n",
    "trial = study.best_trial\n",
    "\n",
    "print(trial)\n"
   ]
  },
  {
   "cell_type": "code",
   "execution_count": 6,
   "id": "86fa7d89",
   "metadata": {},
   "outputs": [
    {
     "data": {
      "text/plain": [
       "FrozenTrial(number=1, state=1, values=[0.96], datetime_start=datetime.datetime(2025, 7, 2, 22, 38, 7, 130304), datetime_complete=datetime.datetime(2025, 7, 2, 22, 38, 7, 707391), params={'n_estimators': 80, 'max_depth': 6, 'min_samples_split': 17, 'min_samples_leaf': 20, 'criterion': 'gini'}, user_attrs={}, system_attrs={}, intermediate_values={}, distributions={'n_estimators': IntDistribution(high=200, log=False, low=10, step=1), 'max_depth': IntDistribution(high=32, log=True, low=2, step=1), 'min_samples_split': IntDistribution(high=20, log=False, low=2, step=1), 'min_samples_leaf': IntDistribution(high=20, log=False, low=1, step=1), 'criterion': CategoricalDistribution(choices=('gini', 'entropy'))}, trial_id=1, value=None)"
      ]
     },
     "metadata": {},
     "output_type": "display_data"
    },
    {
     "data": {
      "text/plain": [
       "{'n_estimators': 80,\n",
       " 'max_depth': 6,\n",
       " 'min_samples_split': 17,\n",
       " 'min_samples_leaf': 20,\n",
       " 'criterion': 'gini'}"
      ]
     },
     "metadata": {},
     "output_type": "display_data"
    }
   ],
   "source": [
    "display(trial)\n",
    "display(trial.params)"
   ]
  }
 ],
 "metadata": {
  "kernelspec": {
   "display_name": "Python 3",
   "language": "python",
   "name": "python3"
  },
  "language_info": {
   "codemirror_mode": {
    "name": "ipython",
    "version": 3
   },
   "file_extension": ".py",
   "mimetype": "text/x-python",
   "name": "python",
   "nbconvert_exporter": "python",
   "pygments_lexer": "ipython3",
   "version": "3.12.1"
  }
 },
 "nbformat": 4,
 "nbformat_minor": 5
}
